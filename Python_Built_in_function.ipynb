{
  "nbformat": 4,
  "nbformat_minor": 5,
  "metadata": {
    "kernelspec": {
      "display_name": "Python 3",
      "language": "python",
      "name": "python3"
    },
    "language_info": {
      "codemirror_mode": {
        "name": "ipython",
        "version": 3
      },
      "file_extension": ".py",
      "mimetype": "text/x-python",
      "name": "python",
      "nbconvert_exporter": "python",
      "pygments_lexer": "ipython3",
      "version": "3.7.10"
    },
    "toc": {
      "base_numbering": 1,
      "nav_menu": {},
      "number_sections": true,
      "sideBar": true,
      "skip_h1_title": false,
      "title_cell": "Table of Contents",
      "title_sidebar": "Contents",
      "toc_cell": true,
      "toc_position": {},
      "toc_section_display": true,
      "toc_window_display": false
    },
    "colab": {
      "name": "Python_Built_in_function.ipynb",
      "provenance": [],
      "include_colab_link": true
    }
  },
  "cells": [
    {
      "cell_type": "markdown",
      "metadata": {
        "id": "view-in-github",
        "colab_type": "text"
      },
      "source": [
        "<a href=\"https://colab.research.google.com/github/finddme/Python/blob/master/Python_Built_in_function.ipynb\" target=\"_parent\"><img src=\"https://colab.research.google.com/assets/colab-badge.svg\" alt=\"Open In Colab\"/></a>"
      ]
    },
    {
      "cell_type": "markdown",
      "metadata": {
        "toc": true,
        "id": "60fe9519"
      },
      "source": [
        "<h1>Table of Contents<span class=\"tocSkip\"></span></h1>\n",
        "<div class=\"toc\"><ul class=\"toc-item\"><li><span><a href=\"#내장함수\" data-toc-modified-id=\"내장함수-1\"><span class=\"toc-item-num\">1&nbsp;&nbsp;</span>내장함수</a></span><ul class=\"toc-item\"><li><span><a href=\"#내장함수-|-input()\" data-toc-modified-id=\"내장함수-|-input()-1.1\"><span class=\"toc-item-num\">1.1&nbsp;&nbsp;</span>내장함수 | input()</a></span></li><li><span><a href=\"#내장함수-|-int(문자열/실수)\" data-toc-modified-id=\"내장함수-|-int(문자열/실수)-1.2\"><span class=\"toc-item-num\">1.2&nbsp;&nbsp;</span>내장함수 | int(문자열/실수)</a></span></li><li><span><a href=\"#내장함수-|-float(문자열/정수)\" data-toc-modified-id=\"내장함수-|-float(문자열/정수)-1.3\"><span class=\"toc-item-num\">1.3&nbsp;&nbsp;</span>내장함수 | float(문자열/정수)</a></span></li><li><span><a href=\"#내장함수-|-max(시퀀스-자료형),-min(시퀀스-자료형)\" data-toc-modified-id=\"내장함수-|-max(시퀀스-자료형),-min(시퀀스-자료형)-1.4\"><span class=\"toc-item-num\">1.4&nbsp;&nbsp;</span>내장함수 | max(시퀀스 자료형), min(시퀀스 자료형)</a></span></li><li><span><a href=\"#내장함수-|-bin(10진수),-hex(10진수)\" data-toc-modified-id=\"내장함수-|-bin(10진수),-hex(10진수)-1.5\"><span class=\"toc-item-num\">1.5&nbsp;&nbsp;</span>내장함수 | bin(10진수), hex(10진수)</a></span></li><li><span><a href=\"#내장함수-|-round(실수)\" data-toc-modified-id=\"내장함수-|-round(실수)-1.6\"><span class=\"toc-item-num\">1.6&nbsp;&nbsp;</span>내장함수 | round(실수)</a></span></li><li><span><a href=\"#내장함수-|-type(자료형)\" data-toc-modified-id=\"내장함수-|-type(자료형)-1.7\"><span class=\"toc-item-num\">1.7&nbsp;&nbsp;</span>내장함수 | type(자료형)</a></span></li></ul></li></ul></div>"
      ],
      "id": "60fe9519"
    },
    {
      "cell_type": "markdown",
      "metadata": {
        "id": "c64fc6d2"
      },
      "source": [
        "## 내장함수\n",
        "\n",
        "파이썬은 다양한 내장함수를 지원한다. 파이썬의 기본 내장함수를 통해 프로그램을 비교적 간단하게 작성할 수 있다.\n",
        "\n",
        "문자열, 리스트, 튜플, 딕셔너리 자료형들도 다양한 내장함수를 가진다."
      ],
      "id": "c64fc6d2"
    },
    {
      "cell_type": "markdown",
      "metadata": {
        "id": "0ce8fb54"
      },
      "source": [
        "### 내장함수 | input()\n",
        "\n",
        "사용자로부터 콘솔로 입력을 받을 수 있게 하는 함수이다.\n",
        "\n",
        "사용자로부터 입력받은 값은 문자열로 처리가 된다."
      ],
      "id": "0ce8fb54"
    },
    {
      "cell_type": "code",
      "metadata": {
        "id": "96ab6f2b",
        "outputId": "3aebb6f8-0e5e-4527-973e-144da43df709"
      },
      "source": [
        "i = input(\"숫자를 입력하세요\") # \"숫자를 입력하세요\"창에 숫자를 입력하면, 입력한 숫자가 i에 들어간다.\n",
        "print(i) # i에 들어간 숫자를 출력"
      ],
      "id": "96ab6f2b",
      "execution_count": null,
      "outputs": [
        {
          "output_type": "stream",
          "text": [
            "숫자를 입력하세요4\n",
            "4\n"
          ],
          "name": "stdout"
        }
      ]
    },
    {
      "cell_type": "code",
      "metadata": {
        "id": "e8bc3b5a",
        "outputId": "5c5f30ac-e633-4036-832b-c057c5b1cd75"
      },
      "source": [
        "j = input(\"j: \")\n",
        "k = input(\"k: \")\n",
        "print(j + k) # 문자열로 들어간다. 그래서 숫자 연산이 안된다."
      ],
      "id": "e8bc3b5a",
      "execution_count": null,
      "outputs": [
        {
          "output_type": "stream",
          "text": [
            "j: 33\n",
            "k: 3\n",
            "333\n"
          ],
          "name": "stdout"
        }
      ]
    },
    {
      "cell_type": "code",
      "metadata": {
        "id": "e82fa37f",
        "outputId": "8b2e40e9-2ea3-468b-aca8-877364f633df"
      },
      "source": [
        "user_input = input(\"정수를 입력하세요: \") # 사용자가 입력한 내용이 user_input에 할당된다.\n",
        "# input()으로 입력받은 내용은 문자열로 처리되기 때문에 \n",
        "# 연산을 위해 int()함수를 통해 숫자로 바꿔준다.\n",
        "print(\"제곱:\", int(user_input) ** 2) "
      ],
      "id": "e82fa37f",
      "execution_count": null,
      "outputs": [
        {
          "output_type": "stream",
          "text": [
            "정수를 입력하세요: 3\n",
            "제곱: 9\n"
          ],
          "name": "stdout"
        }
      ]
    },
    {
      "cell_type": "markdown",
      "metadata": {
        "id": "b7efcc16"
      },
      "source": [
        "### 내장함수 | int(문자열/실수)\n",
        "\n",
        "int()함수는 정수 자료형으로 변환해주는 함수이다. 문자열, 실수 등을 정수로 바꿔준다."
      ],
      "id": "b7efcc16"
    },
    {
      "cell_type": "code",
      "metadata": {
        "id": "eefd32f7",
        "outputId": "db96c676-9ee2-4ca7-f662-c50c3713d180"
      },
      "source": [
        "a = \"123\"\n",
        "b = 12.3 # 실수형을 정수형으로 변경하면 소수점 이하는 탈락된다.\n",
        "print(int(a), int(b))"
      ],
      "id": "eefd32f7",
      "execution_count": null,
      "outputs": [
        {
          "output_type": "stream",
          "text": [
            "123 12\n"
          ],
          "name": "stdout"
        }
      ]
    },
    {
      "cell_type": "markdown",
      "metadata": {
        "id": "c8c35a76"
      },
      "source": [
        "### 내장함수 | float(문자열/정수)\n",
        "\n",
        "문자열, 정수 등을 실수로 바꿔준다."
      ],
      "id": "c8c35a76"
    },
    {
      "cell_type": "code",
      "metadata": {
        "id": "a229675b",
        "outputId": "f70787c3-2d16-4c00-ae79-8d85e0971785"
      },
      "source": [
        "c = 10\n",
        "print(float(c))"
      ],
      "id": "a229675b",
      "execution_count": null,
      "outputs": [
        {
          "output_type": "stream",
          "text": [
            "10.0\n"
          ],
          "name": "stdout"
        }
      ]
    },
    {
      "cell_type": "markdown",
      "metadata": {
        "id": "d28e1f38"
      },
      "source": [
        "### 내장함수 | max(시퀀스 자료형), min(시퀀스 자료형)\n",
        "\n",
        "시퀀스 자료형에 포함된 원소의 최댓값 혹은 최솟값을 구하는 함수이다."
      ],
      "id": "d28e1f38"
    },
    {
      "cell_type": "code",
      "metadata": {
        "id": "3bb5431b",
        "outputId": "7a18dc05-ad06-4964-91f1-3f460df0b8c2"
      },
      "source": [
        "list1 = [2 ,4 ,9, 11, 8, 3, 15] # 시퀀스 자료형 중 하나인 list 자료형을 하나 만든다.\n",
        "# list자료형의 최댓값과 최솟값을 구한다.\n",
        "print(\" max:\", max(list1),\"\\n\",\"min:\", min(list1))"
      ],
      "id": "3bb5431b",
      "execution_count": null,
      "outputs": [
        {
          "output_type": "stream",
          "text": [
            " max: 15 \n",
            " min: 2\n"
          ],
          "name": "stdout"
        }
      ]
    },
    {
      "cell_type": "code",
      "metadata": {
        "id": "d341c00d",
        "outputId": "6ea61041-5614-433e-9968-ebadd718f02e"
      },
      "source": [
        "list2 = ['A', 'B', 'C', 'D', 'E'] # 문자의 경우 사전상 앞에 나올 수록 작은 값이다.\n",
        "print(\" max:\", max(list2),\"\\n\",\"min:\", min(list2))"
      ],
      "id": "d341c00d",
      "execution_count": null,
      "outputs": [
        {
          "output_type": "stream",
          "text": [
            " max: E \n",
            " min: A\n"
          ],
          "name": "stdout"
        }
      ]
    },
    {
      "cell_type": "markdown",
      "metadata": {
        "id": "dc7bb554"
      },
      "source": [
        "### 내장함수 | bin(10진수), hex(10진수)\n",
        "\n",
        "bin()함수는 10진수를 2진수로 변환할 때 사용되고,\n",
        "\n",
        "hex()함수는 10수를 16진수로 변환할 때 사용된다.\n",
        "\n",
        "두 함수의 반환값은 문자열이라는 점 유의."
      ],
      "id": "dc7bb554"
    },
    {
      "cell_type": "code",
      "metadata": {
        "id": "018d1af0",
        "outputId": "06bda2fb-e9ad-4943-e108-d8972183cd03"
      },
      "source": [
        "print(bin(256)) # 256이라는 수를 2진수로 변환\n",
        "# -> 0b100000000\n",
        "#     |\n",
        "#     binary의 약자. 이 값은 2진수라는 것을 알리는 문자이다."
      ],
      "id": "018d1af0",
      "execution_count": null,
      "outputs": [
        {
          "output_type": "stream",
          "text": [
            "0b100000000\n"
          ],
          "name": "stdout"
        }
      ]
    },
    {
      "cell_type": "code",
      "metadata": {
        "id": "fbba5544",
        "outputId": "70a12493-caf3-4984-f9cb-9520d8fd7148"
      },
      "source": [
        "print(hex(1000)) # 1000이라는 수를 16진수로 변환\n",
        "# 0x3e8\n",
        "#  |\n",
        "#  hexadecimal의 약자. 이 값은 16진수라는 것을 알리는 문자이다."
      ],
      "id": "fbba5544",
      "execution_count": null,
      "outputs": [
        {
          "output_type": "stream",
          "text": [
            "0x3e8\n"
          ],
          "name": "stdout"
        }
      ]
    },
    {
      "cell_type": "code",
      "metadata": {
        "id": "000470a6",
        "outputId": "ede95de9-d11e-4762-f11f-b16fcb91b40e"
      },
      "source": [
        "# 2진수와 16수를 10진수를 변환하려면 int()함수를 써준다.\n",
        "# int('2진수/16진수 문자',해당 값의 진수)\n",
        "print(int('0xe6', 16)) # 16진수인 '0xe6'를 10진수로 바꾸겠다.\n",
        "print(int('0b10000000', 2)) # 2진수인 '0b10000000'를 10진수로 바꾸겠다."
      ],
      "id": "000470a6",
      "execution_count": null,
      "outputs": [
        {
          "output_type": "stream",
          "text": [
            "230\n",
            "128\n"
          ],
          "name": "stdout"
        }
      ]
    },
    {
      "cell_type": "markdown",
      "metadata": {
        "id": "50e3efe6"
      },
      "source": [
        "### 내장함수 | round(실수)\n",
        "\n",
        "round()함수는 반올림을 해주는 함수이다."
      ],
      "id": "50e3efe6"
    },
    {
      "cell_type": "code",
      "metadata": {
        "id": "48ffc9cf",
        "outputId": "5e7b8207-a137-4f63-bf8c-dd605625498c"
      },
      "source": [
        "print(round(123.8)) # 123.8을 반올림하겠다"
      ],
      "id": "48ffc9cf",
      "execution_count": null,
      "outputs": [
        {
          "output_type": "stream",
          "text": [
            "124\n"
          ],
          "name": "stdout"
        }
      ]
    },
    {
      "cell_type": "code",
      "metadata": {
        "id": "d72389c2",
        "outputId": "6d86d15e-9293-4e0b-df91-88b5a242636f"
      },
      "source": [
        "# round()함수의 두 번째 매개변수를 통해 소수점 몇 번째 자리에서 반올림하겠다고 정할 수 있다.\n",
        "# 이 매개변수는 0이 기본이다. 입력하지 않으면 소수점 1번째 자리에서 반올림한다.\n",
        "print(round(123.8, 0))"
      ],
      "id": "d72389c2",
      "execution_count": null,
      "outputs": [
        {
          "output_type": "stream",
          "text": [
            "124.0\n"
          ],
          "name": "stdout"
        }
      ]
    },
    {
      "cell_type": "code",
      "metadata": {
        "id": "88eb2448",
        "outputId": "40eb5c7d-0a17-4e3b-fccc-bd590187295f"
      },
      "source": [
        "# 소수점 3번째 자리에서 반올림하겠다.\n",
        "print(round(123.879, 2))"
      ],
      "id": "88eb2448",
      "execution_count": null,
      "outputs": [
        {
          "output_type": "stream",
          "text": [
            "123.88\n"
          ],
          "name": "stdout"
        }
      ]
    },
    {
      "cell_type": "code",
      "metadata": {
        "id": "d564c3dc",
        "outputId": "c91fd337-9c0f-41d8-ae16-9e58de5d7534"
      },
      "source": [
        "# -1을 넣으면 소수점 이상 1번째 자리에서 반올림한다.\n",
        "print(round(123, -1))"
      ],
      "id": "d564c3dc",
      "execution_count": null,
      "outputs": [
        {
          "output_type": "stream",
          "text": [
            "120\n"
          ],
          "name": "stdout"
        }
      ]
    },
    {
      "cell_type": "markdown",
      "metadata": {
        "id": "c140f355"
      },
      "source": [
        "### 내장함수 | type(자료형)\n",
        "\n",
        "type()함수는 자료형의 종류를 알려주는 함수이다."
      ],
      "id": "c140f355"
    },
    {
      "cell_type": "code",
      "metadata": {
        "id": "203f1d77",
        "outputId": "00e98764-a9d0-4e31-a902-91a90375b490"
      },
      "source": [
        "# 다양한 자료형을 만들고\n",
        "i = 1\n",
        "s = \"문자열\"\n",
        "l = ['리', '스', '트']\n",
        "d = {}\n",
        "d['안녕'] = 'Hello'\n",
        "\n",
        "# type()함수에 넣어보자\n",
        "print(\"i:\", type(i), \"s:\", type(s), \"l:\", type(l),\"d:\", type(d))"
      ],
      "id": "203f1d77",
      "execution_count": null,
      "outputs": [
        {
          "output_type": "stream",
          "text": [
            "i: <class 'int'> s: <class 'str'> l: <class 'list'> d: <class 'dict'>\n"
          ],
          "name": "stdout"
        }
      ]
    },
    {
      "cell_type": "code",
      "metadata": {
        "id": "f47656fe"
      },
      "source": [
        ""
      ],
      "id": "f47656fe",
      "execution_count": null,
      "outputs": []
    }
  ]
}