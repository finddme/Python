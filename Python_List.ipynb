{
  "nbformat": 4,
  "nbformat_minor": 5,
  "metadata": {
    "kernelspec": {
      "display_name": "Python 3",
      "language": "python",
      "name": "python3"
    },
    "language_info": {
      "codemirror_mode": {
        "name": "ipython",
        "version": 3
      },
      "file_extension": ".py",
      "mimetype": "text/x-python",
      "name": "python",
      "nbconvert_exporter": "python",
      "pygments_lexer": "ipython3",
      "version": "3.7.10"
    },
    "toc": {
      "base_numbering": 1,
      "nav_menu": {},
      "number_sections": true,
      "sideBar": true,
      "skip_h1_title": false,
      "title_cell": "Table of Contents",
      "title_sidebar": "Contents",
      "toc_cell": true,
      "toc_position": {},
      "toc_section_display": true,
      "toc_window_display": false
    },
    "colab": {
      "name": "Python_List.ipynb",
      "provenance": [],
      "include_colab_link": true
    }
  },
  "cells": [
    {
      "cell_type": "markdown",
      "metadata": {
        "id": "view-in-github",
        "colab_type": "text"
      },
      "source": [
        "<a href=\"https://colab.research.google.com/github/finddme/Python/blob/master/Python_List.ipynb\" target=\"_parent\"><img src=\"https://colab.research.google.com/assets/colab-badge.svg\" alt=\"Open In Colab\"/></a>"
      ]
    },
    {
      "cell_type": "markdown",
      "metadata": {
        "toc": true,
        "id": "44df8a4e"
      },
      "source": [
        "<h1>Table of Contents<span class=\"tocSkip\"></span></h1>\n",
        "<div class=\"toc\"><ul class=\"toc-item\"><li><span><a href=\"#리스트(List)-자료형\" data-toc-modified-id=\"리스트(List)-자료형-1\"><span class=\"toc-item-num\">1&nbsp;&nbsp;</span>리스트(List) 자료형</a></span><ul class=\"toc-item\"><li><span><a href=\"#리스트-자료형-|-개별-원소-|-접근\" data-toc-modified-id=\"리스트-자료형-|-개별-원소-|-접근-1.1\"><span class=\"toc-item-num\">1.1&nbsp;&nbsp;</span>리스트 자료형 | 개별 원소 | 접근</a></span></li><li><span><a href=\"#리스트-자료형-|-개별-원소-|-변경\" data-toc-modified-id=\"리스트-자료형-|-개별-원소-|-변경-1.2\"><span class=\"toc-item-num\">1.2&nbsp;&nbsp;</span>리스트 자료형 | 개별 원소 | 변경</a></span></li><li><span><a href=\"#리스트-자료형-|-개별원소-|-합(반복문-사용)\" data-toc-modified-id=\"리스트-자료형-|-개별원소-|-합(반복문-사용)-1.3\"><span class=\"toc-item-num\">1.3&nbsp;&nbsp;</span>리스트 자료형 | 개별원소 | 합(반복문 사용)</a></span></li><li><span><a href=\"#리스트-자료형-|-다차원-배열\" data-toc-modified-id=\"리스트-자료형-|-다차원-배열-1.4\"><span class=\"toc-item-num\">1.4&nbsp;&nbsp;</span>리스트 자료형 | 다차원 배열</a></span></li><li><span><a href=\"#리스트-자료형-|-함수\" data-toc-modified-id=\"리스트-자료형-|-함수-1.5\"><span class=\"toc-item-num\">1.5&nbsp;&nbsp;</span>리스트 자료형 | 함수</a></span></li><li><span><a href=\"#리스트-자료형-|-함수-|-count(원소)\" data-toc-modified-id=\"리스트-자료형-|-함수-|-count(원소)-1.6\"><span class=\"toc-item-num\">1.6&nbsp;&nbsp;</span>리스트 자료형 | 함수 | count(원소)</a></span></li><li><span><a href=\"#리스트-자료형-|-함수-|-index(원소)\" data-toc-modified-id=\"리스트-자료형-|-함수-|-index(원소)-1.7\"><span class=\"toc-item-num\">1.7&nbsp;&nbsp;</span>리스트 자료형 | 함수 | index(원소)</a></span></li><li><span><a href=\"#리스트-자료형-|-함수-|-append(새로운-원소)\" data-toc-modified-id=\"리스트-자료형-|-함수-|-append(새로운-원소)-1.8\"><span class=\"toc-item-num\">1.8&nbsp;&nbsp;</span>리스트 자료형 | 함수 | append(새로운 원소)</a></span></li><li><span><a href=\"#리스트-자료형-|-함수-|-sort()\" data-toc-modified-id=\"리스트-자료형-|-함수-|-sort()-1.9\"><span class=\"toc-item-num\">1.9&nbsp;&nbsp;</span>리스트 자료형 | 함수 | sort()</a></span></li><li><span><a href=\"#리스트-자료형-|-함수-|-extend(리스트)\" data-toc-modified-id=\"리스트-자료형-|-함수-|-extend(리스트)-1.10\"><span class=\"toc-item-num\">1.10&nbsp;&nbsp;</span>리스트 자료형 | 함수 | extend(리스트)</a></span></li><li><span><a href=\"#리스트-자료형-|-함수-|-insert(인덱스,-원소)\" data-toc-modified-id=\"리스트-자료형-|-함수-|-insert(인덱스,-원소)-1.11\"><span class=\"toc-item-num\">1.11&nbsp;&nbsp;</span>리스트 자료형 | 함수 | insert(인덱스, 원소)</a></span></li><li><span><a href=\"#리스트-자료형-|-함수-|-remove(원소)\" data-toc-modified-id=\"리스트-자료형-|-함수-|-remove(원소)-1.12\"><span class=\"toc-item-num\">1.12&nbsp;&nbsp;</span>리스트 자료형 | 함수 | remove(원소)</a></span></li><li><span><a href=\"#리스트-자료형-|-함수-|-pop(인덱스)\" data-toc-modified-id=\"리스트-자료형-|-함수-|-pop(인덱스)-1.13\"><span class=\"toc-item-num\">1.13&nbsp;&nbsp;</span>리스트 자료형 | 함수 | pop(인덱스)</a></span></li><li><span><a href=\"#리스트-자료형-|-함수-|-reverse()\" data-toc-modified-id=\"리스트-자료형-|-함수-|-reverse()-1.14\"><span class=\"toc-item-num\">1.14&nbsp;&nbsp;</span>리스트 자료형 | 함수 | reverse()</a></span></li><li><span><a href=\"#리스트-자료형-|-함수-|-slicing이용해서-뒤집기\" data-toc-modified-id=\"리스트-자료형-|-함수-|-slicing이용해서-뒤집기-1.15\"><span class=\"toc-item-num\">1.15&nbsp;&nbsp;</span>리스트 자료형 | 함수 | slicing이용해서 뒤집기</a></span></li><li><span><a href=\"#리스트-자료형-|-함수-|-sum(리스트-자료형)\" data-toc-modified-id=\"리스트-자료형-|-함수-|-sum(리스트-자료형)-1.16\"><span class=\"toc-item-num\">1.16&nbsp;&nbsp;</span>리스트 자료형 | 함수 | sum(리스트 자료형)</a></span></li><li><span><a href=\"#리스트-자료형-|-함수-|-range(시작,-끝-1)\" data-toc-modified-id=\"리스트-자료형-|-함수-|-range(시작,-끝-1)-1.17\"><span class=\"toc-item-num\">1.17&nbsp;&nbsp;</span>리스트 자료형 | 함수 | range(시작, 끝-1)</a></span></li><li><span><a href=\"#리스트-자료형-|-함수-|-all(),-any()\" data-toc-modified-id=\"리스트-자료형-|-함수-|-all(),-any()-1.18\"><span class=\"toc-item-num\">1.18&nbsp;&nbsp;</span>리스트 자료형 | 함수 | all(), any()</a></span></li><li><span><a href=\"#리스트-자료형-|-함수-|-enumerate(리스트-자료형)\" data-toc-modified-id=\"리스트-자료형-|-함수-|-enumerate(리스트-자료형)-1.19\"><span class=\"toc-item-num\">1.19&nbsp;&nbsp;</span>리스트 자료형 | 함수 | enumerate(리스트 자료형)</a></span></li><li><span><a href=\"#리스트-자료형-|-함수-|-sort()\" data-toc-modified-id=\"리스트-자료형-|-함수-|-sort()-1.20\"><span class=\"toc-item-num\">1.20&nbsp;&nbsp;</span>리스트 자료형 | 함수 | sort()</a></span></li><li><span><a href=\"#리스트-자료형-|-함수-|-count(원소)\" data-toc-modified-id=\"리스트-자료형-|-함수-|-count(원소)-1.21\"><span class=\"toc-item-num\">1.21&nbsp;&nbsp;</span>리스트 자료형 | 함수 | count(원소)</a></span></li><li><span><a href=\"#리스트-자료형-|-함수-|-del\" data-toc-modified-id=\"리스트-자료형-|-함수-|-del-1.22\"><span class=\"toc-item-num\">1.22&nbsp;&nbsp;</span>리스트 자료형 | 함수 | del</a></span></li><li><span><a href=\"#리스트-자료형-|-함수-|-insert(인덱스,-삽입할-원소)\" data-toc-modified-id=\"리스트-자료형-|-함수-|-insert(인덱스,-삽입할-원소)-1.23\"><span class=\"toc-item-num\">1.23&nbsp;&nbsp;</span>리스트 자료형 | 함수 | insert(인덱스, 삽입할 원소)</a></span></li><li><span><a href=\"#리스트-자료형-|-함수-|-append(원소)\" data-toc-modified-id=\"리스트-자료형-|-함수-|-append(원소)-1.24\"><span class=\"toc-item-num\">1.24&nbsp;&nbsp;</span>리스트 자료형 | 함수 | append(원소)</a></span></li></ul></li></ul></div>"
      ],
      "id": "44df8a4e"
    },
    {
      "cell_type": "markdown",
      "metadata": {
        "id": "e782f1cb"
      },
      "source": [
        "## 리스트(List) 자료형"
      ],
      "id": "e782f1cb"
    },
    {
      "cell_type": "code",
      "metadata": {
        "id": "73134fd5"
      },
      "source": [
        "'''\n",
        "# List\n",
        "\n",
        "리스트(list)자료형을 통해 많은 양의 데이터를 효과적으로 관리할 수 있다.\n",
        "리스트에는 같은 자료형을 가진 객체들이 나열될 수 있다. \n",
        "\n",
        "리스트는 대괄호([])안에 각 데이터들을 콤마(,)를 기준으로 구분하여 값을 할당할 수 있다.\n",
        "a = [30, 90, 20, 50]\n",
        "'''\n",
        "\n",
        "'''\n",
        "# Index\n",
        "\n",
        "리스트, 튜플, 딕셔너리 등과 같은 배열에는 원소들에 index가 부여된다.\n",
        "index의 순서는 0부터 시작된다.\n",
        "a = [ 20, 40, 60, 70]\n",
        "       |   |   |   |\n",
        "       0   1   2   3   -> Index\n",
        "'''"
      ],
      "id": "73134fd5",
      "execution_count": null,
      "outputs": []
    },
    {
      "cell_type": "markdown",
      "metadata": {
        "id": "52ab4882"
      },
      "source": [
        "### 리스트 자료형 | 개별 원소 | 접근\n",
        "\n",
        "인덱스를 통해 리스트 자료형에 존재하는 개별원소들에 접근할 수 있다."
      ],
      "id": "52ab4882"
    },
    {
      "cell_type": "code",
      "metadata": {
        "id": "877f11df",
        "outputId": "2c9744d7-16b9-4625-f030-f7e8b3e8d14f"
      },
      "source": [
        "a = [10, 20, 30, 20 ,50, 60]\n",
        "print(\"인덱스0은 \", a[0], \"이다.\")"
      ],
      "id": "877f11df",
      "execution_count": null,
      "outputs": [
        {
          "output_type": "stream",
          "text": [
            "인덱스0은  10 이다.\n"
          ],
          "name": "stdout"
        }
      ]
    },
    {
      "cell_type": "markdown",
      "metadata": {
        "id": "54080b2c"
      },
      "source": [
        "### 리스트 자료형 | 개별 원소 | 변경"
      ],
      "id": "54080b2c"
    },
    {
      "cell_type": "code",
      "metadata": {
        "id": "c7d8eff7",
        "outputId": "28cb43e4-0da5-4469-909b-69d0a5288fec"
      },
      "source": [
        "a[0] = 900 # 리스트 a의 인덱스 0을 900으로 바꾼다.\n",
        "print(a)"
      ],
      "id": "c7d8eff7",
      "execution_count": null,
      "outputs": [
        {
          "output_type": "stream",
          "text": [
            "[900, 20, 30, 20, 50, 60]\n"
          ],
          "name": "stdout"
        }
      ]
    },
    {
      "cell_type": "markdown",
      "metadata": {
        "id": "901ff667"
      },
      "source": [
        "### 리스트 자료형 | 개별원소 | 합(반복문 사용)\n",
        "\n",
        "반복문을 사용하여 리스트 내 원소들의 합을 구할 수 있다."
      ],
      "id": "901ff667"
    },
    {
      "cell_type": "code",
      "metadata": {
        "id": "68e6a62c",
        "outputId": "bac78873-baa2-48c3-e403-4d9ad8e5e13b"
      },
      "source": [
        "age = [19, 20, 21, 22, 23, 24]\n",
        "sum = 0\n",
        "for i in age:   # age라는 리스트에 담겨있는 값에 접근하기 위해 i라는 변수를 사용한다. \n",
        "                # i는 age배열의 원소들에 하나씩 차례대로 접근하여 하나씩 i에 담아서 for문을 돈다.\n",
        "    sum = i + sum # sum은 0인 상태에서 i가 담아오는 age의 원소를 누적하여 더한 값을 담는다.\n",
        "print(\"평균 나이:\", sum/len(age)) # len()을 사용하여 age배열의 원소 개수를 구한다. \n",
        "                                # for문을 통해 구한 age배열의 총합과 나눠서 평균을 구한다."
      ],
      "id": "68e6a62c",
      "execution_count": null,
      "outputs": [
        {
          "output_type": "stream",
          "text": [
            "평균 나이: 21.5\n"
          ],
          "name": "stdout"
        }
      ]
    },
    {
      "cell_type": "markdown",
      "metadata": {
        "id": "a0aeef6f"
      },
      "source": [
        "### 리스트 자료형 | 다차원 배열\n",
        "\n",
        "리스트에는 같은 자료형을 가진 객체들이 나열될 수 있다. \n",
        "\n",
        "따라서 리스트 내부에 리스트들이 원소로 들어갈 수 있다. "
      ],
      "id": "a0aeef6f"
    },
    {
      "cell_type": "code",
      "metadata": {
        "id": "1e5b05e6",
        "outputId": "7225a950-8bbf-47a8-e3e1-4a02b0744c30"
      },
      "source": [
        "a = [\n",
        "    [90, 85, 95, 30 ,100],\n",
        "    [80, 70, 65, 100, 65]\n",
        "] # a배열의 경우는 이중 리스트(2차원 배열/ 2차원 리스트)이다.\n",
        "\n",
        "# a배열의 첫 번째 원소는 영어성적, 두 번째 배열은 독일어성적\n",
        "english = a[0]\n",
        "deutsch = a[1]\n",
        "\n",
        "sum = 0\n",
        "for i in english:\n",
        "    sum = i + sum\n",
        "print(\"영어평균:\", sum/len(english))\n",
        "\n",
        "sum1 = 0\n",
        "for i in deutsch:\n",
        "    sum1 = i + sum1\n",
        "print(\"독일어평균:\", sum1/len(deutsch))\n"
      ],
      "id": "1e5b05e6",
      "execution_count": null,
      "outputs": [
        {
          "output_type": "stream",
          "text": [
            "영어평균: 80.0\n",
            "독일어평균: 76.0\n"
          ],
          "name": "stdout"
        }
      ]
    },
    {
      "cell_type": "markdown",
      "metadata": {
        "id": "69ee2c21"
      },
      "source": [
        "### 리스트 자료형 | 함수\n",
        "\n",
        "파이썬의 리스트는 다양한 함수를 지원하기 때문에 연속적인 형태의 데이터를 쉽게 간단하게 관리할 수 있다."
      ],
      "id": "69ee2c21"
    },
    {
      "cell_type": "markdown",
      "metadata": {
        "id": "a401c3ec"
      },
      "source": [
        "### 리스트 자료형 | 함수 | count(원소)\n",
        "\n",
        "count()함수는 특정한 원소가 리스트내에 몇개 있는지 반환한다."
      ],
      "id": "a401c3ec"
    },
    {
      "cell_type": "code",
      "metadata": {
        "id": "27ca837a",
        "outputId": "92b3a9da-578f-4733-99d9-a06444425b46"
      },
      "source": [
        "a = [10, 20, 30 ,40, 50]\n",
        "print(a.count(20)) # a라는 변수에 20이 몇개 있냐"
      ],
      "id": "27ca837a",
      "execution_count": null,
      "outputs": [
        {
          "output_type": "stream",
          "text": [
            "1\n"
          ],
          "name": "stdout"
        }
      ]
    },
    {
      "cell_type": "markdown",
      "metadata": {
        "id": "14c786a1"
      },
      "source": [
        "### 리스트 자료형 | 함수 | index(원소)\n",
        "\n",
        "index()함수는 특정한 원소의 위치(인덱스)를 반환한다."
      ],
      "id": "14c786a1"
    },
    {
      "cell_type": "code",
      "metadata": {
        "id": "a5c4086f",
        "outputId": "905eacde-5992-4bb8-ffc6-fa87ec0bc815"
      },
      "source": [
        "list1 = ['스타벅스', '연유라떼', '맛있다', '또', '먹어야지']\n",
        "# list1에서 '맛있다'라는 우너소가 인덱스 몇에 있냐\n",
        "print(list1.index('맛있다')) "
      ],
      "id": "a5c4086f",
      "execution_count": null,
      "outputs": [
        {
          "output_type": "stream",
          "text": [
            "2\n"
          ],
          "name": "stdout"
        }
      ]
    },
    {
      "cell_type": "code",
      "metadata": {
        "id": "9ad6505c",
        "outputId": "e3447983-266a-4222-b2f4-ef514765dbfb"
      },
      "source": [
        "print(a.index(20)) # a라는 변수에 20이라는 값이 어느 인덱스에 위치하냐"
      ],
      "id": "9ad6505c",
      "execution_count": null,
      "outputs": [
        {
          "output_type": "stream",
          "text": [
            "1\n"
          ],
          "name": "stdout"
        }
      ]
    },
    {
      "cell_type": "code",
      "metadata": {
        "id": "e09a168b",
        "outputId": "0f3fc338-de00-4e3a-b3df-f71f3ec6183a"
      },
      "source": [
        "print(a.index(100)) # 해당 배열에 포함되지 않은 원소의 인덱스는 포함되지 않았다고 뜬다."
      ],
      "id": "e09a168b",
      "execution_count": null,
      "outputs": [
        {
          "output_type": "error",
          "ename": "ValueError",
          "evalue": "100 is not in list",
          "traceback": [
            "\u001b[1;31m---------------------------------------------------------------------------\u001b[0m",
            "\u001b[1;31mValueError\u001b[0m                                Traceback (most recent call last)",
            "\u001b[1;32m<ipython-input-7-be6e04c2d601>\u001b[0m in \u001b[0;36m<module>\u001b[1;34m\u001b[0m\n\u001b[1;32m----> 1\u001b[1;33m \u001b[0mprint\u001b[0m\u001b[1;33m(\u001b[0m\u001b[0ma\u001b[0m\u001b[1;33m.\u001b[0m\u001b[0mindex\u001b[0m\u001b[1;33m(\u001b[0m\u001b[1;36m100\u001b[0m\u001b[1;33m)\u001b[0m\u001b[1;33m)\u001b[0m \u001b[1;31m# 해당 배열에 포함되지 않은 원소의 인덱스는 포함되지 않았다고 뜬다.\u001b[0m\u001b[1;33m\u001b[0m\u001b[1;33m\u001b[0m\u001b[0m\n\u001b[0m",
            "\u001b[1;31mValueError\u001b[0m: 100 is not in list"
          ]
        }
      ]
    },
    {
      "cell_type": "markdown",
      "metadata": {
        "id": "3537e36d"
      },
      "source": [
        "### 리스트 자료형 | 함수 | append(새로운 원소)\n",
        "\n",
        "append()함수는 배열 마지막에 새로운 원소를 추가시켜준다."
      ],
      "id": "3537e36d"
    },
    {
      "cell_type": "code",
      "metadata": {
        "id": "6d04975c",
        "outputId": "3eee73e7-9884-4435-a19d-dd79eddf235c"
      },
      "source": [
        "a.append(100) # a배열 마지막에 100이라는 원소를 추가해라\n",
        "print(a)"
      ],
      "id": "6d04975c",
      "execution_count": null,
      "outputs": [
        {
          "output_type": "stream",
          "text": [
            "[10, 20, 30, 40, 50, 100]\n"
          ],
          "name": "stdout"
        }
      ]
    },
    {
      "cell_type": "markdown",
      "metadata": {
        "id": "d79f430a"
      },
      "source": [
        "### 리스트 자료형 | 함수 | sort()\n",
        "\n",
        "sort()함수는 정렬함수이다. 정렬의 기본 설정은 오름차순이다."
      ],
      "id": "d79f430a"
    },
    {
      "cell_type": "code",
      "metadata": {
        "id": "8e36d009",
        "outputId": "a82f9fa4-231a-4075-8d67-6bfad76b3417"
      },
      "source": [
        "a.sort() \n",
        "print(a)"
      ],
      "id": "8e36d009",
      "execution_count": null,
      "outputs": [
        {
          "output_type": "stream",
          "text": [
            "[10, 20, 30, 40, 50, 100]\n"
          ],
          "name": "stdout"
        }
      ]
    },
    {
      "cell_type": "markdown",
      "metadata": {
        "id": "7509a4c9"
      },
      "source": [
        "### 리스트 자료형 | 함수 | extend(리스트)\n",
        "\n",
        "extend()함수는 리스트 뒤에 리스트를 삽입할 수 있게 한다."
      ],
      "id": "7509a4c9"
    },
    {
      "cell_type": "code",
      "metadata": {
        "id": "16e470dd",
        "outputId": "ab21ad3f-441c-4a3b-e3db-435c58fb6c2f"
      },
      "source": [
        "b = [90, 80, 70]\n",
        "a.extend(b) # a리스트 뒤에 b리스트의 원소들을 붙여라\n",
        "print(a)"
      ],
      "id": "16e470dd",
      "execution_count": null,
      "outputs": [
        {
          "output_type": "stream",
          "text": [
            "[10, 20, 30, 40, 50, 100, 90, 80, 70]\n"
          ],
          "name": "stdout"
        }
      ]
    },
    {
      "cell_type": "markdown",
      "metadata": {
        "id": "521c1488"
      },
      "source": [
        "### 리스트 자료형 | 함수 | insert(인덱스, 원소)\n",
        "\n",
        "insert()는 특정 인덱스 위치에 특정 원소를 삽입할 수 있게 한다."
      ],
      "id": "521c1488"
    },
    {
      "cell_type": "code",
      "metadata": {
        "id": "ec657807",
        "outputId": "ce6f29b9-cf8c-4fd5-f1a4-a948a3607f44"
      },
      "source": [
        "a.insert(4, 400) # a리스트의 인덱스 4에 400을 삽입해라\n",
        "print(a)"
      ],
      "id": "ec657807",
      "execution_count": null,
      "outputs": [
        {
          "output_type": "stream",
          "text": [
            "[10, 20, 30, 40, 400, 50, 100, 90, 80, 70]\n"
          ],
          "name": "stdout"
        }
      ]
    },
    {
      "cell_type": "markdown",
      "metadata": {
        "id": "c46b24f2"
      },
      "source": [
        "### 리스트 자료형 | 함수 | remove(원소)\n",
        "\n",
        "remove()함수는 특정한 원소를 삭제해준다. "
      ],
      "id": "c46b24f2"
    },
    {
      "cell_type": "code",
      "metadata": {
        "id": "4c26b1f7",
        "outputId": "0a50192e-b138-4658-eed3-71a670ba0cbd"
      },
      "source": [
        "a.remove(90) # a리스트에 있는 90이라는 원소를 삭제해라\n",
        "print(a)\n",
        "# remove함수는 리스트를 앞에서부터 하나씩 확인하여 해당 원소를 삭제하는 것이기 때문에 90을 하나 발견하고 삭제하면 끝난다.\n",
        "# 그래서 맨 앞에 있는 90만 사라자고 뒤에 있는 90은 남아있다."
      ],
      "id": "4c26b1f7",
      "execution_count": null,
      "outputs": [
        {
          "output_type": "stream",
          "text": [
            "[10, 20, 30, 40, 400, 50, 100, 80, 70]\n"
          ],
          "name": "stdout"
        }
      ]
    },
    {
      "cell_type": "markdown",
      "metadata": {
        "id": "e132bba9"
      },
      "source": [
        "### 리스트 자료형 | 함수 | pop(인덱스)\n",
        "\n",
        "pop()함수는 특정 인덱스에 위치한 원소를 삭제한다."
      ],
      "id": "e132bba9"
    },
    {
      "cell_type": "code",
      "metadata": {
        "id": "f59af9d0",
        "outputId": "ec1aef46-1dc5-40ee-f7ca-af355b7ab1eb"
      },
      "source": [
        "a.pop(3) # a리스트의 인덱스 3을 삭제해라\n",
        "print(a)"
      ],
      "id": "f59af9d0",
      "execution_count": null,
      "outputs": [
        {
          "output_type": "stream",
          "text": [
            "[10, 20, 30, 400, 50, 100, 80, 70]\n"
          ],
          "name": "stdout"
        }
      ]
    },
    {
      "cell_type": "markdown",
      "metadata": {
        "id": "f063b405"
      },
      "source": [
        "### 리스트 자료형 | 함수 | reverse()\n",
        "\n",
        "reverse()함수는 리스트를 뒤집는다."
      ],
      "id": "f063b405"
    },
    {
      "cell_type": "code",
      "metadata": {
        "id": "9778e585",
        "outputId": "ea0c9986-6f74-4e3e-eab2-092dcde5f63d"
      },
      "source": [
        "a.reverse()\n",
        "print(a)"
      ],
      "id": "9778e585",
      "execution_count": null,
      "outputs": [
        {
          "output_type": "stream",
          "text": [
            "[70, 80, 100, 50, 400, 30, 20, 10]\n"
          ],
          "name": "stdout"
        }
      ]
    },
    {
      "cell_type": "markdown",
      "metadata": {
        "id": "8ee0a212"
      },
      "source": [
        "### 리스트 자료형 | 함수 | slicing이용해서 뒤집기\n",
        "\n",
        "리스트도 시퀀스 자료형 중 하나이기 때문에 slicing이 가능하다.\n",
        "\n",
        "slicing을 활용하여 리스트를 뒤집을 수도 있다.\n",
        "\n",
        "스탭을 정하는 매개변수로 -1을 넣어주면 뒤에서부터 앞으로 확인하기 때문에 list의 원소들이 뒤집힌다."
      ],
      "id": "8ee0a212"
    },
    {
      "cell_type": "code",
      "metadata": {
        "id": "46850523",
        "outputId": "c799d76f-f6e5-4d0b-cefa-6264e0e579d5"
      },
      "source": [
        "list1 = ['스타벅스', '연유라떼', '맛있다', '또', '먹어야지']\n",
        "print(list1)\n",
        "print(list1[::-1]) \n",
        "# list1을 뒤집을 상태로 쓰려면, reverse()함수는 바로 변경되었지만,\n",
        "# slicing은 뒤에서부터 본 함수를 그냥 출력한거라 따로 변수에 담아줘야 변경 내용이 저장된다."
      ],
      "id": "46850523",
      "execution_count": null,
      "outputs": [
        {
          "output_type": "stream",
          "text": [
            "['스타벅스', '연유라떼', '맛있다', '또', '먹어야지']\n",
            "['먹어야지', '또', '맛있다', '연유라떼', '스타벅스']\n"
          ],
          "name": "stdout"
        }
      ]
    },
    {
      "cell_type": "markdown",
      "metadata": {
        "id": "8c938391"
      },
      "source": [
        "### 리스트 자료형 | 함수 | sum(리스트 자료형)\n",
        "\n",
        "리스트 내의 모든 원소를 합한 값이 반환되는 함수이다."
      ],
      "id": "8c938391"
    },
    {
      "cell_type": "code",
      "metadata": {
        "id": "a5be110f",
        "outputId": "4ddd94f5-4c5f-4774-844d-089c5416eba2"
      },
      "source": [
        "list1 = [1, 2, 3.7] #실수 정수 상관 없이 가능. 문자열은 안됨.\n",
        "print(sum(list1))"
      ],
      "id": "a5be110f",
      "execution_count": null,
      "outputs": [
        {
          "output_type": "error",
          "ename": "TypeError",
          "evalue": "'int' object is not callable",
          "traceback": [
            "\u001b[1;31m---------------------------------------------------------------------------\u001b[0m",
            "\u001b[1;31mTypeError\u001b[0m                                 Traceback (most recent call last)",
            "\u001b[1;32m<ipython-input-17-46ce81ea3ce9>\u001b[0m in \u001b[0;36m<module>\u001b[1;34m\u001b[0m\n\u001b[0;32m      1\u001b[0m \u001b[0mlist1\u001b[0m \u001b[1;33m=\u001b[0m \u001b[1;33m[\u001b[0m\u001b[1;36m1\u001b[0m\u001b[1;33m,\u001b[0m \u001b[1;36m2\u001b[0m\u001b[1;33m,\u001b[0m \u001b[1;36m3.7\u001b[0m\u001b[1;33m]\u001b[0m \u001b[1;31m#실수 정수 상관 없이 가능. 문자열은 안됨.\u001b[0m\u001b[1;33m\u001b[0m\u001b[1;33m\u001b[0m\u001b[0m\n\u001b[1;32m----> 2\u001b[1;33m \u001b[0mprint\u001b[0m\u001b[1;33m(\u001b[0m\u001b[0msum\u001b[0m\u001b[1;33m(\u001b[0m\u001b[0mlist1\u001b[0m\u001b[1;33m)\u001b[0m\u001b[1;33m)\u001b[0m\u001b[1;33m\u001b[0m\u001b[1;33m\u001b[0m\u001b[0m\n\u001b[0m",
            "\u001b[1;31mTypeError\u001b[0m: 'int' object is not callable"
          ]
        }
      ]
    },
    {
      "cell_type": "markdown",
      "metadata": {
        "id": "9d774381"
      },
      "source": [
        "### 리스트 자료형 | 함수 | range(시작, 끝-1)\n",
        "\n",
        "인덱스로 지정한 특정 범위의 원소를 range자료형으로 반환된다."
      ],
      "id": "9d774381"
    },
    {
      "cell_type": "code",
      "metadata": {
        "id": "a47d632c",
        "outputId": "6c887fa0-06a0-4ba8-d7f6-310a0be9821e"
      },
      "source": [
        "range1 = range(7, 14) # 7부터 13까지의 숫자가 차례로 담겨 range자료형으로 반환된다.\n",
        "print(range1)"
      ],
      "id": "a47d632c",
      "execution_count": null,
      "outputs": [
        {
          "output_type": "stream",
          "text": [
            "range(7, 14)\n"
          ],
          "name": "stdout"
        }
      ]
    },
    {
      "cell_type": "code",
      "metadata": {
        "id": "7b06da5a",
        "outputId": "2fe2e04c-4c2b-4f1c-fb79-ed1e216a8d24"
      },
      "source": [
        "range_list = list(range1) #range자료형에 list()함수를 적용하면 리스트 자료형으로 바꿀 수 있다.\n",
        "print(range_list)"
      ],
      "id": "7b06da5a",
      "execution_count": null,
      "outputs": [
        {
          "output_type": "stream",
          "text": [
            "[7, 8, 9, 10, 11, 12, 13]\n"
          ],
          "name": "stdout"
        }
      ]
    },
    {
      "cell_type": "code",
      "metadata": {
        "id": "c72a3c6b",
        "outputId": "56eefc9a-95af-4fcf-ee9c-c87f33195f8f"
      },
      "source": [
        "range_list2 = list(range(2, 9)) # list()함수의 매개변수로 바로 range()함수가 들어갈 수 있다.\n",
        "print(range_list2)"
      ],
      "id": "c72a3c6b",
      "execution_count": null,
      "outputs": [
        {
          "output_type": "stream",
          "text": [
            "[2, 3, 4, 5, 6, 7, 8]\n"
          ],
          "name": "stdout"
        }
      ]
    },
    {
      "cell_type": "markdown",
      "metadata": {
        "id": "4bff4d1f"
      },
      "source": [
        "### 리스트 자료형 | 함수 | all(), any()\n",
        "\n",
        "all()함수는 리스트 내의 모든 값이 참인지 판별한다.\n",
        "\n",
        "any()함수는 리스트 내에 하나라도 참이 있는지 판별한다."
      ],
      "id": "4bff4d1f"
    },
    {
      "cell_type": "code",
      "metadata": {
        "id": "ff1246b4",
        "outputId": "aefaaf03-85f0-4045-922e-3bd9c085d97f"
      },
      "source": [
        "list1 = [True, False, True] # bool값을 리스트 안에 넣어준다.\n",
        "print(all(list1)) # list1에 있는 모든 원소가 참이냐\n",
        "print(any(list1)) # list1에 있는 원소 중에 참이 것이 있냐"
      ],
      "id": "ff1246b4",
      "execution_count": null,
      "outputs": [
        {
          "output_type": "stream",
          "text": [
            "False\n",
            "True\n"
          ],
          "name": "stdout"
        }
      ]
    },
    {
      "cell_type": "markdown",
      "metadata": {
        "id": "10d1ba2d"
      },
      "source": [
        "### 리스트 자료형 | 함수 | enumerate(리스트 자료형)\n",
        "\n",
        "리스트에서 인덱스와 원소를 함께 추출한다.\n",
        "\n",
        "for문에서 많이 사용된다."
      ],
      "id": "10d1ba2d"
    },
    {
      "cell_type": "code",
      "metadata": {
        "id": "5188a6d1",
        "outputId": "3a871cdb-8238-46b9-aa14-65026a9efb11"
      },
      "source": [
        "l = ['호떡이','먹고 싶다.', '여름에는', '호떡을', '안 파나']\n",
        "enumerate_result = list(enumerate(l)) \n",
        "\n",
        "'''\n",
        "result = enumerate(l) # enumerate객체에 담긴다.\n",
        "result = list(result) # 이걸 list로 뽑아본다\n",
        "'''\n",
        "\n",
        "print(enumerate_result)"
      ],
      "id": "5188a6d1",
      "execution_count": null,
      "outputs": [
        {
          "output_type": "stream",
          "text": [
            "[(0, '호떡이'), (1, '먹고 싶다.'), (2, '여름에는'), (3, '호떡을'), (4, '안 파나')]\n"
          ],
          "name": "stdout"
        }
      ]
    },
    {
      "cell_type": "code",
      "metadata": {
        "id": "114dd308",
        "outputId": "57dce1b3-c339-4a8c-9c37-45fe9cd1f009"
      },
      "source": [
        "# for문에서 enumerate를 사용할 때 일반적으로 i(index)와 k(key)변수가 사용된다.\n",
        "# for문이 리스트 내 원소들을 하나씩 돌면서\n",
        "# 인덱스는 i에 담기고, 원소는 k에 담는다.\n",
        "for i, k in enumerate(l):\n",
        "    print(\"인덱스:\", i,\" \", \"원소:\", k)"
      ],
      "id": "114dd308",
      "execution_count": null,
      "outputs": [
        {
          "output_type": "stream",
          "text": [
            "인덱스: 0   원소: 호떡이\n",
            "인덱스: 1   원소: 먹고 싶다.\n",
            "인덱스: 2   원소: 여름에는\n",
            "인덱스: 3   원소: 호떡을\n",
            "인덱스: 4   원소: 안 파나\n"
          ],
          "name": "stdout"
        }
      ]
    },
    {
      "cell_type": "markdown",
      "metadata": {
        "id": "7e2f4203"
      },
      "source": [
        "### 리스트 자료형 | 함수 | sort()\n",
        "\n",
        "리스트 내 원소를 정렬할 때 사용하는 함수이다.\n",
        "\n",
        "기본 설정은 오름차순이다."
      ],
      "id": "7e2f4203"
    },
    {
      "cell_type": "code",
      "metadata": {
        "id": "aeac0c1c",
        "outputId": "9e78338b-22bb-46c6-f93f-ec1b23a05d2e"
      },
      "source": [
        "list1 = ['호떡이','먹고 싶다', '여름에는', '안 파나']\n",
        "list1.sort()\n",
        "print(list1)"
      ],
      "id": "aeac0c1c",
      "execution_count": null,
      "outputs": [
        {
          "output_type": "stream",
          "text": [
            "['먹고 싶다', '안 파나', '여름에는', '호떡이']\n"
          ],
          "name": "stdout"
        }
      ]
    },
    {
      "cell_type": "markdown",
      "metadata": {
        "id": "c99f9344"
      },
      "source": [
        "### 리스트 자료형 | 함수 | count(원소)\n",
        "\n",
        "리스트 내에서 특정한 원소가 몇 번 등장하는지 셀 때 사용하는 함수이다."
      ],
      "id": "c99f9344"
    },
    {
      "cell_type": "code",
      "metadata": {
        "id": "193cec6d",
        "outputId": "3408733a-896e-47e8-ecb0-a68b85b4b8f8"
      },
      "source": [
        "list1 = ['호떡', '소금빵', '마카롱' ,'호떡']\n",
        "print(list1.count('호떡')) # list1에 '호떡'이 몇번 나오냐"
      ],
      "id": "193cec6d",
      "execution_count": null,
      "outputs": [
        {
          "output_type": "stream",
          "text": [
            "2\n"
          ],
          "name": "stdout"
        }
      ]
    },
    {
      "cell_type": "markdown",
      "metadata": {
        "id": "e302e626"
      },
      "source": [
        "### 리스트 자료형 | 함수 | del\n",
        "\n",
        "del키워드를 사용해서 리스트 내 원소를 삭제할 수 있다."
      ],
      "id": "e302e626"
    },
    {
      "cell_type": "code",
      "metadata": {
        "id": "439de44e",
        "outputId": "675e7810-e67b-45dd-ba57-09c3dd9cb11c"
      },
      "source": [
        "del list1[3] # list1의 인덱스 3에 있는 원소를 삭제해라\n",
        "print(list1)"
      ],
      "id": "439de44e",
      "execution_count": null,
      "outputs": [
        {
          "output_type": "stream",
          "text": [
            "['호떡', '소금빵', '마카롱']\n"
          ],
          "name": "stdout"
        }
      ]
    },
    {
      "cell_type": "code",
      "metadata": {
        "id": "46a8f9ab",
        "outputId": "f8ea3434-0f04-4501-e1cd-1720334207fb"
      },
      "source": [
        "list1 = ['호떡', '소금빵', '마카롱' ,'호떡']\n",
        "del list1[1:3] # list1의 인덱스 1부터 2까지를 삭제해라\n",
        "print(list1)"
      ],
      "id": "46a8f9ab",
      "execution_count": null,
      "outputs": [
        {
          "output_type": "stream",
          "text": [
            "['호떡', '호떡']\n"
          ],
          "name": "stdout"
        }
      ]
    },
    {
      "cell_type": "markdown",
      "metadata": {
        "id": "bd60d5fd"
      },
      "source": [
        "### 리스트 자료형 | 함수 | insert(인덱스, 삽입할 원소)\n",
        "\n",
        "insert()함수는 원소를 삽입할 때 사용한다."
      ],
      "id": "bd60d5fd"
    },
    {
      "cell_type": "code",
      "metadata": {
        "id": "de2fcf29",
        "outputId": "7f8f7f0a-7d4f-4224-c5ad-000ddb292909"
      },
      "source": [
        "list1.insert(1, '맛있어') # 1번 인덱스에 '맛있어'를 삽입해라\n",
        "print(list1)"
      ],
      "id": "de2fcf29",
      "execution_count": null,
      "outputs": [
        {
          "output_type": "stream",
          "text": [
            "['호떡', '맛있어', '호떡']\n"
          ],
          "name": "stdout"
        }
      ]
    },
    {
      "cell_type": "markdown",
      "metadata": {
        "id": "fd084877"
      },
      "source": [
        "### 리스트 자료형 | 함수 | append(원소)\n",
        "\n",
        "리스트 맨 뒤에 원소를 넣고자 할 때 사용하는 함수이다."
      ],
      "id": "fd084877"
    },
    {
      "cell_type": "code",
      "metadata": {
        "id": "8584a427",
        "outputId": "ae73dece-10c6-4759-8994-0531a73be4a0"
      },
      "source": [
        "list1.append('짱이야') # list1 맨 뒤에 '짱이야'를 삽입해라\n",
        "print(list1)"
      ],
      "id": "8584a427",
      "execution_count": null,
      "outputs": [
        {
          "output_type": "stream",
          "text": [
            "['호떡', '맛있어', '호떡', '짱이야']\n"
          ],
          "name": "stdout"
        }
      ]
    },
    {
      "cell_type": "code",
      "metadata": {
        "id": "652488c8"
      },
      "source": [
        ""
      ],
      "id": "652488c8",
      "execution_count": null,
      "outputs": []
    }
  ]
}