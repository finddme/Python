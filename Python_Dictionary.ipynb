{
  "nbformat": 4,
  "nbformat_minor": 5,
  "metadata": {
    "kernelspec": {
      "display_name": "Python 3",
      "language": "python",
      "name": "python3"
    },
    "language_info": {
      "codemirror_mode": {
        "name": "ipython",
        "version": 3
      },
      "file_extension": ".py",
      "mimetype": "text/x-python",
      "name": "python",
      "nbconvert_exporter": "python",
      "pygments_lexer": "ipython3",
      "version": "3.7.10"
    },
    "toc": {
      "base_numbering": 1,
      "nav_menu": {},
      "number_sections": true,
      "sideBar": true,
      "skip_h1_title": false,
      "title_cell": "Table of Contents",
      "title_sidebar": "Contents",
      "toc_cell": true,
      "toc_position": {},
      "toc_section_display": true,
      "toc_window_display": false
    },
    "colab": {
      "name": "Python_Dictionary.ipynb",
      "provenance": [],
      "include_colab_link": true
    }
  },
  "cells": [
    {
      "cell_type": "markdown",
      "metadata": {
        "id": "view-in-github",
        "colab_type": "text"
      },
      "source": [
        "<a href=\"https://colab.research.google.com/github/finddme/Python/blob/master/Python_Dictionary.ipynb\" target=\"_parent\"><img src=\"https://colab.research.google.com/assets/colab-badge.svg\" alt=\"Open In Colab\"/></a>"
      ]
    },
    {
      "cell_type": "markdown",
      "metadata": {
        "toc": true,
        "id": "8b8327f9"
      },
      "source": [
        "<h1>Table of Contents<span class=\"tocSkip\"></span></h1>\n",
        "<div class=\"toc\"><ul class=\"toc-item\"><li><span><a href=\"#딕셔너리-자료형\" data-toc-modified-id=\"딕셔너리-자료형-1\"><span class=\"toc-item-num\">1&nbsp;&nbsp;</span>딕셔너리 자료형</a></span><ul class=\"toc-item\"><li><span><a href=\"#딕셔너리-자료형-|-개별-원소-|-접근\" data-toc-modified-id=\"딕셔너리-자료형-|-개별-원소-|-접근-1.1\"><span class=\"toc-item-num\">1.1&nbsp;&nbsp;</span>딕셔너리 자료형 | 개별 원소 | 접근</a></span></li><li><span><a href=\"#딕셔너리-자료형-|-개별-원소-|-변경\" data-toc-modified-id=\"딕셔너리-자료형-|-개별-원소-|-변경-1.2\"><span class=\"toc-item-num\">1.2&nbsp;&nbsp;</span>딕셔너리 자료형 | 개별 원소 | 변경</a></span></li><li><span><a href=\"#딕셔너리-자료형-|-개별-원소-|-삭제\" data-toc-modified-id=\"딕셔너리-자료형-|-개별-원소-|-삭제-1.3\"><span class=\"toc-item-num\">1.3&nbsp;&nbsp;</span>딕셔너리 자료형 | 개별 원소 | 삭제</a></span></li><li><span><a href=\"#딕셔너리-자료형-|-함수-|-clean()\" data-toc-modified-id=\"딕셔너리-자료형-|-함수-|-clean()-1.4\"><span class=\"toc-item-num\">1.4&nbsp;&nbsp;</span>딕셔너리 자료형 | 함수 | clean()</a></span></li><li><span><a href=\"#딕셔너리-자료형-|-함수-|-len()\" data-toc-modified-id=\"딕셔너리-자료형-|-함수-|-len()-1.5\"><span class=\"toc-item-num\">1.5&nbsp;&nbsp;</span>딕셔너리 자료형 | 함수 | len()</a></span></li><li><span><a href=\"#딕셔너리-자료형-|-함수-|-keys()\" data-toc-modified-id=\"딕셔너리-자료형-|-함수-|-keys()-1.6\"><span class=\"toc-item-num\">1.6&nbsp;&nbsp;</span>딕셔너리 자료형 | 함수 | keys()</a></span></li><li><span><a href=\"#딕셔너리-자료형-|-함수-|-values()\" data-toc-modified-id=\"딕셔너리-자료형-|-함수-|-values()-1.7\"><span class=\"toc-item-num\">1.7&nbsp;&nbsp;</span>딕셔너리 자료형 | 함수 | values()</a></span></li><li><span><a href=\"#딕셔너리-자료형-|-함수-|-sorted(딕셔너리)\" data-toc-modified-id=\"딕셔너리-자료형-|-함수-|-sorted(딕셔너리)-1.8\"><span class=\"toc-item-num\">1.8&nbsp;&nbsp;</span>딕셔너리 자료형 | 함수 | sorted(딕셔너리)</a></span></li></ul></li></ul></div>"
      ],
      "id": "8b8327f9"
    },
    {
      "cell_type": "markdown",
      "metadata": {
        "id": "db185e46"
      },
      "source": [
        "## 딕셔너리 자료형"
      ],
      "id": "db185e46"
    },
    {
      "cell_type": "code",
      "metadata": {
        "id": "81b1a395"
      },
      "source": [
        "'''\n",
        "딕셔너리 자료형의 원소는 key와 value의 한쌍으로 이루어진다.\n",
        "\n",
        "리스트는 중괄호({})안에 key와 value는 콜론(:)으로,\n",
        "각 원소들은 콤마(,)로 구분하여 값을 할당할 수 있다.\n",
        "\n",
        "{key:value, key:value, ...}\n",
        "    |\n",
        "이거 하나가 원소 하나\n",
        "'''"
      ],
      "id": "81b1a395",
      "execution_count": null,
      "outputs": []
    },
    {
      "cell_type": "code",
      "metadata": {
        "id": "9c3231ef",
        "outputId": "2e708290-43e7-490d-eed2-449f4a7590e9"
      },
      "source": [
        "# 딕셔너리 자료형의 대표적 예시는 사전이다.\n",
        "dict1 = {} # dict1이라는 이름의 변수에 딕셔너리 자료형이 존재한다고 명시한다.\n",
        "\n",
        "# 딕셔너리 자료형이 있는 변수에 값을 넣는다.\n",
        "dict1['안녕'] = 'Hello' # '안녕'이라는 key의 값이 'Hello'이다.\n",
        "dict1['우주'] = 'Cosmos'\n",
        "dict1['아침'] = 'morning'\n",
        "\n",
        "print(dict1) # key와 value를 넣은 딕셔너리 자료형을 가진 변수 dict1을 출력해보자."
      ],
      "id": "9c3231ef",
      "execution_count": null,
      "outputs": [
        {
          "output_type": "stream",
          "text": [
            "{'안녕': 'Hello', '우주': 'Cosmos', '아침': 'morning'}\n"
          ],
          "name": "stdout"
        }
      ]
    },
    {
      "cell_type": "markdown",
      "metadata": {
        "id": "70a24022"
      },
      "source": [
        "### 딕셔너리 자료형 | 개별 원소 | 접근\n",
        "\n",
        "딕셔너리 자료형도 다른 자료형들처럼 반복문을 통해 개별 원소에 접근할 수 있다."
      ],
      "id": "70a24022"
    },
    {
      "cell_type": "code",
      "metadata": {
        "id": "03703182",
        "outputId": "bfa16ac0-ae53-45e9-f215-b4430fc6bc0d"
      },
      "source": [
        "# 반복문을 사용하여 딕셔너리 자료형의 개별 원소에 접근할 때는 key값을 이용한다.\n",
        "# 그렇기 때문에 for문에서 i(index)변수와 k(key)변수를 사용해야 한다.\n",
        "# 그리고 enumerate()함수를 사용해서 내부적으로 딕셔너리 자료형의 개별 원소들에 접근하여 \n",
        "# i에는 각 원소의 index, k값에는 해당 원소의 key가 할당될 수 있도록 한다.\n",
        "\n",
        "for i, k in enumerate(dict1):\n",
        "    print(\"index:\", i, \"key:\", k)"
      ],
      "id": "03703182",
      "execution_count": null,
      "outputs": [
        {
          "output_type": "stream",
          "text": [
            "index: 0 key: 안녕\n",
            "index: 1 key: 우주\n",
            "index: 2 key: 아침\n"
          ],
          "name": "stdout"
        }
      ]
    },
    {
      "cell_type": "code",
      "metadata": {
        "id": "aab43d97",
        "outputId": "f85e302a-e68a-4644-c32e-3ffccbe7394c"
      },
      "source": [
        "# 해당 key값이 가지는 value값은 '해당변수명[k]'으로 불러올 수 있다.\n",
        "# 즉 해당 변수명에 있는 key값의 값을 보자는 것이다.\n",
        "for i, k in enumerate(dict1):\n",
        "    print(\"index:\", i, \"한글:\", k, \"영어:\", dict1[k])"
      ],
      "id": "aab43d97",
      "execution_count": null,
      "outputs": [
        {
          "output_type": "stream",
          "text": [
            "index: 0 한글: 안녕 영어: Hello\n",
            "index: 1 한글: 우주 영어: Cosmos\n",
            "index: 2 한글: 아침 영어: morning\n"
          ],
          "name": "stdout"
        }
      ]
    },
    {
      "cell_type": "code",
      "metadata": {
        "id": "1b7163fa",
        "outputId": "8027a695-a3ac-4e15-aa3d-5103f989c4c8"
      },
      "source": [
        "# 조건문을 통해 개별 원소에 접근하여 특정 'key'값이 있는지 확인할 수 있다.\n",
        "if '우주' in dict1:\n",
        "    print(\"있다\")"
      ],
      "id": "1b7163fa",
      "execution_count": null,
      "outputs": [
        {
          "output_type": "stream",
          "text": [
            "있다\n"
          ],
          "name": "stdout"
        }
      ]
    },
    {
      "cell_type": "markdown",
      "metadata": {
        "id": "a1160025"
      },
      "source": [
        "### 딕셔너리 자료형 | 개별 원소 | 변경\n",
        "\n",
        "다른 자료형들은 변경할 때 index로 변경하고자 하는 원소에 접근했는데,\n",
        "\n",
        "이와 유사하게 딕셔너리 자료형에서는 key값으로 변경하고자 하는 원소에 접근한다. "
      ],
      "id": "a1160025"
    },
    {
      "cell_type": "code",
      "metadata": {
        "id": "3fd29254",
        "outputId": "c54fc67a-523a-4b6b-e535-6d2791f4d266"
      },
      "source": [
        "dict1['안녕'] = 'Hi' # '안녕'이라는 key의 value를 'Hi'로 바꾼다.\n",
        "print(dict1)"
      ],
      "id": "3fd29254",
      "execution_count": null,
      "outputs": [
        {
          "output_type": "stream",
          "text": [
            "{'안녕': 'Hi', '우주': 'Cosmos', '아침': 'morning'}\n"
          ],
          "name": "stdout"
        }
      ]
    },
    {
      "cell_type": "code",
      "metadata": {
        "id": "a6353b5e"
      },
      "source": [
        "'''\n",
        "# value는 확인 불가\n",
        "\n",
        "if 'Cosmos' in dict:\n",
        "    print(\"있다\")\n",
        "'''"
      ],
      "id": "a6353b5e",
      "execution_count": null,
      "outputs": []
    },
    {
      "cell_type": "markdown",
      "metadata": {
        "id": "e7d35425"
      },
      "source": [
        "### 딕셔너리 자료형 | 개별 원소 | 삭제\n",
        "\n",
        "del 키워드를 사용하여 개별 원소를 삭제하면 된다.\n",
        "\n",
        "삭제할 원소는 key값으로 찾는다."
      ],
      "id": "e7d35425"
    },
    {
      "cell_type": "code",
      "metadata": {
        "id": "76566dea",
        "outputId": "c85458a8-9d2b-4095-ea17-8608ffb84f9f"
      },
      "source": [
        "del dict1['안녕'] # '안녕'이라는 key값을 가진 원소를 삭제한다.\n",
        "print(dict1)"
      ],
      "id": "76566dea",
      "execution_count": null,
      "outputs": [
        {
          "output_type": "stream",
          "text": [
            "{'우주': 'Cosmos', '아침': 'morning'}\n"
          ],
          "name": "stdout"
        }
      ]
    },
    {
      "cell_type": "markdown",
      "metadata": {
        "id": "c919215b"
      },
      "source": [
        "### 딕셔너리 자료형 | 함수 | clean()\n",
        "\n",
        "딕셔너리 자료형의 내장함수인 clear()함수를 사용하면 딕셔너리의 모든 원소가 삭제된다."
      ],
      "id": "c919215b"
    },
    {
      "cell_type": "code",
      "metadata": {
        "id": "7519cb44",
        "outputId": "15c814b4-d8af-46af-8f91-7ae03e59c297"
      },
      "source": [
        "# clear()함수로 딕셔너리 자료형의 전체 원소가 삭제되고 딕셔너리 껍데기만 남는다.\n",
        "dict1.clear()\n",
        "print(dict1)"
      ],
      "id": "7519cb44",
      "execution_count": null,
      "outputs": [
        {
          "output_type": "stream",
          "text": [
            "{}\n"
          ],
          "name": "stdout"
        }
      ]
    },
    {
      "cell_type": "markdown",
      "metadata": {
        "id": "7f551c7d"
      },
      "source": [
        "### 딕셔너리 자료형 | 함수 | len()\n",
        "\n",
        "다른 자료형과 마찬가지로 len()함수를 통해 딕셔너리 자료형의 길이를 알 수 있다.\n",
        "\n",
        "즉, 원소가 몇개인지 알 수 있다."
      ],
      "id": "7f551c7d"
    },
    {
      "cell_type": "code",
      "metadata": {
        "id": "12883959",
        "outputId": "3d5594f8-3838-47da-b8df-a54199fff163"
      },
      "source": [
        "dict1['안녕'] = 'Hello'\n",
        "dict1['우주'] = 'Cosmos'\n",
        "dict1['아침'] = 'morning'\n",
        "\n",
        "print(\"dict 길이:\", len(dict1))"
      ],
      "id": "12883959",
      "execution_count": null,
      "outputs": [
        {
          "output_type": "stream",
          "text": [
            "dict 길이: 3\n"
          ],
          "name": "stdout"
        }
      ]
    },
    {
      "cell_type": "markdown",
      "metadata": {
        "id": "5d2326df"
      },
      "source": [
        "### 딕셔너리 자료형 | 함수 | keys()\n",
        "\n",
        "딕셔너리 자료형에서 key값만 따로 추출하고자 한다면 keys()함수를 사용하면 된다."
      ],
      "id": "5d2326df"
    },
    {
      "cell_type": "code",
      "metadata": {
        "id": "83dce30e",
        "outputId": "16f1de86-9886-46a6-c624-21666ba5f0e0"
      },
      "source": [
        "key = dict1.keys() # key라는 변수에 dict1의 key값만 추출\n",
        "print(key)"
      ],
      "id": "83dce30e",
      "execution_count": null,
      "outputs": [
        {
          "output_type": "stream",
          "text": [
            "dict_keys(['안녕', '우주', '아침'])\n"
          ],
          "name": "stdout"
        }
      ]
    },
    {
      "cell_type": "code",
      "metadata": {
        "id": "0c5aac73",
        "outputId": "26e8aa17-97b6-4ff6-a04b-d329b49d287d"
      },
      "source": [
        "# 리스트형태로 뽑고 싶으면 list()함수를 사용,\n",
        "key_list = list(key)\n",
        "print(key_list)"
      ],
      "id": "0c5aac73",
      "execution_count": null,
      "outputs": [
        {
          "output_type": "stream",
          "text": [
            "['안녕', '우주', '아침']\n"
          ],
          "name": "stdout"
        }
      ]
    },
    {
      "cell_type": "markdown",
      "metadata": {
        "id": "e8c7def2"
      },
      "source": [
        "### 딕셔너리 자료형 | 함수 | values()\n",
        "\n",
        "딕셔너리 자료형의 value값만 따로 추출하고 싶을 때 values()함수를 사용한다."
      ],
      "id": "e8c7def2"
    },
    {
      "cell_type": "code",
      "metadata": {
        "id": "a3350289",
        "outputId": "11302cab-1f79-4852-e796-7ce9f0ad6cd9"
      },
      "source": [
        "value_list = list(dict1.values())\n",
        "print(value_list)"
      ],
      "id": "a3350289",
      "execution_count": null,
      "outputs": [
        {
          "output_type": "stream",
          "text": [
            "['Hello', 'Cosmos', 'morning']\n"
          ],
          "name": "stdout"
        }
      ]
    },
    {
      "cell_type": "markdown",
      "metadata": {
        "id": "98587a82"
      },
      "source": [
        "### 딕셔너리 자료형 | 함수 | sorted(딕셔너리)\n",
        "\n",
        "딕셔너리 자료형은 순서 상관 없이 사용하는 자료형이지만 필요에 따라 sorted()함수를 통해 정렬할 수 있다.\n",
        "\n",
        "key값을 기준으로 정렬된다."
      ],
      "id": "98587a82"
    },
    {
      "cell_type": "code",
      "metadata": {
        "id": "2ba63c47",
        "outputId": "5167c9d4-c3a3-4f5c-84fc-a01454900c3e"
      },
      "source": [
        "age = {}\n",
        "age['가리비'] = 20\n",
        "age['나비'] = 23\n",
        "age['다람쥐'] = 29\n",
        "age['라디오'] = 26\n",
        "\n",
        "print(age)"
      ],
      "id": "2ba63c47",
      "execution_count": null,
      "outputs": [
        {
          "output_type": "stream",
          "text": [
            "{'가리비': 20, '나비': 23, '다람쥐': 29, '라디오': 26}\n"
          ],
          "name": "stdout"
        }
      ]
    },
    {
      "cell_type": "code",
      "metadata": {
        "id": "b0fa2072",
        "outputId": "ca5e7cc9-4e22-44ac-fbbf-b7ae83a6902f"
      },
      "source": [
        "# key값을 기준으로 정렬(문자열은 사전순)\n",
        "# 기본 설정은 오름차순이다.\n",
        "print(sorted(age))\n",
        "print(sorted(age, reverse=True)) # 내림차순으로 정렬하려면 reverse속성을 True로 해주면 된다."
      ],
      "id": "b0fa2072",
      "execution_count": null,
      "outputs": [
        {
          "output_type": "stream",
          "text": [
            "['가리비', '나비', '다람쥐', '라디오']\n",
            "['라디오', '다람쥐', '나비', '가리비']\n"
          ],
          "name": "stdout"
        }
      ]
    },
    {
      "cell_type": "code",
      "metadata": {
        "id": "ff2e5ad8",
        "outputId": "c09ce9ee-2712-42b3-fc73-10e2ab2b9cf0"
      },
      "source": [
        "# value값을 정렬하고 싶으면 values()함수로 value값을 추출하고 그걸 정렬하면 된다.\n",
        "print(sorted(age.values()))"
      ],
      "id": "ff2e5ad8",
      "execution_count": null,
      "outputs": [
        {
          "output_type": "stream",
          "text": [
            "[20, 23, 26, 29]\n"
          ],
          "name": "stdout"
        }
      ]
    },
    {
      "cell_type": "code",
      "metadata": {
        "id": "11a65976"
      },
      "source": [
        ""
      ],
      "id": "11a65976",
      "execution_count": null,
      "outputs": []
    }
  ]
}