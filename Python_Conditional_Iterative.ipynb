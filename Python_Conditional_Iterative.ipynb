{
  "nbformat": 4,
  "nbformat_minor": 5,
  "metadata": {
    "kernelspec": {
      "display_name": "Python 3",
      "language": "python",
      "name": "python3"
    },
    "language_info": {
      "codemirror_mode": {
        "name": "ipython",
        "version": 3
      },
      "file_extension": ".py",
      "mimetype": "text/x-python",
      "name": "python",
      "nbconvert_exporter": "python",
      "pygments_lexer": "ipython3",
      "version": "3.7.10"
    },
    "toc": {
      "base_numbering": 1,
      "nav_menu": {},
      "number_sections": true,
      "sideBar": true,
      "skip_h1_title": false,
      "title_cell": "Table of Contents",
      "title_sidebar": "Contents",
      "toc_cell": true,
      "toc_position": {},
      "toc_section_display": true,
      "toc_window_display": false
    },
    "colab": {
      "name": "Python_Conditional_Iterative.ipynb",
      "provenance": [],
      "include_colab_link": true
    }
  },
  "cells": [
    {
      "cell_type": "markdown",
      "metadata": {
        "id": "view-in-github",
        "colab_type": "text"
      },
      "source": [
        "<a href=\"https://colab.research.google.com/github/finddme/Python/blob/master/Python_Conditional_Iterative.ipynb\" target=\"_parent\"><img src=\"https://colab.research.google.com/assets/colab-badge.svg\" alt=\"Open In Colab\"/></a>"
      ]
    },
    {
      "cell_type": "markdown",
      "metadata": {
        "toc": true,
        "id": "172372a3"
      },
      "source": [
        "<h1>Table of Contents<span class=\"tocSkip\"></span></h1>\n",
        "<div class=\"toc\"><ul class=\"toc-item\"><li><span><a href=\"#조건문\" data-toc-modified-id=\"조건문-1\"><span class=\"toc-item-num\">1&nbsp;&nbsp;</span>조건문</a></span><ul class=\"toc-item\"><li><span><a href=\"#조건문-|-if\" data-toc-modified-id=\"조건문-|-if-1.1\"><span class=\"toc-item-num\">1.1&nbsp;&nbsp;</span>조건문 | if</a></span></li><li><span><a href=\"#조건문-|-if,-else\" data-toc-modified-id=\"조건문-|-if,-else-1.2\"><span class=\"toc-item-num\">1.2&nbsp;&nbsp;</span>조건문 | if, else</a></span></li><li><span><a href=\"#조건문-|-if,-else,-elif\" data-toc-modified-id=\"조건문-|-if,-else,-elif-1.3\"><span class=\"toc-item-num\">1.3&nbsp;&nbsp;</span>조건문 | if, else, elif</a></span></li></ul></li><li><span><a href=\"#반복문(iterative-구문)\" data-toc-modified-id=\"반복문(iterative-구문)-2\"><span class=\"toc-item-num\">2&nbsp;&nbsp;</span>반복문(iterative 구문)</a></span><ul class=\"toc-item\"><li><span><a href=\"#반복문-|-range(시작,-끝)\" data-toc-modified-id=\"반복문-|-range(시작,-끝)-2.1\"><span class=\"toc-item-num\">2.1&nbsp;&nbsp;</span>반복문 | range(시작, 끝)</a></span></li><li><span><a href=\"#반복문-|-문자열\" data-toc-modified-id=\"반복문-|-문자열-2.2\"><span class=\"toc-item-num\">2.2&nbsp;&nbsp;</span>반복문 | 문자열</a></span></li><li><span><a href=\"#반복문-|-리스트\" data-toc-modified-id=\"반복문-|-리스트-2.3\"><span class=\"toc-item-num\">2.3&nbsp;&nbsp;</span>반복문 | 리스트</a></span></li><li><span><a href=\"#반복문-|-break,-continue\" data-toc-modified-id=\"반복문-|-break,-continue-2.4\"><span class=\"toc-item-num\">2.4&nbsp;&nbsp;</span>반복문 | break, continue</a></span></li><li><span><a href=\"#반복문-|-while문\" data-toc-modified-id=\"반복문-|-while문-2.5\"><span class=\"toc-item-num\">2.5&nbsp;&nbsp;</span>반복문 | while문</a></span></li></ul></li></ul></div>"
      ],
      "id": "172372a3"
    },
    {
      "cell_type": "markdown",
      "metadata": {
        "id": "8b6e4485"
      },
      "source": [
        "## 조건문\n",
        "\n",
        "조건문은 주어진 조건에 따라 프로그램의 실행 방향을 결정해주는 문법이다."
      ],
      "id": "8b6e4485"
    },
    {
      "cell_type": "markdown",
      "metadata": {
        "id": "be1c0297"
      },
      "source": [
        "### 조건문 | if"
      ],
      "id": "be1c0297"
    },
    {
      "cell_type": "code",
      "metadata": {
        "id": "e201cb9b"
      },
      "source": [
        "'''\n",
        "# 기본구조(if)\n",
        "\n",
        "if 조건식/연산식:   # -라면 (해당 조건식/연산식이 True값을 가진다면)\n",
        "   수행동작        # 이것을 수행하고 (동일한 들여쓰기 안에 포함된 동작이 한번에 실행됨.)\n",
        "\n",
        "                 # 조건에 충족하지 않으면 실행되지 x\n",
        "'''\n",
        "\n",
        "'''\n",
        "# 들여쓰기\n",
        "조건문은 들여쓰기를 기준으로 동작이 수행된다. 동일한 들여쓰기 안에 포함된 구문들이 한번에 실행된다.\n",
        "들여쓰기는 조건문, 반복문 등의 문법에서 명령어의 종료를 알리는 콜론(:) 이후의 다음 줄부터 적용된다.\n",
        "동일한 명령에 대한 수행동작은 동일한 들여쓰기를 유지해야 한다.\n",
        "'''"
      ],
      "id": "e201cb9b",
      "execution_count": null,
      "outputs": []
    },
    {
      "cell_type": "code",
      "metadata": {
        "id": "cc7f1bb8",
        "outputId": "c9808855-53f0-4b56-9bc4-3940a37eb2c5"
      },
      "source": [
        "score = 85\n",
        "if score >= 80:    # score가 80이상이면\n",
        "    print(\"good\")  # \"good\"를 출력해라"
      ],
      "id": "cc7f1bb8",
      "execution_count": null,
      "outputs": [
        {
          "output_type": "stream",
          "text": [
            "good\n"
          ],
          "name": "stdout"
        }
      ]
    },
    {
      "cell_type": "code",
      "metadata": {
        "id": "facb4934",
        "outputId": "789ecdb9-6d78-4aa6-be2f-2eaec7d86d13"
      },
      "source": [
        "# 조건문에서 연산자는 and와 or 등을 통해 여러번 사용될 수 있다. \n",
        "# 즉, 여러개의 수식이 조건으로 사용될 수 있다.\n",
        "\n",
        "b = int(input(\"점수: \")) # input()을 통해 사용자가 입력한 값은 문자열로 보관되기 때문에 \n",
        "                        # 숫자로 바꿔준다.\n",
        "\n",
        "if b < 90 and b >= 80:  # b가 90미만이고 80이상이면\n",
        "    print(\"good\")       # \"good\"를 출력"
      ],
      "id": "facb4934",
      "execution_count": null,
      "outputs": [
        {
          "output_type": "stream",
          "text": [
            "점수: 88\n",
            "good\n"
          ],
          "name": "stdout"
        }
      ]
    },
    {
      "cell_type": "code",
      "metadata": {
        "id": "86aba530",
        "outputId": "e6159149-1ff4-4918-a5a1-110060f04e47"
      },
      "source": [
        "# 리스트 안에 어떤 원소가 포함되었는지 알고 싶을 때, 조건문을 사용할 수 있다.\n",
        "\n",
        "list1 = [1, 2, 3, 4]\n",
        "if 3 in list1:\n",
        "    print(\"3 있다\")"
      ],
      "id": "86aba530",
      "execution_count": null,
      "outputs": [
        {
          "output_type": "stream",
          "text": [
            "3 있다\n"
          ],
          "name": "stdout"
        }
      ]
    },
    {
      "cell_type": "markdown",
      "metadata": {
        "id": "b9f3c3e4"
      },
      "source": [
        "### 조건문 | if, else"
      ],
      "id": "b9f3c3e4"
    },
    {
      "cell_type": "code",
      "metadata": {
        "id": "6b5169d8"
      },
      "source": [
        "'''\n",
        "# 기본구조(if, else)\n",
        "else를 통해 조건문에 충족하지 않았을 경우에 수행할 동작을 입력할 수 있다.\n",
        "\n",
        "if 조건식/연산식:   # -라면 (해당 조건식/연산식이 True값을 가진다면)\n",
        "   실행명령        # 이것을 수행하고 (동일한 들여쓰기 안에 포함된 동작이 한번에 실행됨.)\n",
        "else:             # 아니면, 즉 해당 조건을 만족하지 못한다면\n",
        "   실행명령        # 이것을 수행한다.\n",
        "'''"
      ],
      "id": "6b5169d8",
      "execution_count": null,
      "outputs": []
    },
    {
      "cell_type": "code",
      "metadata": {
        "id": "49f5c23c",
        "outputId": "368cc298-44c7-41f1-840f-deead4cc564b"
      },
      "source": [
        "a=(1, 2, 10)\n",
        "\n",
        "if 10 in a:\n",
        "  print(\"있다\")\n",
        "else:\n",
        "  print(\"없다\")"
      ],
      "id": "49f5c23c",
      "execution_count": null,
      "outputs": [
        {
          "output_type": "stream",
          "text": [
            "있다\n"
          ],
          "name": "stdout"
        }
      ]
    },
    {
      "cell_type": "code",
      "metadata": {
        "id": "7eaed141",
        "outputId": "0f4532fe-4da2-458e-963f-2ca7fb1e68d5"
      },
      "source": [
        "b = int(input(\"score: \")) # input()을 통해 사용자가 입력한 값은 문자열로 보관되기 때문에 \n",
        "                          # 숫자로 바꿔준다.\n",
        "    \n",
        "if b >= 80:            # 만약 b가 80이상이면\n",
        "    print(\"good\")      # \"good\"을 출력하고\n",
        "else:                  # 아니면\n",
        "    print(\"try again\") # \"try again\"을 출력"
      ],
      "id": "7eaed141",
      "execution_count": null,
      "outputs": [
        {
          "output_type": "stream",
          "text": [
            "score: 77\n",
            "try again\n"
          ],
          "name": "stdout"
        }
      ]
    },
    {
      "cell_type": "markdown",
      "metadata": {
        "id": "0a3a4c5f"
      },
      "source": [
        "### 조건문 | if, else, elif\n",
        "\n",
        "조건을 연쇄적으로 달고 싶을 때 elif를 사용한다."
      ],
      "id": "0a3a4c5f"
    },
    {
      "cell_type": "code",
      "metadata": {
        "id": "74801c5e",
        "outputId": "d2ac424d-0283-4918-f54d-fef3b7623824"
      },
      "source": [
        "a = int(input(\"score: \"))\n",
        "\n",
        "if a >= 80:\n",
        "    print(\"good\")\n",
        "elif a >= 70:\n",
        "    print(\"not bad\")\n",
        "else:\n",
        "    print(\"try again\")"
      ],
      "id": "74801c5e",
      "execution_count": null,
      "outputs": [
        {
          "output_type": "stream",
          "text": [
            "score: 77\n",
            "not bad\n"
          ],
          "name": "stdout"
        }
      ]
    },
    {
      "cell_type": "code",
      "metadata": {
        "id": "90e7f6ee",
        "outputId": "58c927da-8c88-4a96-a530-b3511f8c3cac"
      },
      "source": [
        "a = int(input(\"score: \"))\n",
        "\n",
        "if a >= 90:\n",
        "    print(\"very good\")\n",
        "elif a < 90 and a >= 80:\n",
        "    print(\"good\")\n",
        "elif a < 80 and a >= 70:\n",
        "    print(\"not bad\")\n",
        "else:\n",
        "    print(\"try again\")"
      ],
      "id": "90e7f6ee",
      "execution_count": null,
      "outputs": [
        {
          "output_type": "stream",
          "text": [
            "score: 99\n",
            "very good\n"
          ],
          "name": "stdout"
        }
      ]
    },
    {
      "cell_type": "markdown",
      "metadata": {
        "id": "7f0a28b4"
      },
      "source": [
        "## 반복문(iterative 구문)"
      ],
      "id": "7f0a28b4"
    },
    {
      "cell_type": "code",
      "metadata": {
        "id": "21f338f8"
      },
      "source": [
        "'''\n",
        "반복문에는 for문과 while문 등이 있다.\n",
        "\n",
        "반복문은 조건을 충족했을 경우 특정 명령어를 반복적으로 수행하도록 하는 문법이다.\n",
        "\n",
        "조건문과 비슷한데 조건문은 계단형으로 쭉쭉 내려가는 느낌이라면, \n",
        "반복문은 조건을 만족하는 범위라면 쭉쭉쭉 명령을 수행하다가\n",
        "다시 올라와서 또 다른 값으로 같은 명령을 수행한다.\n",
        "'''\n",
        "\n",
        "'''\n",
        "# 기본구조(for문)\n",
        "\n",
        "for 변수명 in 반복범위  # 일반적으로 변수명은 i가 쓰인다. i는 index의 줄임말이다.\n",
        "                     # 반복범위 자리에는 range, list, 문자열 등 대부분의 자료형이 들어갈 수 있다.\n",
        "    수행동작\n",
        "'''"
      ],
      "id": "21f338f8",
      "execution_count": null,
      "outputs": []
    },
    {
      "cell_type": "markdown",
      "metadata": {
        "id": "98b8a7e3"
      },
      "source": [
        "### 반복문 | range(시작, 끝)\n",
        "\n",
        "반복문에서 숫자범위를 표현할 때 range()함수를 통해 반복문의 반복 범위를 정할 수 있다. "
      ],
      "id": "98b8a7e3"
    },
    {
      "cell_type": "code",
      "metadata": {
        "id": "c6a7c443",
        "outputId": "623288f0-be23-47e3-abff-a7d84cfa2f3a"
      },
      "source": [
        "for i in range(1,7): # 1부터 6까지의 범위에 걸쳐 차례대로 하나씩 i에 넣어 명령을 수행해라\n",
        "                     # 배열은 0부터 시작하니까 1부터 6까지 출력하려면 \n",
        "                     # 배열 0부터 7까지 출력해야 한다.\n",
        "    print(i)"
      ],
      "id": "c6a7c443",
      "execution_count": null,
      "outputs": [
        {
          "output_type": "stream",
          "text": [
            "1\n",
            "2\n",
            "3\n",
            "4\n",
            "5\n",
            "6\n"
          ],
          "name": "stdout"
        }
      ]
    },
    {
      "cell_type": "code",
      "metadata": {
        "id": "417a761a",
        "outputId": "3aaf58c2-a350-4db3-f2de-18dd81892a98"
      },
      "source": [
        "sum = 0\n",
        "for i in range(3, 7): # 3부터 6까지의 범위를 반복하겠다.\n",
        "    sum = i + sum     # 3 + 4 + 5 + 6 = 18\n",
        "print(sum)"
      ],
      "id": "417a761a",
      "execution_count": null,
      "outputs": [
        {
          "output_type": "stream",
          "text": [
            "18\n"
          ],
          "name": "stdout"
        }
      ]
    },
    {
      "cell_type": "code",
      "metadata": {
        "id": "8d0834ed",
        "outputId": "01c9f54c-64a7-4252-8800-78f91f53ce70"
      },
      "source": [
        "sum = 0\n",
        "for i in range(3, 10, 2): # 3부터 9까지 스탭2를 뛴다.(3, 5, 7, 9)\n",
        "    print(i)\n",
        "    sum = i + sum\n",
        "print(\"result: \", sum)"
      ],
      "id": "8d0834ed",
      "execution_count": null,
      "outputs": [
        {
          "output_type": "stream",
          "text": [
            "3\n",
            "5\n",
            "7\n",
            "9\n",
            "result:  24\n"
          ],
          "name": "stdout"
        }
      ]
    },
    {
      "cell_type": "markdown",
      "metadata": {
        "id": "3342e903"
      },
      "source": [
        "### 반복문 | 문자열"
      ],
      "id": "3342e903"
    },
    {
      "cell_type": "code",
      "metadata": {
        "id": "48563f5d",
        "outputId": "80a38f79-83aa-48f9-c7de-2a436802f09f"
      },
      "source": [
        "count = 0\n",
        "for i in \"Hey World\": # 해당 문자열을 반복범위로 정하여\n",
        "                      # 변수 i가 이 범위를, 즉 각 문자를 하나씩 확인하며 동작을 수행한다.\n",
        "    print(i)          # 띄어쓰기도 하나의 문자로 인식해서 띄어쓰기까지 출력한다. "
      ],
      "id": "48563f5d",
      "execution_count": null,
      "outputs": [
        {
          "output_type": "stream",
          "text": [
            "H\n",
            "e\n",
            "y\n",
            " \n",
            "W\n",
            "o\n",
            "r\n",
            "l\n",
            "d\n"
          ],
          "name": "stdout"
        }
      ]
    },
    {
      "cell_type": "code",
      "metadata": {
        "id": "35792805",
        "outputId": "f666ab34-52f7-4e1b-ce7b-d56c839e951b"
      },
      "source": [
        "'''\n",
        "1. 해당 문자열을 i가 돌면서 하나씩 담아 동작을 수행한다.\n",
        "2. i가 \"o\"이면\n",
        "3. 1을 count해라\n",
        "4. 대문자 o는 세지 않은 것을 확인할 수 있다. 파이썬은 대소문자를 구분한다.\n",
        "'''\n",
        "\n",
        "count = 0\n",
        "for i in \"Hey World, oh octopus's birthday is in October\": # 1\n",
        "    if i == \"o\":                                           # 2\n",
        "        count = count + 1                                  # 3\n",
        "print(\"o는\", count, \"개이다.\")                              # 4"
      ],
      "id": "35792805",
      "execution_count": null,
      "outputs": [
        {
          "output_type": "stream",
          "text": [
            "o는 5 개이다.\n"
          ],
          "name": "stdout"
        }
      ]
    },
    {
      "cell_type": "code",
      "metadata": {
        "id": "ec34c4af",
        "outputId": "897ca13f-a9ef-466a-c7b8-90a5791a7a70"
      },
      "source": [
        "a = input(\"입력: \") # input에 들어간 값은 문자열로 기록된다.\n",
        "b = a.split(\" \") # 문자열을 공백(\" \")을 기준으로 나눈다. \n",
        "             # split()함수는 특정 기준으로 문자열을 나눈 뒤 나눈 문자열을 리스트로 저장한다.\n",
        "print(b)\n",
        "print(\" \")\n",
        "for i in b:\n",
        "    print(i)"
      ],
      "id": "ec34c4af",
      "execution_count": null,
      "outputs": [
        {
          "output_type": "stream",
          "text": [
            "입력: 식빵 바게트 샌드위치 케잌 도넛\n",
            "['식빵', '바게트', '샌드위치', '케잌', '도넛']\n",
            " \n",
            "식빵\n",
            "바게트\n",
            "샌드위치\n",
            "케잌\n",
            "도넛\n"
          ],
          "name": "stdout"
        }
      ]
    },
    {
      "cell_type": "markdown",
      "metadata": {
        "id": "27c12b7f"
      },
      "source": [
        " ### 반복문 | 리스트"
      ],
      "id": "27c12b7f"
    },
    {
      "cell_type": "code",
      "metadata": {
        "id": "11370c35",
        "outputId": "a1c44d14-3c5a-4211-afa2-1fc3db7a0a1f"
      },
      "source": [
        "sum = 0\n",
        "a = [1, 3, 7, 10]\n",
        "for i in a:   # 변수 i가 해당 리스트의 각 원소를 하나씩 방문하여 명령을 수행한다.\n",
        "    sum = i + sum\n",
        "print(\"result: \", sum)"
      ],
      "id": "11370c35",
      "execution_count": null,
      "outputs": [
        {
          "output_type": "stream",
          "text": [
            "result:  21\n"
          ],
          "name": "stdout"
        }
      ]
    },
    {
      "cell_type": "code",
      "metadata": {
        "id": "7d487cee",
        "outputId": "8c06d96b-fa2f-4879-a7df-8eff19471731"
      },
      "source": [
        "a = [\"안녕\", \"나비야\", \"나비야\", \"이리\", \"날아\", \"오너라\"]\n",
        "for i in a:\n",
        "    print(i)"
      ],
      "id": "7d487cee",
      "execution_count": null,
      "outputs": [
        {
          "output_type": "stream",
          "text": [
            "안녕\n",
            "나비야\n",
            "나비야\n",
            "이리\n",
            "날아\n",
            "오너라\n"
          ],
          "name": "stdout"
        }
      ]
    },
    {
      "cell_type": "markdown",
      "metadata": {
        "id": "0283520a"
      },
      "source": [
        "### 반복문 | break, continue\n",
        "\n",
        "반복문은 continue, break구문과 함께 사용할 수 있다.\n",
        "\n",
        "- continue구문: 반복문에서 continue를 만나면 더이상 동작을 수행하지 않고 다음 반복을 진행한다. 즉, 반복문을 돌다가 continue를 만나면 건너뛰는 것이다.\n",
        "\n",
        "- break구문: break를 만났을 때 즉시 반복문을 벗어난다."
      ],
      "id": "0283520a"
    },
    {
      "cell_type": "code",
      "metadata": {
        "id": "c850726a",
        "outputId": "1267b7d5-4c1e-442b-b38d-eb7e5cb8b295"
      },
      "source": [
        "'''\n",
        "# continue구문\n",
        "'''\n",
        "# 1부터 10 사이에 있는 짝수들의 합을 구해보자\n",
        "\n",
        "sum = 0\n",
        "for i in range(1,11):   # 1부터 10까지의 값을 하나씩 i에 넣어 반복문을 수행한다.\n",
        "    if i % 2 == 1:      # i의 값을 2로 나눈 나머지가 1이면 홀수.\n",
        "        continue        # 그러니까 pass. 홀수는 pass. \n",
        "                        # 홀수일 경우에는 아래 동작이 수행되지 않음\n",
        "    print(i)\n",
        "    sum = i + sum\n",
        "print(\"짝수의 합: \", sum)"
      ],
      "id": "c850726a",
      "execution_count": null,
      "outputs": [
        {
          "output_type": "stream",
          "text": [
            "2\n",
            "4\n",
            "6\n",
            "8\n",
            "10\n",
            "짝수의 합:  30\n"
          ],
          "name": "stdout"
        }
      ]
    },
    {
      "cell_type": "code",
      "metadata": {
        "id": "fbc8395e",
        "outputId": "a3a4f280-67ca-40d1-9b52-02e3e0a72439"
      },
      "source": [
        "'''\n",
        "break구문\n",
        "'''\n",
        "sum = 0\n",
        "for i in range(4,11): # range(4,11)은 4, 5, 6, 7, 8, 9, 10인데\n",
        "    if i % 2 == 1:    # i가 홀수 일 경우 \n",
        "        break         # 바로 반복문을 탈출하기 때문에\n",
        "    print(i)          # i가 4를 담고 반복문을 돈 후 4를 출력하고\n",
        "                      # 5를 만난 순간 print까지 오지 못하고 반복문을 탈출해버려서 4만 출력됨. "
      ],
      "id": "fbc8395e",
      "execution_count": null,
      "outputs": [
        {
          "output_type": "stream",
          "text": [
            "4\n"
          ],
          "name": "stdout"
        }
      ]
    },
    {
      "cell_type": "code",
      "metadata": {
        "id": "6f44471c"
      },
      "source": [
        "list1 = [2, 5, 3]\n",
        "\n",
        "for i in list1:\n",
        "    if i % 2 == 0:  # i가 짝수 일 경우 \n",
        "        break       # 바로 반복문을 탈출하기 때문에\n",
        "    print(i)        # i가 2를 담자마자 break를 만나 탈출해버려서 출력되는 값이 없음."
      ],
      "id": "6f44471c",
      "execution_count": null,
      "outputs": []
    },
    {
      "cell_type": "markdown",
      "metadata": {
        "id": "3388153d"
      },
      "source": [
        "### 반복문 | while문\n",
        "\n",
        "반복문에는 for문 외에 while문도 있다. 일반적으로 for문이 더 많이 사용되지만 while문이 for문보다 비교적 간단하기 때문에 알아두면 좋을 것이다."
      ],
      "id": "3388153d"
    },
    {
      "cell_type": "code",
      "metadata": {
        "id": "44eba11c",
        "outputId": "2c847417-336c-47cd-82cc-db283ba7c181"
      },
      "source": [
        "i = 0\n",
        "sum = 0\n",
        "\n",
        "while i <= 8:         # i가 8이하일 때 해당 구문은 반복한다.\n",
        "    i = i + 1         # 반복문이 실행되면 i에 1을 더한다.\n",
        "    if i % 2 == 1:    # i가 홀수면 \n",
        "        continue      # 여기에서 끝내고 다시 돌아간다. \n",
        "    sum = i + sum     # 결론적으로 짝수일때만 sum이 수행된다.\n",
        "print(sum)            # 1부터 8사이에 있는 짝수들의 합이 구해진다."
      ],
      "id": "44eba11c",
      "execution_count": null,
      "outputs": [
        {
          "output_type": "stream",
          "text": [
            "20\n"
          ],
          "name": "stdout"
        }
      ]
    },
    {
      "cell_type": "code",
      "metadata": {
        "id": "fc506296"
      },
      "source": [
        ""
      ],
      "id": "fc506296",
      "execution_count": null,
      "outputs": []
    }
  ]
}