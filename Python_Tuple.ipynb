{
  "nbformat": 4,
  "nbformat_minor": 5,
  "metadata": {
    "kernelspec": {
      "display_name": "Python 3",
      "language": "python",
      "name": "python3"
    },
    "language_info": {
      "codemirror_mode": {
        "name": "ipython",
        "version": 3
      },
      "file_extension": ".py",
      "mimetype": "text/x-python",
      "name": "python",
      "nbconvert_exporter": "python",
      "pygments_lexer": "ipython3",
      "version": "3.7.10"
    },
    "toc": {
      "base_numbering": 1,
      "nav_menu": {},
      "number_sections": true,
      "sideBar": true,
      "skip_h1_title": false,
      "title_cell": "Table of Contents",
      "title_sidebar": "Contents",
      "toc_cell": true,
      "toc_position": {},
      "toc_section_display": true,
      "toc_window_display": false
    },
    "colab": {
      "name": "Python_Tuple.ipynb",
      "provenance": [],
      "include_colab_link": true
    }
  },
  "cells": [
    {
      "cell_type": "markdown",
      "metadata": {
        "id": "view-in-github",
        "colab_type": "text"
      },
      "source": [
        "<a href=\"https://colab.research.google.com/github/finddme/Python/blob/master/Python_Tuple.ipynb\" target=\"_parent\"><img src=\"https://colab.research.google.com/assets/colab-badge.svg\" alt=\"Open In Colab\"/></a>"
      ]
    },
    {
      "cell_type": "markdown",
      "metadata": {
        "toc": true,
        "id": "8d13f22c"
      },
      "source": [
        "<h1>Table of Contents<span class=\"tocSkip\"></span></h1>\n",
        "<div class=\"toc\"><ul class=\"toc-item\"><li><span><a href=\"#튜플(Tuple)-자료형\" data-toc-modified-id=\"튜플(Tuple)-자료형-1\"><span class=\"toc-item-num\">1&nbsp;&nbsp;</span>튜플(Tuple) 자료형</a></span><ul class=\"toc-item\"><li><span><a href=\"#튜플-자료형-|-개별-원소-|-접근\" data-toc-modified-id=\"튜플-자료형-|-개별-원소-|-접근-1.1\"><span class=\"toc-item-num\">1.1&nbsp;&nbsp;</span>튜플 자료형 | 개별 원소 | 접근</a></span></li><li><span><a href=\"#튜플-자료형-|-개별-원소-|-합(반복문-사용)\" data-toc-modified-id=\"튜플-자료형-|-개별-원소-|-합(반복문-사용)-1.2\"><span class=\"toc-item-num\">1.2&nbsp;&nbsp;</span>튜플 자료형 | 개별 원소 | 합(반복문 사용)</a></span></li><li><span><a href=\"#튜플-자료형-|-다차원-배열\" data-toc-modified-id=\"튜플-자료형-|-다차원-배열-1.3\"><span class=\"toc-item-num\">1.3&nbsp;&nbsp;</span>튜플 자료형 | 다차원 배열</a></span></li><li><span><a href=\"#튜플-자료형-|-개별-원소-|-변경\" data-toc-modified-id=\"튜플-자료형-|-개별-원소-|-변경-1.4\"><span class=\"toc-item-num\">1.4&nbsp;&nbsp;</span>튜플 자료형 | 개별 원소 | 변경</a></span></li><li><span><a href=\"#튜플-자료형-|-Slicing\" data-toc-modified-id=\"튜플-자료형-|-Slicing-1.5\"><span class=\"toc-item-num\">1.5&nbsp;&nbsp;</span>튜플 자료형 | Slicing</a></span></li><li><span><a href=\"#튜플-자료형-|-연산\" data-toc-modified-id=\"튜플-자료형-|-연산-1.6\"><span class=\"toc-item-num\">1.6&nbsp;&nbsp;</span>튜플 자료형 | 연산</a></span></li></ul></li></ul></div>"
      ],
      "id": "8d13f22c"
    },
    {
      "cell_type": "markdown",
      "metadata": {
        "id": "d06fca43"
      },
      "source": [
        "## 튜플(Tuple) 자료형\n",
        "\n",
        "튜플 자료형은 리스트와 비슷하지만 원소 변경이 불가능하다는 차이가 있다. \n",
        "\n",
        "리스트는 이미 선언된 변수의 개별 원소에 인덱스를 통해 접근하여 값을 바꿀 수 있지만,  \n",
        "\n",
        "튜플은 한번 입력된 값을 바꿀 수 없다.\n",
        "\n",
        "이를 제외하고는 리스트의 사용법과 동일하다고 볼 수 있다."
      ],
      "id": "d06fca43"
    },
    {
      "cell_type": "code",
      "metadata": {
        "id": "68ac202d",
        "outputId": "7bf9d9bf-87f4-4fff-b2fb-274b72c554b7"
      },
      "source": [
        "'''\n",
        "튜플은 소괄호(())를 이용하여 변수를 선언할 수 있다. \n",
        "'''\n",
        "tuple1 = (1, 2, 3, 4)\n",
        "print(tuple1)"
      ],
      "id": "68ac202d",
      "execution_count": null,
      "outputs": [
        {
          "output_type": "stream",
          "text": [
            "(1, 2, 3, 4)\n"
          ],
          "name": "stdout"
        }
      ]
    },
    {
      "cell_type": "markdown",
      "metadata": {
        "id": "059d7823"
      },
      "source": [
        "### 튜플 자료형 | 개별 원소 | 접근\n",
        "\n",
        "튜플도 리스트와 마찬가지로 개별 원소에 접근할 수 있다."
      ],
      "id": "059d7823"
    },
    {
      "cell_type": "code",
      "metadata": {
        "id": "9152c63e",
        "outputId": "62fd7fd7-271d-4349-b18b-19586b01304a"
      },
      "source": [
        "# 각 원소에 접근하여 하나씩 출력해보겠다.\n",
        "for i in tuple1:\n",
        "    print(i)"
      ],
      "id": "9152c63e",
      "execution_count": null,
      "outputs": [
        {
          "output_type": "stream",
          "text": [
            "1\n",
            "2\n",
            "3\n",
            "4\n"
          ],
          "name": "stdout"
        }
      ]
    },
    {
      "cell_type": "markdown",
      "metadata": {
        "id": "1adfc535"
      },
      "source": [
        "### 튜플 자료형 | 개별 원소 | 합(반복문 사용)"
      ],
      "id": "1adfc535"
    },
    {
      "cell_type": "code",
      "metadata": {
        "id": "f405330d",
        "outputId": "63ad1f48-559e-4cae-c35e-a77cd383793c"
      },
      "source": [
        "# 개별 원소들을 하나씩 꺼내서 더하는 것도 리스트와 동일하게 가능하다.\n",
        "sum = 0\n",
        "for i in tuple1:\n",
        "    sum = i + sum\n",
        "print(sum)"
      ],
      "id": "f405330d",
      "execution_count": null,
      "outputs": [
        {
          "output_type": "stream",
          "text": [
            "10\n"
          ],
          "name": "stdout"
        }
      ]
    },
    {
      "cell_type": "markdown",
      "metadata": {
        "id": "7a25694a"
      },
      "source": [
        "### 튜플 자료형 | 다차원 배열"
      ],
      "id": "7a25694a"
    },
    {
      "cell_type": "code",
      "metadata": {
        "id": "2b7a2ae2",
        "outputId": "72573c3d-516d-43cc-997f-798956726542"
      },
      "source": [
        "# 튜플도 다차원 배열이 가능하다. \n",
        "# 리스트와 마찬가지로 같은 자료형을 가진 객체들이 나열될 수 있다. \n",
        "\n",
        "# 튜플이 튜플의 원소가 될 수 있다. 이 경우 2차원 배열이 되는 것이다.\n",
        "tuple1 = (1, 2, 3, 4)\n",
        "tuple2 = (5, 6, 7, 8)\n",
        "tuple3 = (tuple1, tuple2)\n",
        "print(tuple3)"
      ],
      "id": "2b7a2ae2",
      "execution_count": null,
      "outputs": [
        {
          "output_type": "stream",
          "text": [
            "((1, 2, 3, 4), (5, 6, 7, 8))\n"
          ],
          "name": "stdout"
        }
      ]
    },
    {
      "cell_type": "code",
      "metadata": {
        "id": "13caea1e",
        "outputId": "cda9c600-3ca4-45e5-ac3d-0328ecdfdcda"
      },
      "source": [
        "# 리스트도 튜플의 원소가 될 수 있다.\n",
        "list1 = [1, 2, 3, 4]\n",
        "list2 = [5, 6, 7, 8]\n",
        "tuple4 = (list1, list2)\n",
        "print(tuple4)"
      ],
      "id": "13caea1e",
      "execution_count": null,
      "outputs": [
        {
          "output_type": "stream",
          "text": [
            "([1, 2, 3, 4], [5, 6, 7, 8])\n"
          ],
          "name": "stdout"
        }
      ]
    },
    {
      "cell_type": "code",
      "metadata": {
        "id": "4f87c9b9",
        "outputId": "7039e5f7-e48e-4d12-a117-1a879a90d075"
      },
      "source": [
        "# 다차원 배열 내부의 원소에 접근할 수 있다.\n",
        "print(tuple4[0][2]) #  변수tuple4의 첫 번째 원소의 세 번째 원소를 출려"
      ],
      "id": "4f87c9b9",
      "execution_count": null,
      "outputs": [
        {
          "output_type": "stream",
          "text": [
            "3\n"
          ],
          "name": "stdout"
        }
      ]
    },
    {
      "cell_type": "code",
      "metadata": {
        "id": "4cbf3413",
        "outputId": "f03eca2e-d835-4747-8911-b0457fcc02c1"
      },
      "source": [
        "# 튜플 내부에 있는 튜플의 원소에도 접근할 수 있다.\n",
        "print(tuple3[0][2])"
      ],
      "id": "4cbf3413",
      "execution_count": null,
      "outputs": [
        {
          "output_type": "stream",
          "text": [
            "3\n"
          ],
          "name": "stdout"
        }
      ]
    },
    {
      "cell_type": "markdown",
      "metadata": {
        "id": "6c1854f9"
      },
      "source": [
        "### 튜플 자료형 | 개별 원소 | 변경"
      ],
      "id": "6c1854f9"
    },
    {
      "cell_type": "code",
      "metadata": {
        "id": "9e58ad74",
        "outputId": "2b29d044-0757-44e8-c886-e6dbbba4c6a7"
      },
      "source": [
        "# tuple1의 첫 번째 원소를 2로 변경하겠다. \n",
        "# 불가. 튜플의 원소를 바꾸는 것은 불가능하다.\n",
        "tuple1[0] = 2 "
      ],
      "id": "9e58ad74",
      "execution_count": null,
      "outputs": [
        {
          "output_type": "error",
          "ename": "TypeError",
          "evalue": "'tuple' object does not support item assignment",
          "traceback": [
            "\u001b[1;31m---------------------------------------------------------------------------\u001b[0m",
            "\u001b[1;31mTypeError\u001b[0m                                 Traceback (most recent call last)",
            "\u001b[1;32m<ipython-input-10-8872d489396a>\u001b[0m in \u001b[0;36m<module>\u001b[1;34m\u001b[0m\n\u001b[0;32m      1\u001b[0m \u001b[1;31m# tuple1의 첫 번째 원소를 2로 변경하겠다.\u001b[0m\u001b[1;33m\u001b[0m\u001b[1;33m\u001b[0m\u001b[1;33m\u001b[0m\u001b[0m\n\u001b[0;32m      2\u001b[0m \u001b[1;31m# 불가. 튜플의 원소를 바꾸는 것은 불가능하다.\u001b[0m\u001b[1;33m\u001b[0m\u001b[1;33m\u001b[0m\u001b[1;33m\u001b[0m\u001b[0m\n\u001b[1;32m----> 3\u001b[1;33m \u001b[0mtuple1\u001b[0m\u001b[1;33m[\u001b[0m\u001b[1;36m0\u001b[0m\u001b[1;33m]\u001b[0m \u001b[1;33m=\u001b[0m \u001b[1;36m2\u001b[0m\u001b[1;33m\u001b[0m\u001b[1;33m\u001b[0m\u001b[0m\n\u001b[0m",
            "\u001b[1;31mTypeError\u001b[0m: 'tuple' object does not support item assignment"
          ]
        }
      ]
    },
    {
      "cell_type": "code",
      "metadata": {
        "id": "525dc212",
        "outputId": "09b42e58-9592-40d0-ddde-d4791b0f9d10"
      },
      "source": [
        "# 튜플 안에 담긴 원소가 리스트일 경우,\n",
        "# 리스트는 튜플 안에 들어있어도 여전히 리스트이기 때문에 원소 변경이 가능하다.\n",
        "list1 = [1, 2, 3, 4]\n",
        "list2 = [5, 6, 7, 8]\n",
        "tuple4 = (list1, list2)\n",
        "print(\"변경 전: \", tuple4)\n",
        "\n",
        "tuple4[0][1] = 100  # tuple4의 첫 번째 원소의 두 번째 원소를 100으로 변경\n",
        "print(\"변경 후1: \", tuple4)\n",
        "\n",
        "tuple4[0][1] = [2, 4, 5]\n",
        "print(\"변경 후2: \", tuple4)"
      ],
      "id": "525dc212",
      "execution_count": null,
      "outputs": [
        {
          "output_type": "stream",
          "text": [
            "변경 전:  ([1, 2, 3, 4], [5, 6, 7, 8])\n",
            "변경 후1:  ([1, 100, 3, 4], [5, 6, 7, 8])\n",
            "변경 후2:  ([1, [2, 4, 5], 3, 4], [5, 6, 7, 8])\n"
          ],
          "name": "stdout"
        }
      ]
    },
    {
      "cell_type": "markdown",
      "metadata": {
        "id": "74ea81f0"
      },
      "source": [
        "### 튜플 자료형 | Slicing\n",
        "\n",
        "튜플 자료형은 문자열과 리스트와 마찬가지로 indexing이 적용되고,\n",
        "\n",
        "그 index를 기준으로 slicing이 가능하다."
      ],
      "id": "74ea81f0"
    },
    {
      "cell_type": "code",
      "metadata": {
        "id": "12c04f34",
        "outputId": "0a9daa5e-65dd-4aa6-d2d9-15f1f7037f13"
      },
      "source": [
        "tuple1 = (1, 2, 3, 4, 5, 6)\n",
        "print(tuple1[0:3]) # tuple1의 인덱스 0부터 2까지의 원소를 출력"
      ],
      "id": "12c04f34",
      "execution_count": null,
      "outputs": [
        {
          "output_type": "stream",
          "text": [
            "(1, 2, 3)\n"
          ],
          "name": "stdout"
        }
      ]
    },
    {
      "cell_type": "markdown",
      "metadata": {
        "id": "3dc90c97"
      },
      "source": [
        "### 튜플 자료형 | 연산"
      ],
      "id": "3dc90c97"
    },
    {
      "cell_type": "code",
      "metadata": {
        "id": "d309b2bf",
        "outputId": "66e46b01-5656-43f1-9038-ba71c54b3337"
      },
      "source": [
        "print(tuple1[0:3] * 2) # tuple1의 인덱스 0-2의 원소를 2배 증폭"
      ],
      "id": "d309b2bf",
      "execution_count": null,
      "outputs": [
        {
          "output_type": "stream",
          "text": [
            "(1, 2, 3, 1, 2, 3)\n"
          ],
          "name": "stdout"
        }
      ]
    },
    {
      "cell_type": "code",
      "metadata": {
        "id": "5ad609f7"
      },
      "source": [
        ""
      ],
      "id": "5ad609f7",
      "execution_count": null,
      "outputs": []
    }
  ]
}