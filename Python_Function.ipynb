{
  "nbformat": 4,
  "nbformat_minor": 5,
  "metadata": {
    "kernelspec": {
      "display_name": "Python 3",
      "language": "python",
      "name": "python3"
    },
    "language_info": {
      "codemirror_mode": {
        "name": "ipython",
        "version": 3
      },
      "file_extension": ".py",
      "mimetype": "text/x-python",
      "name": "python",
      "nbconvert_exporter": "python",
      "pygments_lexer": "ipython3",
      "version": "3.7.10"
    },
    "toc": {
      "base_numbering": 1,
      "nav_menu": {},
      "number_sections": true,
      "sideBar": true,
      "skip_h1_title": false,
      "title_cell": "Table of Contents",
      "title_sidebar": "Contents",
      "toc_cell": true,
      "toc_position": {},
      "toc_section_display": true,
      "toc_window_display": false
    },
    "colab": {
      "name": "Python_Function.ipynb",
      "provenance": [],
      "include_colab_link": true
    }
  },
  "cells": [
    {
      "cell_type": "markdown",
      "metadata": {
        "id": "view-in-github",
        "colab_type": "text"
      },
      "source": [
        "<a href=\"https://colab.research.google.com/github/finddme/Python/blob/master/Python_Function.ipynb\" target=\"_parent\"><img src=\"https://colab.research.google.com/assets/colab-badge.svg\" alt=\"Open In Colab\"/></a>"
      ]
    },
    {
      "cell_type": "markdown",
      "metadata": {
        "toc": true,
        "id": "b4bed6a9"
      },
      "source": [
        "<h1>Table of Contents<span class=\"tocSkip\"></span></h1>\n",
        "<div class=\"toc\"><ul class=\"toc-item\"><li><span><a href=\"#함수(Function)\" data-toc-modified-id=\"함수(Function)-1\"><span class=\"toc-item-num\">1&nbsp;&nbsp;</span>함수(Function)</a></span><ul class=\"toc-item\"><li><span><a href=\"#함수-|-정의\" data-toc-modified-id=\"함수-|-정의-1.1\"><span class=\"toc-item-num\">1.1&nbsp;&nbsp;</span>함수 | 정의</a></span></li><li><span><a href=\"#함수-|-호출\" data-toc-modified-id=\"함수-|-호출-1.2\"><span class=\"toc-item-num\">1.2&nbsp;&nbsp;</span>함수 | 호출</a></span></li><li><span><a href=\"#함수-|-가변인자\" data-toc-modified-id=\"함수-|-가변인자-1.3\"><span class=\"toc-item-num\">1.3&nbsp;&nbsp;</span>함수 | 가변인자</a></span></li><li><span><a href=\"#함수-|-지역변수,-전역변수\" data-toc-modified-id=\"함수-|-지역변수,-전역변수-1.4\"><span class=\"toc-item-num\">1.4&nbsp;&nbsp;</span>함수 | 지역변수, 전역변수</a></span></li><li><span><a href=\"#함수-|-global\" data-toc-modified-id=\"함수-|-global-1.5\"><span class=\"toc-item-num\">1.5&nbsp;&nbsp;</span>함수 | global</a></span></li><li><span><a href=\"#함수-|-복수-반환\" data-toc-modified-id=\"함수-|-복수-반환-1.6\"><span class=\"toc-item-num\">1.6&nbsp;&nbsp;</span>함수 | 복수 반환</a></span></li></ul></li><li><span><a href=\"#람다(lambda)\" data-toc-modified-id=\"람다(lambda)-2\"><span class=\"toc-item-num\">2&nbsp;&nbsp;</span>람다(lambda)</a></span><ul class=\"toc-item\"><li><span><a href=\"#람다-|-map(lambda식이-담긴-변수,-리스트,-리스트)\" data-toc-modified-id=\"람다-|-map(lambda식이-담긴-변수,-리스트,-리스트)-2.1\"><span class=\"toc-item-num\">2.1&nbsp;&nbsp;</span>람다 | map(lambda식이 담긴 변수, 리스트, 리스트)</a></span></li></ul></li></ul></div>"
      ],
      "id": "b4bed6a9"
    },
    {
      "cell_type": "markdown",
      "metadata": {
        "id": "a5ccf1ae"
      },
      "source": [
        "## 함수(Function)\n",
        "\n",
        "특정 동작을 수행하는 소스코드를 묶어서 언제든지 사용할 수 있게 하는 것. \n",
        "\n",
        "> 내장 함수: 라이브러리에 이미 만들어져 있는 함수.\n",
        "\n",
        "> 사용자 정의 함수: 사용자가 직접 정의해서 사용하는 함수."
      ],
      "id": "a5ccf1ae"
    },
    {
      "cell_type": "code",
      "metadata": {
        "id": "df95a509"
      },
      "source": [
        "'''\n",
        "함수는 프로그램 내에서 입력(매개변수)를 받아 명령을 수행하여 결과를 출력하는 모듈이다.\n",
        "'''"
      ],
      "id": "df95a509",
      "execution_count": null,
      "outputs": []
    },
    {
      "cell_type": "markdown",
      "metadata": {
        "id": "fb10fbbc"
      },
      "source": [
        "### 함수 | 정의\n",
        "\n",
        "def(define. 정의한다)라는 키워드를 통해 함수를 정의. 반복되는 소스코드를 함수로 정의해 놓으면 소스코드의 반복을 줄여 효율적인 코드를 만들 수 있다. 함수는 간결하게 정의할 수록 좋다."
      ],
      "id": "fb10fbbc"
    },
    {
      "cell_type": "code",
      "metadata": {
        "id": "7e8b9867"
      },
      "source": [
        "'''\n",
        "함수 정의 방법:\n",
        "\n",
        "def 함수명(매개변수):     # def 뒤에 함수 이름을 적는다. 매개변수(전달할 값)를 넣는다. colon(:)을 찍는다.\n",
        "    명령문              # 명령문을 쓴다.\n",
        "    .  \n",
        "    .  \n",
        "    .  \n",
        "    return 값          # return을 통해 함수 수행 결과를 반환한다.\n",
        "\n",
        "# 매개변수는 해당 함수 안에서만 처리된다. 함수 동작에 필요 없으면 안 적어도 된다.\n",
        "# 반환할 값이 없으면 retrun문이 없어도 된다.\n",
        "\n",
        "# 매개변수와 반환값은 여러개일 수 있다.\n",
        "'''"
      ],
      "id": "7e8b9867",
      "execution_count": null,
      "outputs": []
    },
    {
      "cell_type": "code",
      "metadata": {
        "id": "e408bc42",
        "outputId": "32b6d508-b213-47b8-bf79-e1912ca191fc"
      },
      "source": [
        "def hey_world(): # hey_world라는 함수를 정의한다.\n",
        "  print(\"Hey\") # hey_world라는 이름의 함수가 수행할 동작은 Hey World를 출력하는 것이다.\n",
        "  print(\"World\")\n",
        "\n",
        "hey_world()"
      ],
      "id": "e408bc42",
      "execution_count": null,
      "outputs": [
        {
          "output_type": "stream",
          "text": [
            "Hey\n",
            "World\n"
          ],
          "name": "stdout"
        }
      ]
    },
    {
      "cell_type": "code",
      "metadata": {
        "id": "788e6d37",
        "outputId": "d41799c6-1ab3-4831-afee-38111c67745c"
      },
      "source": [
        "'''\n",
        "1. a_b_sum이라는 함수를 정의한다. 이 함수가 실행될 때 매개변수 b를 받도록 한다. \n",
        "   (어떤 변수를 받아 그 변수를 b에 넣는다.)\n",
        "2. 이 함수는 변수 a와 b를 합해 변수 c에 넣는 동작을 수행한다.\n",
        "3. 변수 c를 반환한다.\n",
        "4. 7을 해당 함수에 매개변수로 넣어 처리된 값을 출력한다.(7은 변수 b에 넣어진다.)\n",
        "'''\n",
        "\n",
        "\n",
        "a = 10\n",
        "def a_b_sum(b):   # 1\n",
        "  c = a + b       # 2\n",
        "  return(c)       # 3\n",
        "\n",
        "print(a_b_sum(7)) # 4"
      ],
      "id": "788e6d37",
      "execution_count": null,
      "outputs": [
        {
          "output_type": "stream",
          "text": [
            "17\n"
          ],
          "name": "stdout"
        }
      ]
    },
    {
      "cell_type": "code",
      "metadata": {
        "id": "aeee659f",
        "outputId": "68599d73-5aa3-45b6-e6b9-9a85553844d1"
      },
      "source": [
        "# 함수 안에서 바로 출력하도록 만들 수 있다.\n",
        "def add(a,b):\n",
        "  c = a + b\n",
        "  return c\n",
        "\n",
        "print(add(3,5))\n",
        "\n",
        "print(\"--------\")\n",
        "\n",
        "# return구문이 없을 수도 있다. 함수 안에서 출력까지 진행될 수 있다.\n",
        "def sum(a,b):\n",
        "  c = a + b \n",
        "  print(c) # 이렇게 함수 안에서 바로 출력하도록 만들면 된다.\n",
        "\n",
        "sum(3,5)"
      ],
      "id": "aeee659f",
      "execution_count": null,
      "outputs": [
        {
          "output_type": "stream",
          "text": [
            "8\n",
            "--------\n",
            "8\n"
          ],
          "name": "stdout"
        }
      ]
    },
    {
      "cell_type": "code",
      "metadata": {
        "id": "24e32490",
        "outputId": "4d304c1e-23be-4aa7-a70b-eb26e3be59b9"
      },
      "source": [
        "# return의 값으로는 값과 수식 모두 들어갈 수 있다.\n",
        "# 함수가 간결해진다. 함수는 간결할 수록 좋다.\n",
        "\n",
        "def add2(a,b):\n",
        "  return a + b \n",
        "\n",
        "print(add2(3,4))\n",
        "\n",
        "print(\"--------\")\n",
        "\n",
        "def add3(a,b):\n",
        "  print(a + b)\n",
        "\n",
        "add3(3,4)"
      ],
      "id": "24e32490",
      "execution_count": null,
      "outputs": [
        {
          "output_type": "stream",
          "text": [
            "7\n",
            "--------\n",
            "7\n"
          ],
          "name": "stdout"
        }
      ]
    },
    {
      "cell_type": "markdown",
      "metadata": {
        "id": "e45531c6"
      },
      "source": [
        "### 함수 | 호출\n",
        "\n",
        "정의한 함수는 '함수명(매개변수)'를 통해 호출할 수 있다. \n",
        "\n",
        "> 매개변수는 '전달할 값'으로, 함수에 전달할 값이 없으면 함수 정의 시 공란으로 두면 된다. 그러면 호출할 때도 매개변수가 요구되지 않는다.\n",
        "\n",
        "> 함수 호출 시 입력하는 매개변수의 개수는 함수 정의 시 제시한 매개변수의 개수와 동일해야 한다.**굵은 텍스트**"
      ],
      "id": "e45531c6"
    },
    {
      "cell_type": "code",
      "metadata": {
        "id": "1f8b682c",
        "outputId": "0910b53d-b010-4699-e693-d390e73036a4"
      },
      "source": [
        "def add_3_1(a, b, c):\n",
        "  d = a + b + c \n",
        "  return d\n",
        "\n",
        "print(add_3_1(1,2,3))"
      ],
      "id": "1f8b682c",
      "execution_count": null,
      "outputs": [
        {
          "output_type": "stream",
          "text": [
            "6\n"
          ],
          "name": "stdout"
        }
      ]
    },
    {
      "cell_type": "code",
      "metadata": {
        "id": "62e5bc12",
        "outputId": "5de525bb-8559-4988-a0fa-bcd97ac2f133"
      },
      "source": [
        "def add_3_2(a, b, c):\n",
        "  return a + b +c\n",
        "\n",
        "print(add_3_2(1,2,3))"
      ],
      "id": "62e5bc12",
      "execution_count": null,
      "outputs": [
        {
          "output_type": "stream",
          "text": [
            "6\n"
          ],
          "name": "stdout"
        }
      ]
    },
    {
      "cell_type": "code",
      "metadata": {
        "id": "7e830848",
        "outputId": "313b44a6-a9e1-4881-9d45-cda31147890c"
      },
      "source": [
        "def add_3_3(a, b, c):\n",
        "  d = a + b + c\n",
        "  print(d)\n",
        "\n",
        "add_3_3(1,2,3)"
      ],
      "id": "7e830848",
      "execution_count": null,
      "outputs": [
        {
          "output_type": "stream",
          "text": [
            "6\n"
          ],
          "name": "stdout"
        }
      ]
    },
    {
      "cell_type": "markdown",
      "metadata": {
        "id": "51791c2e"
      },
      "source": [
        "### 함수 | 가변인자\n",
        "\n",
        "함수의 매개변수가 가변적일 수 있을 때 가변인자가 사용된다.\n",
        "\n",
        "즉, 매개변수가 1개일 수도, 4개일 수도 있을 때 가변인자를 매개변수로 사용한다."
      ],
      "id": "51791c2e"
    },
    {
      "cell_type": "code",
      "metadata": {
        "id": "69d1dbfd"
      },
      "source": [
        "'''\n",
        "가변인자는 포인터기호(*)를 사용하여 표기한다.\n",
        "\n",
        "가변인자로 다수의 매개변수가 입력될 경우, \n",
        "해당 입력은 함수 내에서 튜플형태로 처리된다.\n",
        "'''"
      ],
      "id": "69d1dbfd",
      "execution_count": null,
      "outputs": []
    },
    {
      "cell_type": "code",
      "metadata": {
        "id": "7d7cc861",
        "outputId": "81e29312-9a79-4c32-eae0-4fb55705897a"
      },
      "source": [
        "# 어떤 데이터가 들어왔을 때 그것을 그대로 출력하는 함수를 만들어보자.\n",
        "def Variable_factor(*data):\n",
        "    print(data)\n",
        "\n",
        "Variable_factor(1,2,3,4,5) \n",
        "# 가변인자로 들어간 매개변수가 튜플형태로 처리된 것을 확인할 수 있다."
      ],
      "id": "7d7cc861",
      "execution_count": null,
      "outputs": [
        {
          "output_type": "stream",
          "text": [
            "(1, 2, 3, 4, 5)\n"
          ],
          "name": "stdout"
        }
      ]
    },
    {
      "cell_type": "markdown",
      "metadata": {
        "id": "d45560a7"
      },
      "source": [
        "### 함수 | 지역변수, 전역변수\n",
        "\n",
        "> 지역변수: [함수 안에 있는 변수] 사용자가 정의한 함수 내에서 선언한 변수. 해당 함수가 실행되는 동안에만 유효하다. 함수가 끝나면 없어지는 변수.\n",
        "\n",
        "> 전역변수: [함수 밖에 있는 변수] 프로그램 내에서 항상 사용 가능한 변수."
      ],
      "id": "d45560a7"
    },
    {
      "cell_type": "code",
      "metadata": {
        "id": "86390ee8",
        "outputId": "737915c6-1520-45b3-d04a-affaad4ef838"
      },
      "source": [
        "a = 10 # -> a: 전역 변수. 함수 밖에 있으니까. \n",
        "       # 프로그램 전체에서 사용 가능.\n",
        "def square(): # -> b는 지역변수. 함수 안에 있으니까. 함수가 종료되면 유효하지 않은 변수.\n",
        "  b = a * a \n",
        "  return(b) \n",
        "c = 30 + square() # -> c는 전역변수\n",
        "print(c)"
      ],
      "id": "86390ee8",
      "execution_count": null,
      "outputs": [
        {
          "output_type": "stream",
          "text": [
            "130\n"
          ],
          "name": "stdout"
        }
      ]
    },
    {
      "cell_type": "code",
      "metadata": {
        "id": "2e4a88cf",
        "outputId": "b7c4c923-e00f-4041-d3a7-7afe82dfdeca"
      },
      "source": [
        "'''\n",
        "지역변수는 함수가 종료되면 유효하지 않다.\n",
        "따라서 add의 매개변수로 a가 들어가 함수 내부에서 2 + 5가 수행되었다고 해도\n",
        "함수를 벗어나면 a는 그대로 2이기 때문에 a를 출력하면 2가 출력된다.\n",
        "'''\n",
        "def add(a):  # 여기 있는 a는 지역변수\n",
        "    a = a + 5  # 여기 있는 a는 지역변수\n",
        "\n",
        "a = 2  # 여기 있는 a는 전역변수\n",
        "add(a) # 여기 있는 a는 지역변수\n",
        "print(a) # 여기 있는 a는 전역변수"
      ],
      "id": "2e4a88cf",
      "execution_count": null,
      "outputs": [
        {
          "output_type": "stream",
          "text": [
            "2\n"
          ],
          "name": "stdout"
        }
      ]
    },
    {
      "cell_type": "code",
      "metadata": {
        "id": "c8fa197b",
        "outputId": "c96f7731-76ae-47d9-8d6d-dc5625d637bd"
      },
      "source": [
        "'''\n",
        "함수 내부에서 처리된 a를 반환해보면 2 + 5가 수행된 값이 출력된다.\n",
        "그리고 함수 외부의 a는 여전히 2이다.\n",
        "'''\n",
        "def add(a):  \n",
        "    a = a + 5\n",
        "    print(\"함수 내부 a: \", a)\n",
        "\n",
        "a = 2  \n",
        "add(a)\n",
        "print(\"함수 외부 a: \", a)"
      ],
      "id": "c8fa197b",
      "execution_count": null,
      "outputs": [
        {
          "output_type": "stream",
          "text": [
            "함수 내부 a:  7\n",
            "함수 외부 a:  2\n"
          ],
          "name": "stdout"
        }
      ]
    },
    {
      "cell_type": "markdown",
      "metadata": {
        "id": "f5f9e61f"
      },
      "source": [
        "### 함수 | global\n",
        "\n",
        "함수 내에서 전역변수를 불러와 사용하고 싶다면 global 키워드를 사용하면 된다."
      ],
      "id": "f5f9e61f"
    },
    {
      "cell_type": "code",
      "metadata": {
        "id": "069d71a0",
        "outputId": "ecc677e5-b993-46fd-9f4f-2c5f01cd26dd"
      },
      "source": [
        "def add():\n",
        "    global a  # global을 통해 a라는 전역변수를 사용하겠다고 명시.\n",
        "    a = a + 5\n",
        "    print(a)\n",
        "\n",
        "a = 2\n",
        "add() # 외부의 변수를 끌어다 쓰기 때문에 매개변수 없이 함수 수행 가능."
      ],
      "id": "069d71a0",
      "execution_count": null,
      "outputs": [
        {
          "output_type": "stream",
          "text": [
            "7\n"
          ],
          "name": "stdout"
        }
      ]
    },
    {
      "cell_type": "markdown",
      "metadata": {
        "id": "b4c44484"
      },
      "source": [
        "### 함수 | 복수 반환\n",
        "\n",
        "함수의 반환값은 여러개일 수 있다. \n",
        "\n",
        "반환값이 여러개일 경우 tuple형태로 반환된다."
      ],
      "id": "b4c44484"
    },
    {
      "cell_type": "code",
      "metadata": {
        "id": "6a31f003",
        "outputId": "d8ebe3df-570a-490d-9b88-9f620e372e94"
      },
      "source": [
        "def multiple_return(): # 하나의 함수가\n",
        "    a = 1\n",
        "    b = [3, 4, 5]\n",
        "    c = (8, 9)\n",
        "    d = \"여러개\"\n",
        "    return a, b, c, d  # 여러개의 값을 한번에 반환할 경우\n",
        "\n",
        "print(multiple_return()) # 반환값은 튜플형태가 된다.\n",
        "\n",
        "# 해당 함수의 반환값을 각각 뽑아보고 싶을 때는 \n",
        "# 콤마(,)로 각 값을 담을 변수를 초기화하여\n",
        "# 차례대로 첫 번째 반환값은 첫 번째 변수에, \n",
        "# 두 번째 반환값은 두 번째 변수에 담긴다.\n",
        "v, d, t, b= multiple_return()\n",
        "\n",
        "print(v) # 위에서 담은 변수를 출력해보면 함수의 반환값들이 출력된다.\n",
        "print(d)\n",
        "print(t)\n",
        "print(b)"
      ],
      "id": "6a31f003",
      "execution_count": null,
      "outputs": [
        {
          "output_type": "stream",
          "text": [
            "(1, [3, 4, 5], (8, 9), '여러개')\n",
            "1\n",
            "[3, 4, 5]\n",
            "(8, 9)\n",
            "여러개\n"
          ],
          "name": "stdout"
        }
      ]
    },
    {
      "cell_type": "markdown",
      "metadata": {
        "id": "93076105"
      },
      "source": [
        "## 람다(lambda)\n",
        "\n",
        "람다는 함수의 형태를 더 간결하게 쓸 수 있게하는 문법이다."
      ],
      "id": "93076105"
    },
    {
      "cell_type": "code",
      "metadata": {
        "id": "2e3fb9b8"
      },
      "source": [
        "'''\n",
        "람다식은 lambda 키워드를 이용하여 매개변수를 지정하고, 그 결과를 설정하는 형식을 지닌다\n",
        "\n",
        "lambda 매개변수 : 수행동작\n",
        "'''"
      ],
      "id": "2e3fb9b8",
      "execution_count": null,
      "outputs": []
    },
    {
      "cell_type": "code",
      "metadata": {
        "id": "28794363",
        "outputId": "e739f9b7-7add-4005-ded6-b753dfc6bd56"
      },
      "source": [
        "# add라는 변수에 lambda식을 할당한다. \n",
        "# 이 lambda식은 매개변수 x, y를 받아서 x + y동작을 수행한다.\n",
        "add = lambda x, y : x + y \n",
        "print(add(4,9)) # lambda식이 할당된 add라는 변수는 함수로 기능한다."
      ],
      "id": "28794363",
      "execution_count": null,
      "outputs": [
        {
          "output_type": "stream",
          "text": [
            "13\n"
          ],
          "name": "stdout"
        }
      ]
    },
    {
      "cell_type": "markdown",
      "metadata": {
        "id": "fe66e308"
      },
      "source": [
        "### 람다 | map(lambda식이 담긴 변수, 리스트, 리스트)\n",
        "\n",
        "map()함수를 통해 다수의 원소를 가진 자료형이 lambda식으로 만들어진 함수의 매개변수로 사용될 수 있다.\n",
        "\n",
        "map()함수는 각 자료형 내의 특정 인덱스에 해당하는 각 원소들끼리 lambda의 수행동작을 수행하도록 한다.\n",
        "\n",
        "결과는 map객체로 반환한다. 리스트로 받으려면 list()함수를 써야한다."
      ],
      "id": "fe66e308"
    },
    {
      "cell_type": "code",
      "metadata": {
        "id": "df3d8ba0"
      },
      "source": [
        "'''\n",
        "list1 = [1, 2, 3, 4]\n",
        "         |  |  |  |\n",
        "list2 = [5, 6 ,7, 8]\n",
        "\n",
        "인덱스 짝꿍끼리 동작수행\n",
        "'''"
      ],
      "id": "df3d8ba0",
      "execution_count": null,
      "outputs": []
    },
    {
      "cell_type": "code",
      "metadata": {
        "id": "e488b60a",
        "outputId": "23b67703-1760-402d-e498-353e01808b7d"
      },
      "source": [
        "list1 = [1, 2, 3, 4]\n",
        "list2 = [5, 6 ,7, 8]\n",
        "\n",
        "# add_list라는 변수에 a, b를 매개변수로 받아 a + b를 수행하는 람다식을 담아준다.\n",
        "add_list = lambda a, b: a + b\n",
        "# 다수의 원소를 가진 자료형에 해당 함수를 적용하기 위해 map()함수를 쓴다.\n",
        "# list1과 list2의 각 원소에 add_list함수를 적용해서 수행 결과를 M이라는 변수에 넣는다.\n",
        "M = map(add_list, list1, list2)\n",
        "# M에 담긴 결과는 map object이기 때문에 list()함수를 사용해서 리스트 형태로 만든다\n",
        "M_list = list(M) \n",
        "print(M_list)"
      ],
      "id": "e488b60a",
      "execution_count": null,
      "outputs": [
        {
          "output_type": "stream",
          "text": [
            "[6, 8, 10, 12]\n"
          ],
          "name": "stdout"
        }
      ]
    },
    {
      "cell_type": "code",
      "metadata": {
        "id": "d482af59"
      },
      "source": [
        ""
      ],
      "id": "d482af59",
      "execution_count": null,
      "outputs": []
    }
  ]
}