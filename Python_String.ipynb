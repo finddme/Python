{
  "nbformat": 4,
  "nbformat_minor": 5,
  "metadata": {
    "kernelspec": {
      "display_name": "Python 3",
      "language": "python",
      "name": "python3"
    },
    "language_info": {
      "codemirror_mode": {
        "name": "ipython",
        "version": 3
      },
      "file_extension": ".py",
      "mimetype": "text/x-python",
      "name": "python",
      "nbconvert_exporter": "python",
      "pygments_lexer": "ipython3",
      "version": "3.7.10"
    },
    "toc": {
      "base_numbering": 1,
      "nav_menu": {},
      "number_sections": true,
      "sideBar": true,
      "skip_h1_title": false,
      "title_cell": "Table of Contents",
      "title_sidebar": "Contents",
      "toc_cell": true,
      "toc_position": {},
      "toc_section_display": true,
      "toc_window_display": false
    },
    "colab": {
      "name": "Python_String.ipynb",
      "provenance": [],
      "include_colab_link": true
    }
  },
  "cells": [
    {
      "cell_type": "markdown",
      "metadata": {
        "id": "view-in-github",
        "colab_type": "text"
      },
      "source": [
        "<a href=\"https://colab.research.google.com/github/finddme/Python/blob/master/Python_String.ipynb\" target=\"_parent\"><img src=\"https://colab.research.google.com/assets/colab-badge.svg\" alt=\"Open In Colab\"/></a>"
      ]
    },
    {
      "cell_type": "markdown",
      "metadata": {
        "toc": true,
        "id": "067dba79"
      },
      "source": [
        "<h1>Table of Contents<span class=\"tocSkip\"></span></h1>\n",
        "<div class=\"toc\"><ul class=\"toc-item\"><li><span><a href=\"#문자열(str.character-string)-자료형\" data-toc-modified-id=\"문자열(str.character-string)-자료형-1\"><span class=\"toc-item-num\">1&nbsp;&nbsp;</span>문자열(str.character string) 자료형</a></span><ul class=\"toc-item\"><li><span><a href=\"#문자열-자료형-|-Escape-code\" data-toc-modified-id=\"문자열-자료형-|-Escape-code-1.1\"><span class=\"toc-item-num\">1.1&nbsp;&nbsp;</span>문자열 자료형 | Escape code</a></span></li><li><span><a href=\"#문자열-자료형-|-연산\" data-toc-modified-id=\"문자열-자료형-|-연산-1.2\"><span class=\"toc-item-num\">1.2&nbsp;&nbsp;</span>문자열 자료형 | 연산</a></span></li><li><span><a href=\"#문자열-자료형-|-Indexing\" data-toc-modified-id=\"문자열-자료형-|-Indexing-1.3\"><span class=\"toc-item-num\">1.3&nbsp;&nbsp;</span>문자열 자료형 | Indexing</a></span></li><li><span><a href=\"#문자열-자료형-|-Slicing\" data-toc-modified-id=\"문자열-자료형-|-Slicing-1.4\"><span class=\"toc-item-num\">1.4&nbsp;&nbsp;</span>문자열 자료형 | Slicing</a></span></li><li><span><a href=\"#문자열-자료형-|-Slicing-|-Step\" data-toc-modified-id=\"문자열-자료형-|-Slicing-|-Step-1.5\"><span class=\"toc-item-num\">1.5&nbsp;&nbsp;</span>문자열 자료형 | Slicing | Step</a></span></li><li><span><a href=\"#문자열-자료형-|-함수-|-replace(&quot;기존-원소&quot;,-&quot;변경할-원소&quot;)\" data-toc-modified-id=\"문자열-자료형-|-함수-|-replace(&quot;기존-원소&quot;,-&quot;변경할-원소&quot;)-1.6\"><span class=\"toc-item-num\">1.6&nbsp;&nbsp;</span>문자열 자료형 | 함수 | replace(\"기존 원소\", \"변경할 원소\")</a></span></li><li><span><a href=\"#문자열-자료형-|-함수-|-count(&quot;원소&quot;)\" data-toc-modified-id=\"문자열-자료형-|-함수-|-count(&quot;원소&quot;)-1.7\"><span class=\"toc-item-num\">1.7&nbsp;&nbsp;</span>문자열 자료형 | 함수 | count(\"원소\")</a></span></li><li><span><a href=\"#문자열-자료형-|-함수-|-find(&quot;원소&quot;)\" data-toc-modified-id=\"문자열-자료형-|-함수-|-find(&quot;원소&quot;)-1.8\"><span class=\"toc-item-num\">1.8&nbsp;&nbsp;</span>문자열 자료형 | 함수 | find(\"원소\")</a></span></li><li><span><a href=\"#문자열-자료형-|-함수-|-upper()\" data-toc-modified-id=\"문자열-자료형-|-함수-|-upper()-1.9\"><span class=\"toc-item-num\">1.9&nbsp;&nbsp;</span>문자열 자료형 | 함수 | upper()</a></span></li><li><span><a href=\"#문자열-자료형-|-함수-|-lower()\" data-toc-modified-id=\"문자열-자료형-|-함수-|-lower()-1.10\"><span class=\"toc-item-num\">1.10&nbsp;&nbsp;</span>문자열 자료형 | 함수 | lower()</a></span></li><li><span><a href=\"#문자열-자료형-|-함수-|-split()\" data-toc-modified-id=\"문자열-자료형-|-함수-|-split()-1.11\"><span class=\"toc-item-num\">1.11&nbsp;&nbsp;</span>문자열 자료형 | 함수 | split()</a></span></li><li><span><a href=\"#문자열-자료형-|-함수-|-zfill(자리수)\" data-toc-modified-id=\"문자열-자료형-|-함수-|-zfill(자리수)-1.12\"><span class=\"toc-item-num\">1.12&nbsp;&nbsp;</span>문자열 자료형 | 함수 | zfill(자리수)</a></span></li><li><span><a href=\"#문자열-자료형-|-함수-|-int(문자열)\" data-toc-modified-id=\"문자열-자료형-|-함수-|-int(문자열)-1.13\"><span class=\"toc-item-num\">1.13&nbsp;&nbsp;</span>문자열 자료형 | 함수 | int(문자열)</a></span></li><li><span><a href=\"#문자열-자료형-|-함수-|-문자열-뒤집기(slicing-사용)\" data-toc-modified-id=\"문자열-자료형-|-함수-|-문자열-뒤집기(slicing-사용)-1.14\"><span class=\"toc-item-num\">1.14&nbsp;&nbsp;</span>문자열 자료형 | 함수 | 문자열 뒤집기(slicing 사용)</a></span></li><li><span><a href=\"#문자열-자료형-|-함수-|-len(문자열)\" data-toc-modified-id=\"문자열-자료형-|-함수-|-len(문자열)-1.15\"><span class=\"toc-item-num\">1.15&nbsp;&nbsp;</span>문자열 자료형 | 함수 | len(문자열)</a></span></li><li><span><a href=\"#문자열-자료형-|-함수-|-isalpha()\" data-toc-modified-id=\"문자열-자료형-|-함수-|-isalpha()-1.16\"><span class=\"toc-item-num\">1.16&nbsp;&nbsp;</span>문자열 자료형 | 함수 | isalpha()</a></span></li><li><span><a href=\"#문자열-자료형-|-함수-|-isdigit()\" data-toc-modified-id=\"문자열-자료형-|-함수-|-isdigit()-1.17\"><span class=\"toc-item-num\">1.17&nbsp;&nbsp;</span>문자열 자료형 | 함수 | isdigit()</a></span></li><li><span><a href=\"#문자열-자료형-|-함수-|-isalnum()\" data-toc-modified-id=\"문자열-자료형-|-함수-|-isalnum()-1.18\"><span class=\"toc-item-num\">1.18&nbsp;&nbsp;</span>문자열 자료형 | 함수 | isalnum()</a></span></li><li><span><a href=\"#문자열-자료형-|-함수-|-join(리스트-자료형)\" data-toc-modified-id=\"문자열-자료형-|-함수-|-join(리스트-자료형)-1.19\"><span class=\"toc-item-num\">1.19&nbsp;&nbsp;</span>문자열 자료형 | 함수 | join(리스트 자료형)</a></span></li><li><span><a href=\"#문자열-자료형-|-함수-|-sorted(문자열-자료형)\" data-toc-modified-id=\"문자열-자료형-|-함수-|-sorted(문자열-자료형)-1.20\"><span class=\"toc-item-num\">1.20&nbsp;&nbsp;</span>문자열 자료형 | 함수 | sorted(문자열 자료형)</a></span></li><li><span><a href=\"#문자열-자료형-|-함수-|-(sorted-+-join)\" data-toc-modified-id=\"문자열-자료형-|-함수-|-(sorted-+-join)-1.21\"><span class=\"toc-item-num\">1.21&nbsp;&nbsp;</span>문자열 자료형 | 함수 | (sorted + join)</a></span></li><li><span><a href=\"#문자열-자료형-|-함수-|-split(토큰)\" data-toc-modified-id=\"문자열-자료형-|-함수-|-split(토큰)-1.22\"><span class=\"toc-item-num\">1.22&nbsp;&nbsp;</span>문자열 자료형 | 함수 | split(토큰)</a></span></li><li><span><a href=\"#문자열-자료형-|-함수-|-find(서브문자열)\" data-toc-modified-id=\"문자열-자료형-|-함수-|-find(서브문자열)-1.23\"><span class=\"toc-item-num\">1.23&nbsp;&nbsp;</span>문자열 자료형 | 함수 | find(서브문자열)</a></span></li><li><span><a href=\"#문자열-자료형-|-함수-|-upper(),-lower()\" data-toc-modified-id=\"문자열-자료형-|-함수-|-upper(),-lower()-1.24\"><span class=\"toc-item-num\">1.24&nbsp;&nbsp;</span>문자열 자료형 | 함수 | upper(), lower()</a></span></li><li><span><a href=\"#문자열-자료형-|-함수-|-strip()\" data-toc-modified-id=\"문자열-자료형-|-함수-|-strip()-1.25\"><span class=\"toc-item-num\">1.25&nbsp;&nbsp;</span>문자열 자료형 | 함수 | strip()</a></span></li><li><span><a href=\"#문자열-자료형-|-함수-|-eval()\" data-toc-modified-id=\"문자열-자료형-|-함수-|-eval()-1.26\"><span class=\"toc-item-num\">1.26&nbsp;&nbsp;</span>문자열 자료형 | 함수 | eval()</a></span></li></ul></li></ul></div>"
      ],
      "id": "067dba79"
    },
    {
      "cell_type": "markdown",
      "metadata": {
        "id": "803d7a65"
      },
      "source": [
        "## 문자열(str.character string) 자료형\n",
        "\n",
        "문자열 자료형은 문자를 처리하기 위한 자료형이다.\n",
        "\n",
        "파이썬은 문자열의 대소문자를 구분한다."
      ],
      "id": "803d7a65"
    },
    {
      "cell_type": "code",
      "metadata": {
        "id": "93626489",
        "outputId": "bf74bb6a-dbad-4590-9961-77eeb9ea91fe"
      },
      "source": [
        "# 문자열 자료형은 큰따옴표(\"\")출력할 수 있다.\n",
        "\n",
        "print(\"세상아\")"
      ],
      "id": "93626489",
      "execution_count": null,
      "outputs": [
        {
          "output_type": "stream",
          "text": [
            "세상아\n"
          ],
          "name": "stdout"
        }
      ]
    },
    {
      "cell_type": "markdown",
      "metadata": {
        "id": "fb4ed0eb"
      },
      "source": [
        "### 문자열 자료형 | Escape code"
      ],
      "id": "fb4ed0eb"
    },
    {
      "cell_type": "code",
      "metadata": {
        "id": "68738c8e",
        "outputId": "7da93b00-8db8-405f-bf55-8e346e8a155c"
      },
      "source": [
        "# 문자열의 내용으로 큰따옴표가 존재할 경우, 프로그래밍 언어로 사용되는 큰따옴표와 구분을 위해 앞에 역슬래쉬(\\)를 넣어준다.\n",
        "# 이런 걸 escape code라고 한다.\n",
        "\n",
        "print(\"안녕 \\\"한세계\\\"\")"
      ],
      "id": "68738c8e",
      "execution_count": null,
      "outputs": [
        {
          "output_type": "stream",
          "text": [
            "안녕 \"한세계\"\n"
          ],
          "name": "stdout"
        }
      ]
    },
    {
      "cell_type": "code",
      "metadata": {
        "id": "b910442e",
        "outputId": "c983033e-f4f9-43c0-d28e-e51b6f163715"
      },
      "source": [
        "# \\t(탭), \\n(줄바꿈)도 있다.\n",
        "\n",
        "print(\"안녕 \\t 세계야\")"
      ],
      "id": "b910442e",
      "execution_count": null,
      "outputs": [
        {
          "output_type": "stream",
          "text": [
            "안녕 \t 세계야\n"
          ],
          "name": "stdout"
        }
      ]
    },
    {
      "cell_type": "code",
      "metadata": {
        "id": "70a04fd7",
        "outputId": "3a36a492-4150-4908-9df8-b79eb865930f"
      },
      "source": [
        "print(\"야 이 \\n세계야\")"
      ],
      "id": "70a04fd7",
      "execution_count": null,
      "outputs": [
        {
          "output_type": "stream",
          "text": [
            "야 이 \n",
            "세계야\n"
          ],
          "name": "stdout"
        }
      ]
    },
    {
      "cell_type": "markdown",
      "metadata": {
        "id": "6a473ab8"
      },
      "source": [
        "### 문자열 자료형 | 연산"
      ],
      "id": "6a473ab8"
    },
    {
      "cell_type": "code",
      "metadata": {
        "id": "110e1298",
        "outputId": "7c3c2601-e1de-4be7-d9a6-13052e1882c1"
      },
      "source": [
        "# 문자열도 연산이 가능하다. \n",
        "\n",
        "a = \"어\"\n",
        "b = \"안녕\"\n",
        "\n",
        "print(a + b)"
      ],
      "id": "110e1298",
      "execution_count": null,
      "outputs": [
        {
          "output_type": "stream",
          "text": [
            "어안녕\n"
          ],
          "name": "stdout"
        }
      ]
    },
    {
      "cell_type": "code",
      "metadata": {
        "id": "23589cc7",
        "outputId": "400e42e1-1f10-49af-c2dc-0cd6ba942b84"
      },
      "source": [
        "n = a + b\n",
        "\n",
        "print(n * 2)"
      ],
      "id": "23589cc7",
      "execution_count": null,
      "outputs": [
        {
          "output_type": "stream",
          "text": [
            "어안녕어안녕\n"
          ],
          "name": "stdout"
        }
      ]
    },
    {
      "cell_type": "markdown",
      "metadata": {
        "id": "3676c737"
      },
      "source": [
        "### 문자열 자료형 | Indexing\n",
        "\n",
        "인덱싱은 문자열의 내부 문자를 하나하나에 개별 번호를 부착하는 것이다. 부착된 번호를 index라고 한다."
      ],
      "id": "3676c737"
    },
    {
      "cell_type": "code",
      "metadata": {
        "id": "4ebfd0b9",
        "outputId": "26f1275b-5a24-4263-d459-19a647b198c2"
      },
      "source": [
        "a = \"WHO ARE YOU\" # a는 하나의 문자열이 되었다. \n",
        "\n",
        "print(a[0]) # a 문자열의 0번째 문자를 출력.\n",
        "\n",
        "# index는 0부터 출발한다.\n",
        "# W(0)H(1)O(2) (3)A(4)R(5)E(6) (7)Y(8)O(9)U(10)\n",
        "\n",
        "# 띄어쓰기에도 인덱스가 붙는다.\n",
        "print(a[3])"
      ],
      "id": "4ebfd0b9",
      "execution_count": null,
      "outputs": [
        {
          "output_type": "stream",
          "text": [
            "W\n",
            " \n"
          ],
          "name": "stdout"
        }
      ]
    },
    {
      "cell_type": "code",
      "metadata": {
        "id": "a5c0f774",
        "outputId": "154a65c1-4f52-4a81-c612-40767f85cf61"
      },
      "source": [
        "print(a[-2]) # 뒤에서 2번째 인덱스를 출력"
      ],
      "id": "a5c0f774",
      "execution_count": null,
      "outputs": [
        {
          "output_type": "stream",
          "text": [
            "O\n"
          ],
          "name": "stdout"
        }
      ]
    },
    {
      "cell_type": "markdown",
      "metadata": {
        "id": "e2a4d4af"
      },
      "source": [
        "### 문자열 자료형 | Slicing\n",
        "\n",
        "말 그대로 문자열을 여러 부분으로 슬라이싱하는 것이다. 이를 통해 특정 구간 내의 문자열을 확인할 수 있다. "
      ],
      "id": "e2a4d4af"
    },
    {
      "cell_type": "code",
      "metadata": {
        "id": "660dbdcb",
        "outputId": "1727d870-89d4-4699-af0a-ea164305ecc4"
      },
      "source": [
        "# print(o[시작인덱스:끝인덱스-1])\n",
        "print(a[2:6]) # 2부터 5까지 출력된다."
      ],
      "id": "660dbdcb",
      "execution_count": null,
      "outputs": [
        {
          "output_type": "stream",
          "text": [
            "O AR\n"
          ],
          "name": "stdout"
        }
      ]
    },
    {
      "cell_type": "code",
      "metadata": {
        "id": "10ed2358",
        "outputId": "0fb9312e-3cee-400b-99a0-53e32c853c6e"
      },
      "source": [
        "# 특정 인덱스부터 문자열 끝까지 다 출력하고 싶을 때.\n",
        "print(a[3:])"
      ],
      "id": "10ed2358",
      "execution_count": null,
      "outputs": [
        {
          "output_type": "stream",
          "text": [
            " ARE YOU\n"
          ],
          "name": "stdout"
        }
      ]
    },
    {
      "cell_type": "code",
      "metadata": {
        "id": "247d610d",
        "outputId": "a8bfd6ed-2665-4b54-8268-9dfcd2b90b8f"
      },
      "source": [
        "# 뒤에서부터 앞까지 출력\n",
        "print(a[:-2])"
      ],
      "id": "247d610d",
      "execution_count": null,
      "outputs": [
        {
          "output_type": "stream",
          "text": [
            "WHO ARE Y\n"
          ],
          "name": "stdout"
        }
      ]
    },
    {
      "cell_type": "markdown",
      "metadata": {
        "id": "bd048c27"
      },
      "source": [
        "### 문자열 자료형 | Slicing | Step\n",
        "\n",
        "슬라이싱에 스탭을 적용할 수 있다."
      ],
      "id": "bd048c27"
    },
    {
      "cell_type": "code",
      "metadata": {
        "id": "2418c61d",
        "outputId": "a24ec8c6-2da1-4db7-d20d-8efcbbcee6b6"
      },
      "source": [
        "# print(o[시작인덱스:끝인덱스:스탭])\n",
        "\n",
        "print(a[0:9:2]) # 0부터 8까지 출력하는데 2칸씩 띄어가며 출력.\n",
        "\n",
        "# W(0)H(1)O(2) (3)A(4)R(5)E(6) (7)Y(8)O(9)U(10)"
      ],
      "id": "2418c61d",
      "execution_count": null,
      "outputs": [
        {
          "output_type": "stream",
          "text": [
            "WOAEY\n"
          ],
          "name": "stdout"
        }
      ]
    },
    {
      "cell_type": "markdown",
      "metadata": {
        "id": "cc4e47fe"
      },
      "source": [
        "### 문자열 자료형 | 함수 | replace(\"기존 원소\", \"변경할 원소\")\n",
        "\n",
        "문자열 내 특정 문자를 변경할 때 replace()함수를 사용한다."
      ],
      "id": "cc4e47fe"
    },
    {
      "cell_type": "code",
      "metadata": {
        "id": "560422b9",
        "outputId": "6323c593-cb6e-49b6-a777-66ed593e116d"
      },
      "source": [
        "a.replace(\"WHO\",\"WHERE\")"
      ],
      "id": "560422b9",
      "execution_count": null,
      "outputs": [
        {
          "output_type": "execute_result",
          "data": {
            "text/plain": [
              "'WHERE ARE YOU'"
            ]
          },
          "metadata": {
            "tags": []
          },
          "execution_count": 14
        }
      ]
    },
    {
      "cell_type": "code",
      "metadata": {
        "id": "8f2a489e",
        "outputId": "89046a01-8f6c-436f-aa09-8247acb3afae"
      },
      "source": [
        "print(a)  \n",
        "# 다시 a를 출력해보면 replace가 적용되지 않았다. "
      ],
      "id": "8f2a489e",
      "execution_count": null,
      "outputs": [
        {
          "output_type": "stream",
          "text": [
            "WHO ARE YOU\n"
          ],
          "name": "stdout"
        }
      ]
    },
    {
      "cell_type": "code",
      "metadata": {
        "id": "c4f176f3",
        "outputId": "f42e1352-68a1-42e6-a928-26dbb6967817"
      },
      "source": [
        "# replace()함수를 통해 새로운 값을 생성하는 것이기 때문에 별도의 변수에 담아야 유지된다.\n",
        "b = a.replace(\"WHO\",\"WHERE\")\n",
        "print(b)"
      ],
      "id": "c4f176f3",
      "execution_count": null,
      "outputs": [
        {
          "output_type": "stream",
          "text": [
            "WHERE ARE YOU\n"
          ],
          "name": "stdout"
        }
      ]
    },
    {
      "cell_type": "markdown",
      "metadata": {
        "id": "1416196f"
      },
      "source": [
        "### 문자열 자료형 | 함수 | count(\"원소\")\n",
        "\n",
        "count()함수를 통해 문자열에 특정 문자가 몇 번 들어갔는지 셀 수 있다."
      ],
      "id": "1416196f"
    },
    {
      "cell_type": "code",
      "metadata": {
        "id": "d8234b9e",
        "outputId": "ce86f795-41d1-4c51-9991-19c0ea053104"
      },
      "source": [
        "a.count(\"O\")"
      ],
      "id": "d8234b9e",
      "execution_count": null,
      "outputs": [
        {
          "output_type": "execute_result",
          "data": {
            "text/plain": [
              "2"
            ]
          },
          "metadata": {
            "tags": []
          },
          "execution_count": 17
        }
      ]
    },
    {
      "cell_type": "markdown",
      "metadata": {
        "id": "60b8a811"
      },
      "source": [
        "### 문자열 자료형 | 함수 | find(\"원소\")\n",
        "\n",
        "find()함수는 특정 문자의 위치를 반환한다."
      ],
      "id": "60b8a811"
    },
    {
      "cell_type": "code",
      "metadata": {
        "id": "92e67d1a",
        "outputId": "eabe9b01-59d2-4f4b-818c-a70d065ed84b"
      },
      "source": [
        "a.find(\"RE\")"
      ],
      "id": "92e67d1a",
      "execution_count": null,
      "outputs": [
        {
          "output_type": "execute_result",
          "data": {
            "text/plain": [
              "5"
            ]
          },
          "metadata": {
            "tags": []
          },
          "execution_count": 18
        }
      ]
    },
    {
      "cell_type": "code",
      "metadata": {
        "id": "626c40ef",
        "outputId": "03b9b4a7-9933-4855-be59-1be7c3d4e99e"
      },
      "source": [
        "# 문자열에 없는 문자를 찾으려고 하면 -1이 반환된다.\n",
        "a.find(\"IN\")"
      ],
      "id": "626c40ef",
      "execution_count": null,
      "outputs": [
        {
          "output_type": "execute_result",
          "data": {
            "text/plain": [
              "-1"
            ]
          },
          "metadata": {
            "tags": []
          },
          "execution_count": 19
        }
      ]
    },
    {
      "cell_type": "markdown",
      "metadata": {
        "id": "af3ac069"
      },
      "source": [
        "### 문자열 자료형 | 함수 | upper()\n",
        "\n",
        "upper()함수를 쓰면 문자열 전체가 대문자로 바뀐다."
      ],
      "id": "af3ac069"
    },
    {
      "cell_type": "code",
      "metadata": {
        "id": "a9d5c16c",
        "outputId": "7837a44e-0adc-4e34-b07d-a853d6558f21"
      },
      "source": [
        "a = \"do you like it?\"\n",
        "a.upper()"
      ],
      "id": "a9d5c16c",
      "execution_count": null,
      "outputs": [
        {
          "output_type": "execute_result",
          "data": {
            "text/plain": [
              "'DO YOU LIKE IT?'"
            ]
          },
          "metadata": {
            "tags": []
          },
          "execution_count": 22
        }
      ]
    },
    {
      "cell_type": "markdown",
      "metadata": {
        "id": "ea14312a"
      },
      "source": [
        "### 문자열 자료형 | 함수 | lower()\n",
        "\n",
        "lower()함수를 쓰면 문자열 전체가 소문자로 바뀐다."
      ],
      "id": "ea14312a"
    },
    {
      "cell_type": "code",
      "metadata": {
        "id": "c268d4c6",
        "outputId": "d538ce6c-18e3-4421-b36b-3f4230b08656"
      },
      "source": [
        "b = \"DO YOU LIKE IT?\"\n",
        "b.lower()"
      ],
      "id": "c268d4c6",
      "execution_count": null,
      "outputs": [
        {
          "output_type": "execute_result",
          "data": {
            "text/plain": [
              "'do you like it?'"
            ]
          },
          "metadata": {
            "tags": []
          },
          "execution_count": 24
        }
      ]
    },
    {
      "cell_type": "markdown",
      "metadata": {
        "id": "a1b4ab2d"
      },
      "source": [
        "### 문자열 자료형 | 함수 | split()\n",
        "\n",
        "split()함수는 하나의 문자열을 여러개로 나누어 나누어진  문자열을 배열 형태로 반환한다.\n",
        "\n",
        "대용량 코퍼스를 다룰 때 공백을 기준으로 문자열을 나눌 때 많이 쓰인다."
      ],
      "id": "a1b4ab2d"
    },
    {
      "cell_type": "code",
      "metadata": {
        "id": "e965059c",
        "outputId": "855e8fdb-1902-4b48-d6ba-37c448b6a13e"
      },
      "source": [
        "a.split()"
      ],
      "id": "e965059c",
      "execution_count": null,
      "outputs": [
        {
          "output_type": "execute_result",
          "data": {
            "text/plain": [
              "['do', 'you', 'like', 'it?']"
            ]
          },
          "metadata": {
            "tags": []
          },
          "execution_count": 25
        }
      ]
    },
    {
      "cell_type": "markdown",
      "metadata": {
        "id": "786d6676"
      },
      "source": [
        "### 문자열 자료형 | 함수 | zfill(자리수)\n",
        "\n",
        "자리수 만큼 나머지를 0으로 채운다.\n",
        "\n",
        "일정한 자리수를 유지할 수 있게해준다."
      ],
      "id": "786d6676"
    },
    {
      "cell_type": "code",
      "metadata": {
        "id": "1b60eb2d",
        "outputId": "1fa31c88-5828-4d7e-9195-2aea79fab8df"
      },
      "source": [
        "a.zfill(20)"
      ],
      "id": "1b60eb2d",
      "execution_count": null,
      "outputs": [
        {
          "output_type": "execute_result",
          "data": {
            "text/plain": [
              "'00000do you like it?'"
            ]
          },
          "metadata": {
            "tags": []
          },
          "execution_count": 26
        }
      ]
    },
    {
      "cell_type": "markdown",
      "metadata": {
        "id": "a44bf2bc"
      },
      "source": [
        "### 문자열 자료형 | 함수 | int(문자열)\n",
        "\n",
        "int는 integer(정수)의 줄임말이다. 문자열을 숫자로 바꾼다."
      ],
      "id": "a44bf2bc"
    },
    {
      "cell_type": "code",
      "metadata": {
        "id": "7ed97675",
        "outputId": "c18cb225-21c2-4cc2-c8d7-9edcc39b6958"
      },
      "source": [
        "s = \"10\" # s은 문자열이다.\n",
        "n = int(s) # 문자열을 숫자로 변환한다.\n",
        "\n",
        "print(20 + n) # 숫자로 바꿨기 때문에 연산도 가능하다."
      ],
      "id": "7ed97675",
      "execution_count": null,
      "outputs": [
        {
          "output_type": "stream",
          "text": [
            "30\n"
          ],
          "name": "stdout"
        }
      ]
    },
    {
      "cell_type": "markdown",
      "metadata": {
        "id": "a644be1b"
      },
      "source": [
        "### 문자열 자료형 | 함수 | 문자열 뒤집기(slicing 사용)\n",
        "\n",
        "slicing을 쓰고, 스텝 값으로 -1을 넣으면 거꾸로 출발해서 뒤에서부터 앞으로 문자열을 하나씩 이동하면서 보기 때문에 문자열이 뒤집힌다."
      ],
      "id": "a644be1b"
    },
    {
      "cell_type": "code",
      "metadata": {
        "id": "143ebbe0",
        "outputId": "b8ab8621-2d5e-46f5-d85b-7a29ebc2da44"
      },
      "source": [
        "s = \"Hey World\"\n",
        "print(s[::-1]) "
      ],
      "id": "143ebbe0",
      "execution_count": null,
      "outputs": [
        {
          "output_type": "stream",
          "text": [
            "dlroW yeH\n"
          ],
          "name": "stdout"
        }
      ]
    },
    {
      "cell_type": "markdown",
      "metadata": {
        "id": "663f8f7d"
      },
      "source": [
        "### 문자열 자료형 | 함수 | len(문자열)\n",
        "\n",
        "len()함수는 시퀀스 자료형의 길이를 출력한다."
      ],
      "id": "663f8f7d"
    },
    {
      "cell_type": "code",
      "metadata": {
        "id": "bca8173c",
        "outputId": "dff5db8a-d5c0-48e5-dbdf-362bf6b37d21"
      },
      "source": [
        "print(len(s))"
      ],
      "id": "bca8173c",
      "execution_count": null,
      "outputs": [
        {
          "output_type": "stream",
          "text": [
            "9\n"
          ],
          "name": "stdout"
        }
      ]
    },
    {
      "cell_type": "markdown",
      "metadata": {
        "id": "9acc324a"
      },
      "source": [
        "### 문자열 자료형 | 함수 | isalpha()\n",
        "\n",
        "is it alphabet?을 의미한다.\n",
        "\n",
        "특정한 문자열이 문자로만 이루어졌는지 확인할 때 사용한다.\n",
        "\n",
        "문자열에 공백이나 숫자가 포함되어있으면 False를 반환한다."
      ],
      "id": "9acc324a"
    },
    {
      "cell_type": "code",
      "metadata": {
        "id": "72f9bc4f",
        "outputId": "3f7140dd-7f1d-4fd4-e70d-744f822ca715"
      },
      "source": [
        "print(s.isalpha())"
      ],
      "id": "72f9bc4f",
      "execution_count": null,
      "outputs": [
        {
          "output_type": "stream",
          "text": [
            "False\n"
          ],
          "name": "stdout"
        }
      ]
    },
    {
      "cell_type": "code",
      "metadata": {
        "id": "c05b7ab0",
        "outputId": "af949d41-9d97-4c99-c81b-12161b494479"
      },
      "source": [
        "a = \"띄어쓰기없이\" # 한글도 문자로 인식\n",
        "print(a.isalpha())"
      ],
      "id": "c05b7ab0",
      "execution_count": null,
      "outputs": [
        {
          "output_type": "stream",
          "text": [
            "True\n"
          ],
          "name": "stdout"
        }
      ]
    },
    {
      "cell_type": "markdown",
      "metadata": {
        "id": "1ea05c3b"
      },
      "source": [
        "### 문자열 자료형 | 함수 | isdigit()\n",
        "\n",
        "is ist digit?을 의미한다.\n",
        "\n",
        "특정한 문자열이 숫자로만 이루어졌는지 확인할 때 사용한다.\n",
        "\n",
        "문자열에 공백이나 문자가 포함되어 있으면 False를 반환한다."
      ],
      "id": "1ea05c3b"
    },
    {
      "cell_type": "code",
      "metadata": {
        "id": "1d6a1fbb",
        "outputId": "a6228363-99fc-4b98-b3eb-a180ac48c12f"
      },
      "source": [
        "a = \"123\"\n",
        "print(a.isdigit())"
      ],
      "id": "1d6a1fbb",
      "execution_count": null,
      "outputs": [
        {
          "output_type": "stream",
          "text": [
            "True\n"
          ],
          "name": "stdout"
        }
      ]
    },
    {
      "cell_type": "code",
      "metadata": {
        "id": "3b24d2e8",
        "outputId": "f6fd7a1d-0607-4983-ab05-0693e1d18c01"
      },
      "source": [
        "a = \"12 3\"\n",
        "print(a.isdigit())"
      ],
      "id": "3b24d2e8",
      "execution_count": null,
      "outputs": [
        {
          "output_type": "stream",
          "text": [
            "False\n"
          ],
          "name": "stdout"
        }
      ]
    },
    {
      "cell_type": "markdown",
      "metadata": {
        "id": "0631a2fd"
      },
      "source": [
        "### 문자열 자료형 | 함수 | isalnum()\n",
        "\n",
        "is it alphabet or number?을 의미한다.\n",
        "\n",
        "특정한 문자열이 문자 혹은 숫자로 이루어졌는지 확인할 때 사용한다.\n",
        "\n",
        "문자열에 공백이나 다른 특수문자가 들어가면 False를 반환한다."
      ],
      "id": "0631a2fd"
    },
    {
      "cell_type": "code",
      "metadata": {
        "id": "1c74e4a2",
        "outputId": "5fcd55a5-0d41-4524-be85-b60a62fa2cb1"
      },
      "source": [
        "a = \"yein4452\"\n",
        "print(a.isalnum())"
      ],
      "id": "1c74e4a2",
      "execution_count": null,
      "outputs": [
        {
          "output_type": "stream",
          "text": [
            "True\n"
          ],
          "name": "stdout"
        }
      ]
    },
    {
      "cell_type": "code",
      "metadata": {
        "id": "f0a86c01",
        "outputId": "fc545f5e-542e-49e6-9e1b-d90c3b652f46"
      },
      "source": [
        "a = \"yein 4452\"\n",
        "print(a.isalnum())"
      ],
      "id": "f0a86c01",
      "execution_count": null,
      "outputs": [
        {
          "output_type": "stream",
          "text": [
            "False\n"
          ],
          "name": "stdout"
        }
      ]
    },
    {
      "cell_type": "code",
      "metadata": {
        "id": "cc2bf89f",
        "outputId": "284c4f4d-7abd-428f-dc7e-9f6cb51c7142"
      },
      "source": [
        "a = \"yein4452:)\"\n",
        "print(a.isalnum())"
      ],
      "id": "cc2bf89f",
      "execution_count": null,
      "outputs": [
        {
          "output_type": "stream",
          "text": [
            "False\n"
          ],
          "name": "stdout"
        }
      ]
    },
    {
      "cell_type": "code",
      "metadata": {
        "id": "ab9f785b",
        "outputId": "dd5f982e-7989-4caa-d8c3-91e8193d3a6b"
      },
      "source": [
        "a = \"예인이다4452\" \n",
        "print(a.isalnum())"
      ],
      "id": "ab9f785b",
      "execution_count": null,
      "outputs": [
        {
          "output_type": "stream",
          "text": [
            "True\n"
          ],
          "name": "stdout"
        }
      ]
    },
    {
      "cell_type": "code",
      "metadata": {
        "id": "0d94837c",
        "outputId": "6eed5553-9929-40c3-85e5-973eae928ef5"
      },
      "source": [
        "a = \"!@#$3333\"\n",
        "print(a.isalnum())"
      ],
      "id": "0d94837c",
      "execution_count": null,
      "outputs": [
        {
          "output_type": "stream",
          "text": [
            "False\n"
          ],
          "name": "stdout"
        }
      ]
    },
    {
      "cell_type": "markdown",
      "metadata": {
        "id": "598439a0"
      },
      "source": [
        "### 문자열 자료형 | 함수 | join(리스트 자료형)\n",
        "\n",
        "join()함수의 매개변수로는 리스트 자료형이 들어간다.\n",
        "\n",
        "join()함수는 리스트 자료형에 들어있는 문자열을 구분자와 함께 합치는 함수이다."
      ],
      "id": "598439a0"
    },
    {
      "cell_type": "code",
      "metadata": {
        "id": "1a473847",
        "outputId": "1f803acc-3559-4ad0-f01d-809b1fe38a2d"
      },
      "source": [
        "list1 = ['Hey', 'World','How', 'Are', 'You'] # 이 리스트를 하나의 문자열로 만들어보자\n",
        "print('.'.join(list1)) # 구분자로 '.'을 사용하여 이 리스트를 하나의 문자열로 바꾸겠다."
      ],
      "id": "1a473847",
      "execution_count": null,
      "outputs": [
        {
          "output_type": "stream",
          "text": [
            "Hey.World.How.Are.You\n"
          ],
          "name": "stdout"
        }
      ]
    },
    {
      "cell_type": "code",
      "metadata": {
        "id": "b60084ab",
        "outputId": "f9ee768e-5e4f-45e8-82f5-e749c01a9b8e"
      },
      "source": [
        "print(' '.join(list1)) # 구분자로 ' '을 사용하여 이 리스트를 하나의 문자열로 바꾸겠다."
      ],
      "id": "b60084ab",
      "execution_count": null,
      "outputs": [
        {
          "output_type": "stream",
          "text": [
            "Hey World How Are You\n"
          ],
          "name": "stdout"
        }
      ]
    },
    {
      "cell_type": "markdown",
      "metadata": {
        "id": "f5562802"
      },
      "source": [
        " ### 문자열 자료형 | 함수 | sorted(문자열 자료형)\n",
        " \n",
        "문자열의 각 문자들을 오름차순으로 정렬하여 리스트형태로 반환하는 함수이다."
      ],
      "id": "f5562802"
    },
    {
      "cell_type": "code",
      "metadata": {
        "id": "7153767e",
        "outputId": "efeb76d5-6e66-4a72-bef1-646a1395678b"
      },
      "source": [
        "string = \"HEY WORLD\"\n",
        "sort = sorted(string)\n",
        "print(sort)"
      ],
      "id": "7153767e",
      "execution_count": null,
      "outputs": [
        {
          "output_type": "stream",
          "text": [
            "[' ', 'D', 'E', 'H', 'L', 'O', 'R', 'W', 'Y']\n"
          ],
          "name": "stdout"
        }
      ]
    },
    {
      "cell_type": "code",
      "metadata": {
        "id": "c99d83b9",
        "outputId": "8f7fa13c-0413-42a7-b4e3-2f0615fd9d07"
      },
      "source": [
        "# sorted()함수의 두 번째 매개변수로 reverse=True를 넣어주면 \n",
        "# 내림차순으로 정렬된 리스트가 반환된다.\n",
        "sort2 = sorted(string, reverse=True)\n",
        "print(sort2)"
      ],
      "id": "c99d83b9",
      "execution_count": null,
      "outputs": [
        {
          "output_type": "stream",
          "text": [
            "['Y', 'W', 'R', 'O', 'L', 'H', 'E', 'D', ' ']\n"
          ],
          "name": "stdout"
        }
      ]
    },
    {
      "cell_type": "markdown",
      "metadata": {
        "id": "a994e81c"
      },
      "source": [
        "### 문자열 자료형 | 함수 | (sorted + join)\n",
        "\n",
        "sorted()함수의 수행 결과가 리스트이기 때문에 이를 하나의 문자열로 만들어보자"
      ],
      "id": "a994e81c"
    },
    {
      "cell_type": "code",
      "metadata": {
        "id": "72522316",
        "outputId": "c4302c2d-88f0-4c62-9c87-1859c66f60a2"
      },
      "source": [
        "print(' '.join(sort))"
      ],
      "id": "72522316",
      "execution_count": null,
      "outputs": [
        {
          "output_type": "stream",
          "text": [
            "  D E H L O R W Y\n"
          ],
          "name": "stdout"
        }
      ]
    },
    {
      "cell_type": "code",
      "metadata": {
        "id": "e29f6ae2",
        "outputId": "c083f08a-4305-4d30-cf00-dde0daa91d7d"
      },
      "source": [
        "print(' '.join(sort2))"
      ],
      "id": "e29f6ae2",
      "execution_count": null,
      "outputs": [
        {
          "output_type": "stream",
          "text": [
            "Y W R O L H E D  \n"
          ],
          "name": "stdout"
        }
      ]
    },
    {
      "cell_type": "markdown",
      "metadata": {
        "id": "2390e8ac"
      },
      "source": [
        "### 문자열 자료형 | 함수 | split(토큰)\n",
        "\n",
        "문자열 내의 특정 토큰을 기준으로 문자열을 분리한 후 분리된 문자열을 리스트에 담아 반환하는 함수이다."
      ],
      "id": "2390e8ac"
    },
    {
      "cell_type": "code",
      "metadata": {
        "id": "a625a252",
        "outputId": "555eb3d6-18ad-444b-88e7-c3fd3318d6c4"
      },
      "source": [
        "string = \"I want to see glow of the setting sun.\"\n",
        "split_string = string.split(' ') # string변수에 담긴 문자열을 공백을 기준으로 분리한다.\n",
        "print(split_string)"
      ],
      "id": "a625a252",
      "execution_count": null,
      "outputs": [
        {
          "output_type": "stream",
          "text": [
            "['I', 'want', 'to', 'see', 'glow', 'of', 'the', 'setting', 'sun.']\n"
          ],
          "name": "stdout"
        }
      ]
    },
    {
      "cell_type": "code",
      "metadata": {
        "id": "9c034b72",
        "outputId": "414e0aa4-2360-4dec-efcd-7f12ecd16b2a"
      },
      "source": [
        "split_string2 = string.split('t') # string변수에 담긴 문자열을 토큰't'를 기준으로 분리한다.\n",
        "print(split_string2)"
      ],
      "id": "9c034b72",
      "execution_count": null,
      "outputs": [
        {
          "output_type": "stream",
          "text": [
            "['I wan', ' ', 'o see glow of ', 'he se', '', 'ing sun.']\n"
          ],
          "name": "stdout"
        }
      ]
    },
    {
      "cell_type": "markdown",
      "metadata": {
        "id": "92022749"
      },
      "source": [
        "### 문자열 자료형 | 함수 | find(서브문자열)\n",
        "\n",
        "문자열 내에 있는 서브문자열을 찾을 때 사용되는 함수이다.\n",
        "\n",
        "해당 문자열에서 찾고자하는 서브문자열이 시작되는 인덱스가 반환된다."
      ],
      "id": "92022749"
    },
    {
      "cell_type": "code",
      "metadata": {
        "id": "6d6b4485",
        "outputId": "d3c4fa95-5539-4b2d-e37e-9396ff38cc20"
      },
      "source": [
        "print(string.find('sun')) # string이라는 문자열에서 'sun'이라는 문자열을 찾는다\n",
        "# 해당 문자열에서 'sun'이라는 문자열이 시작되는 's'의 인덱스가 반환된다."
      ],
      "id": "6d6b4485",
      "execution_count": null,
      "outputs": [
        {
          "output_type": "stream",
          "text": [
            "34\n"
          ],
          "name": "stdout"
        }
      ]
    },
    {
      "cell_type": "code",
      "metadata": {
        "id": "999cf34b",
        "outputId": "e8b2bd59-472b-4fc1-80b4-a9c21ab95524"
      },
      "source": [
        "print(string.find('moon')) # 해당 문자열에 찾고자 하는 문자열이 없다면 -1이 반환된다."
      ],
      "id": "999cf34b",
      "execution_count": null,
      "outputs": [
        {
          "output_type": "stream",
          "text": [
            "-1\n"
          ],
          "name": "stdout"
        }
      ]
    },
    {
      "cell_type": "code",
      "metadata": {
        "id": "5f8f02fe",
        "outputId": "39d0de2e-d1d5-4100-f198-a9352884ae8e"
      },
      "source": [
        "# 찾고자 하는 문자열이 여러번 포함되는 경우, 먼저 나온 문자열의 시작 인덱스만 반환된다.\n",
        "string2 = \"I want to see glowing glowing sun set.\"\n",
        "print(string2.find('glowing'))"
      ],
      "id": "5f8f02fe",
      "execution_count": null,
      "outputs": [
        {
          "output_type": "stream",
          "text": [
            "14\n"
          ],
          "name": "stdout"
        }
      ]
    },
    {
      "cell_type": "code",
      "metadata": {
        "id": "32dc1f6a",
        "outputId": "0c075e5d-0054-4062-ecb1-fa9cb4554431"
      },
      "source": [
        "# find()함수의 두 번째 매개변수로 특정 인덱스를 넣어주면 \n",
        "# 해당 인덱스 이후에 나오는 특정 문자열을 반환한다.\n",
        "print(string2.find('glowing', 15)) # 인덱스 15이후에 나오는 'glowing'을 찾겠다."
      ],
      "id": "32dc1f6a",
      "execution_count": null,
      "outputs": [
        {
          "output_type": "stream",
          "text": [
            "22\n"
          ],
          "name": "stdout"
        }
      ]
    },
    {
      "cell_type": "markdown",
      "metadata": {
        "id": "4a2e3fdd"
      },
      "source": [
        "### 문자열 자료형 | 함수 | upper(), lower()\n",
        "\n",
        "문자열을 대문자/소문자로 변환하는 함수이다."
      ],
      "id": "4a2e3fdd"
    },
    {
      "cell_type": "code",
      "metadata": {
        "id": "4e442484",
        "outputId": "9109c80c-2473-4320-e648-852582f77186"
      },
      "source": [
        "small_letter = \"hey world\"\n",
        "capitaL_letter = \"HEY WORLD\"\n",
        "mix_letter = \"Hey World\"\n",
        "\n",
        "print(\"소문자 -> 대문자: \", small_letter.upper())\n",
        "print(\"대문자 -> 소문자: \", capitaL_letter.lower())\n",
        "print(\"mix. 소문자 -> 대문자: \", mix_letter.upper())\n",
        "print(\"mix. 대문자 -> 소문자: \", mix_letter.lower())"
      ],
      "id": "4e442484",
      "execution_count": null,
      "outputs": [
        {
          "output_type": "stream",
          "text": [
            "소문자 -> 대문자:  HEY WORLD\n",
            "대문자 -> 소문자:  hey world\n",
            "mix. 소문자 -> 대문자:  HEY WORLD\n",
            "mix. 대문자 -> 소문자:  hey world\n"
          ],
          "name": "stdout"
        }
      ]
    },
    {
      "cell_type": "markdown",
      "metadata": {
        "id": "793856ee"
      },
      "source": [
        "### 문자열 자료형 | 함수 | strip()\n",
        "\n",
        "문자열의 시작과 끝, 즉 좌우로 특정한 문자열을 제거할 때 쓰는 함수이다.\n",
        "\n",
        "문자열 양 사이드에 불필요한 문자가 있을 때 유용하다. \n",
        "\n",
        "strip()함수는 데이터 전처리에 자주 쓰인다.\n",
        "\n",
        "특히 크롤링할 때 많이 사용된다. 웹사이트를 크롤링하면 초반부와 후반부에 불필요한 데이터가 공백 등으로 들어가는 경우가 많다. 그 때 유용하게 사용된다."
      ],
      "id": "793856ee"
    },
    {
      "cell_type": "code",
      "metadata": {
        "id": "46e3651e",
        "outputId": "6c1bb2b6-db05-4060-d8ff-33b05be860be"
      },
      "source": [
        "gap_str = \" Hey World \" # 문자열 시작과 끝의 공백을 지워주고 싶을 때\n",
        "# strip()함수는 매개변수에 아무것도 안 넣으면 자동으로 앞뒤 공백을 제거한다.\n",
        "print(gap_str.strip()) "
      ],
      "id": "46e3651e",
      "execution_count": null,
      "outputs": [
        {
          "output_type": "stream",
          "text": [
            "Hey World\n"
          ],
          "name": "stdout"
        }
      ]
    },
    {
      "cell_type": "code",
      "metadata": {
        "id": "c5bf19f0",
        "outputId": "2429e0c9-0952-4f5c-b7f0-9a3544beeb70"
      },
      "source": [
        "print(gap_str.lstrip()) # 왼쪽에 있는 공백만 지우겠다.\n",
        "print(gap_str.rstrip()) # 오른쪽에 있는 공백만 지우겠다."
      ],
      "id": "c5bf19f0",
      "execution_count": null,
      "outputs": [
        {
          "output_type": "stream",
          "text": [
            "Hey World \n",
            " Hey World\n"
          ],
          "name": "stdout"
        }
      ]
    },
    {
      "cell_type": "code",
      "metadata": {
        "id": "38afbfff",
        "outputId": "63f18e2e-535b-47a1-88d8-ac407dedca2b"
      },
      "source": [
        "# strip()함수에 매개변수로 문자열을 넣으면 그 문자열만 좌우로 제거해준다.\n",
        "wow_str = \"WOWHey WorldWOW\" #좌우에 있는 WOW를 지워줘라\n",
        "print(wow_str.strip('WOW'))"
      ],
      "id": "38afbfff",
      "execution_count": null,
      "outputs": [
        {
          "output_type": "stream",
          "text": [
            "Hey World\n"
          ],
          "name": "stdout"
        }
      ]
    },
    {
      "cell_type": "code",
      "metadata": {
        "id": "ab0901f0",
        "outputId": "90d0b309-b53a-468b-98cf-850131735f00"
      },
      "source": [
        "ww_str = \"WWHey WorldWW\" #좌우에 있는 W를 지워줘라\n",
        "print(ww_str.strip('W'))"
      ],
      "id": "ab0901f0",
      "execution_count": null,
      "outputs": [
        {
          "output_type": "stream",
          "text": [
            "Hey World\n"
          ],
          "name": "stdout"
        }
      ]
    },
    {
      "cell_type": "markdown",
      "metadata": {
        "id": "482faeff"
      },
      "source": [
        "### 문자열 자료형 | 함수 | eval()\n",
        "\n",
        "문자열로 된 수식을 계산해주는 함수이다."
      ],
      "id": "482faeff"
    },
    {
      "cell_type": "code",
      "metadata": {
        "id": "05a8a6ec",
        "outputId": "48736ef4-3ba5-479e-92e7-77d3709e0262"
      },
      "source": [
        "exp = \"(209 + 500) * 3 - 30/6\"\n",
        "print(eval(exp))"
      ],
      "id": "05a8a6ec",
      "execution_count": null,
      "outputs": [
        {
          "output_type": "stream",
          "text": [
            "2122.0\n"
          ],
          "name": "stdout"
        }
      ]
    },
    {
      "cell_type": "code",
      "metadata": {
        "id": "fda843f8"
      },
      "source": [
        ""
      ],
      "id": "fda843f8",
      "execution_count": null,
      "outputs": []
    }
  ]
}