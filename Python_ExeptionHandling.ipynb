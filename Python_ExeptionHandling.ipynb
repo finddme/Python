{
  "nbformat": 4,
  "nbformat_minor": 5,
  "metadata": {
    "kernelspec": {
      "display_name": "Python 3",
      "language": "python",
      "name": "python3"
    },
    "language_info": {
      "codemirror_mode": {
        "name": "ipython",
        "version": 3
      },
      "file_extension": ".py",
      "mimetype": "text/x-python",
      "name": "python",
      "nbconvert_exporter": "python",
      "pygments_lexer": "ipython3",
      "version": "3.7.10"
    },
    "toc": {
      "base_numbering": 1,
      "nav_menu": {},
      "number_sections": true,
      "sideBar": true,
      "skip_h1_title": false,
      "title_cell": "Table of Contents",
      "title_sidebar": "Contents",
      "toc_cell": true,
      "toc_position": {},
      "toc_section_display": true,
      "toc_window_display": false
    },
    "colab": {
      "name": "Python_ExeptionHandling.ipynb",
      "provenance": [],
      "include_colab_link": true
    }
  },
  "cells": [
    {
      "cell_type": "markdown",
      "metadata": {
        "id": "view-in-github",
        "colab_type": "text"
      },
      "source": [
        "<a href=\"https://colab.research.google.com/github/finddme/Python/blob/master/Python_ExeptionHandling.ipynb\" target=\"_parent\"><img src=\"https://colab.research.google.com/assets/colab-badge.svg\" alt=\"Open In Colab\"/></a>"
      ]
    },
    {
      "cell_type": "markdown",
      "metadata": {
        "toc": true,
        "id": "056db68c"
      },
      "source": [
        "<h1>Table of Contents<span class=\"tocSkip\"></span></h1>\n",
        "<div class=\"toc\"><ul class=\"toc-item\"><li><span><a href=\"#예외처리(Exeption-Handling)\" data-toc-modified-id=\"예외처리(Exeption-Handling)-1\"><span class=\"toc-item-num\">1&nbsp;&nbsp;</span>예외처리(Exeption Handling)</a></span><ul class=\"toc-item\"><li><span><a href=\"#예외처리-|-else-추가\" data-toc-modified-id=\"예외처리-|-else-추가-1.1\"><span class=\"toc-item-num\">1.1&nbsp;&nbsp;</span>예외처리 | else 추가</a></span></li><li><span><a href=\"#예외처리-|-finally-추가\" data-toc-modified-id=\"예외처리-|-finally-추가-1.2\"><span class=\"toc-item-num\">1.2&nbsp;&nbsp;</span>예외처리 | finally 추가</a></span></li><li><span><a href=\"#예외처리-|-Exeption\" data-toc-modified-id=\"예외처리-|-Exeption-1.3\"><span class=\"toc-item-num\">1.3&nbsp;&nbsp;</span>예외처리 | Exeption</a></span></li></ul></li></ul></div>"
      ],
      "id": "056db68c"
    },
    {
      "cell_type": "markdown",
      "metadata": {
        "id": "723851fa"
      },
      "source": [
        "## 예외처리(Exeption Handling)\n",
        "\n",
        "예외처리를 통해 특정 구문에 나타난 오류를 깔끔하게 확인할 수 있다."
      ],
      "id": "723851fa"
    },
    {
      "cell_type": "code",
      "metadata": {
        "id": "05871d48"
      },
      "source": [
        "'''\n",
        "# 기본구조\n",
        "\n",
        "try:\n",
        "    동작\n",
        "except:\n",
        "    동작\n",
        "    \n",
        "-> try구문에서 어떠한 동작을 실행해보고 \n",
        "   오류가 발생하면 except구문이 실행된다.\n",
        "'''"
      ],
      "id": "05871d48",
      "execution_count": null,
      "outputs": []
    },
    {
      "cell_type": "code",
      "metadata": {
        "id": "431138a7",
        "outputId": "32008be5-77c2-435c-c365-0e31f46e7643"
      },
      "source": [
        "try:                             # 5를 0으로 나누려고 해본다\n",
        "    print(5 / 0)\n",
        "except:                          # try구문에서 오류가 발생하면 except구문을 실행한다.\n",
        "    print(\"0으로는 나눌 수 없다\")"
      ],
      "id": "431138a7",
      "execution_count": null,
      "outputs": [
        {
          "output_type": "stream",
          "text": [
            "0으로는 나눌 수 없다\n"
          ],
          "name": "stdout"
        }
      ]
    },
    {
      "cell_type": "markdown",
      "metadata": {
        "id": "139be1da"
      },
      "source": [
        "### 예외처리 | else 추가\n",
        "\n",
        "예외가 발생하지 않았을 때 else구문을 추가해서 예외가 발생하지 않았다는 메세지를 달아줄 수 있다."
      ],
      "id": "139be1da"
    },
    {
      "cell_type": "code",
      "metadata": {
        "id": "3aa59530",
        "outputId": "5dffa38d-9310-4a21-f2fc-69c8a239adff"
      },
      "source": [
        "a = int(input(\"나누어질 값: \"))\n",
        "b = int(input(\"나눌 값: \"))\n",
        "\n",
        "try:\n",
        "    print(a / b)\n",
        "except:\n",
        "    print(\"나눌 수 없습니다.\")\n",
        "else:\n",
        "    print(\"예외 발생 X\")"
      ],
      "id": "3aa59530",
      "execution_count": null,
      "outputs": [
        {
          "output_type": "stream",
          "text": [
            "나누어질 값: 5\n",
            "나눌 값: 0\n",
            "나눌 수 없습니다.\n"
          ],
          "name": "stdout"
        }
      ]
    },
    {
      "cell_type": "markdown",
      "metadata": {
        "id": "48b6da1f"
      },
      "source": [
        "### 예외처리 | finally 추가\n",
        "\n",
        "finally구문은 예외 발생 여부와 무관하게 무조건 실행되는 부분이다. "
      ],
      "id": "48b6da1f"
    },
    {
      "cell_type": "code",
      "metadata": {
        "id": "ab9e95f8",
        "outputId": "9095c7a6-fe5a-4384-cf47-fc0bb12f0757"
      },
      "source": [
        "a = int(input(\"나누어질 값: \"))\n",
        "b = int(input(\"나눌 값: \"))\n",
        "\n",
        "try:\n",
        "    print(a / b)\n",
        "except:\n",
        "    print(\"나눌 수 없습니다.\")\n",
        "else:\n",
        "    print(\"예외 발생 X\")\n",
        "finally:\n",
        "    print(\"예외처리 종료\") # 예외 발생 여부와 상관 없이 예외처리가 종료되었다는 것을 알려라"
      ],
      "id": "ab9e95f8",
      "execution_count": null,
      "outputs": [
        {
          "output_type": "stream",
          "text": [
            "나누어질 값: 4\n",
            "나눌 값: 2\n",
            "2.0\n",
            "예외 발생 X\n",
            "예외처리 종료\n"
          ],
          "name": "stdout"
        }
      ]
    },
    {
      "cell_type": "markdown",
      "metadata": {
        "id": "5bd8995a"
      },
      "source": [
        "### 예외처리 | Exeption\n",
        "\n",
        "파이썬이 제공하는 Exeption 객체를 통해 오류메세지를 받아볼 수 있다."
      ],
      "id": "5bd8995a"
    },
    {
      "cell_type": "code",
      "metadata": {
        "id": "c2f90c64",
        "outputId": "4480209f-3bbc-431c-92ca-ead65ffd6b3f"
      },
      "source": [
        "a = int(input(\"나누어질 값: \"))\n",
        "b = int(input(\"나눌 값: \"))\n",
        "\n",
        "try:\n",
        "    print(a / b)\n",
        "except Exception as c: # 오류메세지를 c라는 변수에 담아서\n",
        "    print(c)           # 출력해라"
      ],
      "id": "c2f90c64",
      "execution_count": null,
      "outputs": [
        {
          "output_type": "stream",
          "text": [
            "나누어질 값: 3\n",
            "나눌 값: 0\n",
            "division by zero\n"
          ],
          "name": "stdout"
        }
      ]
    },
    {
      "cell_type": "code",
      "metadata": {
        "id": "4751b2bb"
      },
      "source": [
        ""
      ],
      "id": "4751b2bb",
      "execution_count": null,
      "outputs": []
    }
  ]
}