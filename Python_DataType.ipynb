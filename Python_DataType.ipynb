{
  "nbformat": 4,
  "nbformat_minor": 5,
  "metadata": {
    "kernelspec": {
      "display_name": "Python 3",
      "language": "python",
      "name": "python3"
    },
    "language_info": {
      "codemirror_mode": {
        "name": "ipython",
        "version": 3
      },
      "file_extension": ".py",
      "mimetype": "text/x-python",
      "name": "python",
      "nbconvert_exporter": "python",
      "pygments_lexer": "ipython3",
      "version": "3.7.10"
    },
    "toc": {
      "base_numbering": 1,
      "nav_menu": {},
      "number_sections": true,
      "sideBar": true,
      "skip_h1_title": false,
      "title_cell": "Table of Contents",
      "title_sidebar": "Contents",
      "toc_cell": true,
      "toc_position": {},
      "toc_section_display": true,
      "toc_window_display": false
    },
    "colab": {
      "name": "Python_DataType.ipynb",
      "provenance": [],
      "include_colab_link": true
    }
  },
  "cells": [
    {
      "cell_type": "markdown",
      "metadata": {
        "id": "view-in-github",
        "colab_type": "text"
      },
      "source": [
        "<a href=\"https://colab.research.google.com/github/finddme/Python/blob/master/Python_DataType.ipynb\" target=\"_parent\"><img src=\"https://colab.research.google.com/assets/colab-badge.svg\" alt=\"Open In Colab\"/></a>"
      ]
    },
    {
      "cell_type": "markdown",
      "metadata": {
        "toc": true,
        "id": "b678eea8"
      },
      "source": [
        "<h1>Table of Contents<span class=\"tocSkip\"></span></h1>\n",
        "<div class=\"toc\"><ul class=\"toc-item\"><li><span><a href=\"#자료형-|-숫자-|-정수,-실수\" data-toc-modified-id=\"자료형-|-숫자-|-정수,-실수-1\"><span class=\"toc-item-num\">1&nbsp;&nbsp;</span>자료형 | 숫자 | 정수, 실수</a></span></li><li><span><a href=\"#자료형-|-숫자-|-16진수\" data-toc-modified-id=\"자료형-|-숫자-|-16진수-2\"><span class=\"toc-item-num\">2&nbsp;&nbsp;</span>자료형 | 숫자 | 16진수</a></span></li><li><span><a href=\"#자료형-|-시퀀스-|-문자열,-리스트,-튜플\" data-toc-modified-id=\"자료형-|-시퀀스-|-문자열,-리스트,-튜플-3\"><span class=\"toc-item-num\">3&nbsp;&nbsp;</span>자료형 | 시퀀스 | 문자열, 리스트, 튜플</a></span><ul class=\"toc-item\"><li><span><a href=\"#자료형-|-시퀀스-|-Slicing\" data-toc-modified-id=\"자료형-|-시퀀스-|-Slicing-3.1\"><span class=\"toc-item-num\">3.1&nbsp;&nbsp;</span>자료형 | 시퀀스 | Slicing</a></span></li><li><span><a href=\"#자료형-|-시퀀스-|-개별-원소-|-접근\" data-toc-modified-id=\"자료형-|-시퀀스-|-개별-원소-|-접근-3.2\"><span class=\"toc-item-num\">3.2&nbsp;&nbsp;</span>자료형 | 시퀀스 | 개별 원소 | 접근</a></span></li><li><span><a href=\"#자료형-|-시퀀스-|-연산\" data-toc-modified-id=\"자료형-|-시퀀스-|-연산-3.3\"><span class=\"toc-item-num\">3.3&nbsp;&nbsp;</span>자료형 | 시퀀스 | 연산</a></span></li><li><span><a href=\"#자료형-|-시퀀스-|-in\" data-toc-modified-id=\"자료형-|-시퀀스-|-in-3.4\"><span class=\"toc-item-num\">3.4&nbsp;&nbsp;</span>자료형 | 시퀀스 | in</a></span></li><li><span><a href=\"#자료형-|-시퀀스-|-함수-|-len()\" data-toc-modified-id=\"자료형-|-시퀀스-|-함수-|-len()-3.5\"><span class=\"toc-item-num\">3.5&nbsp;&nbsp;</span>자료형 | 시퀀스 | 함수 | len()</a></span></li></ul></li></ul></div>"
      ],
      "id": "b678eea8"
    },
    {
      "cell_type": "markdown",
      "metadata": {
        "id": "1ff81761"
      },
      "source": [
        "## 자료형 | 숫자 | 정수, 실수"
      ],
      "id": "1ff81761"
    },
    {
      "cell_type": "code",
      "metadata": {
        "id": "82a43aef",
        "outputId": "86279bf9-e1ad-406d-8e53-54ba85d72387"
      },
      "source": [
        "'''\n",
        "파이썬에서는 int와 float을 따로 명시하지 않아도 자동으로 정수와 실수를 알아서 맞게 처리한다.\n",
        "정수와 실수를 더하면 자동으로 실수로 처리된다.(정수는 실수에 포함되는 개념이다.)\n",
        "그래서 정수형과 실수형을 같이 사용할 수 있다.\n",
        "'''\n",
        "# 정수형끼리 연산\n",
        "a = 10\n",
        "b = 20\n",
        "print(a + b)"
      ],
      "id": "82a43aef",
      "execution_count": null,
      "outputs": [
        {
          "output_type": "stream",
          "text": [
            "30\n"
          ],
          "name": "stdout"
        }
      ]
    },
    {
      "cell_type": "code",
      "metadata": {
        "id": "ab867a50",
        "outputId": "0634b75c-ddbc-4d73-9b08-37018b7ba614"
      },
      "source": [
        "a = 10 # 정수와\n",
        "b = 20.4 # 실수의 연산\n",
        "print(a + b) # 정수가 실수처리 됨. 10.0 + 20.4 이렇게"
      ],
      "id": "ab867a50",
      "execution_count": null,
      "outputs": [
        {
          "output_type": "stream",
          "text": [
            "30.4\n"
          ],
          "name": "stdout"
        }
      ]
    },
    {
      "cell_type": "code",
      "metadata": {
        "id": "f1d48b7f",
        "outputId": "05751d47-8ab3-4537-de63-bcf4e6a2c15d"
      },
      "source": [
        "'''\n",
        "문자열과 실수의 연산은 불가능. 문자열을 int()나 float()를 통해 숫자로 바꾼 후에 연산해야 한다.\n",
        "'''\n",
        "a = \"10\"\n",
        "b = 4\n",
        "c = 3.7\n",
        "d = int(a) # 왜인지 모르겠지만 파이토치와 코랩에서는 되는데 주피터에서는 안된다...\n",
        "# d = float(a)\n",
        "print(b + c + d)\n",
        "\n",
        "\n",
        "# e = 10.9\n",
        "# f = int(e)\n",
        "# 는 당연히 안된다. 10.9는 정수가 아니니까. 정수 변환이 안됨."
      ],
      "id": "f1d48b7f",
      "execution_count": null,
      "outputs": [
        {
          "output_type": "stream",
          "text": [
            "17.7\n"
          ],
          "name": "stdout"
        }
      ]
    },
    {
      "cell_type": "markdown",
      "metadata": {
        "id": "a7bdc95c"
      },
      "source": [
        "## 자료형 | 숫자 | 16진수"
      ],
      "id": "a7bdc95c"
    },
    {
      "cell_type": "code",
      "metadata": {
        "id": "b925dc0b",
        "outputId": "9167443f-cc1d-4b79-fe6e-8f24553e81c6"
      },
      "source": [
        "'''\n",
        "16진수는 앞에 0x를 붙인다. x는 hexadecimal(16진수)를 의미.\n",
        "'''\n",
        "a = 0x00000001\n",
        "b = 0x00000010\n",
        "c = 0x0000000F # 16진수에서 F는 15.\n",
        "d = 0xFFFFFFFF\n",
        "print(a)\n",
        "print(b)\n",
        "print(c)\n",
        "print(d) # 16진수에서 문자 하나는 4비트. \n",
        "         # 4비트가 8개니까 32비트. 32비트로 표현할 수 있는 가장 큰 숫자가 출력됨."
      ],
      "id": "b925dc0b",
      "execution_count": null,
      "outputs": [
        {
          "output_type": "stream",
          "text": [
            "1\n",
            "16\n",
            "15\n",
            "4294967295\n"
          ],
          "name": "stdout"
        }
      ]
    },
    {
      "cell_type": "markdown",
      "metadata": {
        "id": "27615c94"
      },
      "source": [
        "## 자료형 | 시퀀스 | 문자열, 리스트, 튜플"
      ],
      "id": "27615c94"
    },
    {
      "cell_type": "code",
      "metadata": {
        "id": "4d638ad2"
      },
      "source": [
        "string1 = \"Hey World\"\n",
        "list1 = ['H', 'e', 'y', ' ', 'W', 'o', 'r', 'l', 'd']\n",
        "tuple1 = ('H', 'e', 'y', ' ', 'W', 'o', 'r', 'l', 'd')"
      ],
      "id": "4d638ad2",
      "execution_count": null,
      "outputs": []
    },
    {
      "cell_type": "markdown",
      "metadata": {
        "id": "cef73dd7"
      },
      "source": [
        "### 자료형 | 시퀀스 | Slicing\n",
        "\n",
        "시퀀스 자료형은 순서를 가지며, 원소에 indexing이 되기 때문에 slicing이 가능하다."
      ],
      "id": "cef73dd7"
    },
    {
      "cell_type": "code",
      "metadata": {
        "id": "1d33b5d9",
        "outputId": "47f31e2b-4a35-4550-ce82-a82402116b99"
      },
      "source": [
        "print(string1[0:3])\n",
        "print(list1[0:3])\n",
        "print(tuple1[0:3])"
      ],
      "id": "1d33b5d9",
      "execution_count": null,
      "outputs": [
        {
          "output_type": "stream",
          "text": [
            "Hey\n",
            "['H', 'e', 'y']\n",
            "('H', 'e', 'y')\n"
          ],
          "name": "stdout"
        }
      ]
    },
    {
      "cell_type": "markdown",
      "metadata": {
        "id": "d927137e"
      },
      "source": [
        "### 자료형 | 시퀀스 | 개별 원소 | 접근\n",
        "\n",
        "시퀀스 자료형의 경우, 개별 원소에 접근할 수 있다."
      ],
      "id": "d927137e"
    },
    {
      "cell_type": "code",
      "metadata": {
        "id": "60fe2edb",
        "outputId": "a6fdf25b-4974-4bb4-fa9c-61345089202c"
      },
      "source": [
        "# 반복문을 사용하여 개별 원소에 특정 변수가 접근할 수 있다.\n",
        "\n",
        "for i in string1:\n",
        "    print(i)\n",
        "\n",
        "print(\"--------\")\n",
        "    \n",
        "for i in list1:\n",
        "    print(i)\n",
        "\n",
        "print(\"--------\")\n",
        "    \n",
        "for i in tuple1:\n",
        "    print(i)"
      ],
      "id": "60fe2edb",
      "execution_count": null,
      "outputs": [
        {
          "output_type": "stream",
          "text": [
            "H\n",
            "e\n",
            "y\n",
            " \n",
            "W\n",
            "o\n",
            "r\n",
            "l\n",
            "d\n",
            "--------\n",
            "H\n",
            "e\n",
            "y\n",
            " \n",
            "W\n",
            "o\n",
            "r\n",
            "l\n",
            "d\n",
            "--------\n",
            "H\n",
            "e\n",
            "y\n",
            " \n",
            "W\n",
            "o\n",
            "r\n",
            "l\n",
            "d\n"
          ],
          "name": "stdout"
        }
      ]
    },
    {
      "cell_type": "markdown",
      "metadata": {
        "id": "983a9a84"
      },
      "source": [
        "### 자료형 | 시퀀스 | 연산\n",
        "\n",
        "연산자 사용도 가능하다."
      ],
      "id": "983a9a84"
    },
    {
      "cell_type": "code",
      "metadata": {
        "id": "f153eb26",
        "outputId": "3cac9d7c-8c43-4a2a-8ffe-e50b647dc1ed"
      },
      "source": [
        "string2 = \" 세상아\"\n",
        "print(string1 +string2)"
      ],
      "id": "f153eb26",
      "execution_count": null,
      "outputs": [
        {
          "output_type": "stream",
          "text": [
            "Hey World 세상아\n"
          ],
          "name": "stdout"
        }
      ]
    },
    {
      "cell_type": "markdown",
      "metadata": {
        "id": "604f216f"
      },
      "source": [
        "### 자료형 | 시퀀스 | in\n",
        "\n",
        "in을 사용하여 시퀀스 자료형에 해당 원소가 있는지 찾을 수 있다."
      ],
      "id": "604f216f"
    },
    {
      "cell_type": "code",
      "metadata": {
        "id": "4d1282b5",
        "outputId": "859014a8-551e-43ad-ad0b-7a2b68df80bf"
      },
      "source": [
        "print('H' in string1)\n",
        "print('H' in list1)\n",
        "print('H' in tuple1)"
      ],
      "id": "4d1282b5",
      "execution_count": null,
      "outputs": [
        {
          "output_type": "stream",
          "text": [
            "True\n",
            "True\n",
            "True\n"
          ],
          "name": "stdout"
        }
      ]
    },
    {
      "cell_type": "code",
      "metadata": {
        "id": "4e96daab",
        "outputId": "4ad0b090-0e41-40b2-b883-d9cbd379ffe1"
      },
      "source": [
        "# 조건문을 통해서도 찾을 수 있다.\n",
        "if 'o' in string1:\n",
        "    print(\"오 있다\")\n",
        "\n",
        "print(\"--------\")\n",
        "    \n",
        "if 'o' in list1:\n",
        "    print(\"오 있다\")\n",
        "    \n",
        "print(\"--------\") \n",
        "\n",
        "if 'o' in tuple1:\n",
        "    print(\"오 있다\")"
      ],
      "id": "4e96daab",
      "execution_count": null,
      "outputs": [
        {
          "output_type": "stream",
          "text": [
            "오 있다\n",
            "--------\n",
            "오 있다\n",
            "--------\n",
            "오 있다\n"
          ],
          "name": "stdout"
        }
      ]
    },
    {
      "cell_type": "markdown",
      "metadata": {
        "id": "4498f876"
      },
      "source": [
        "### 자료형 | 시퀀스 | 함수 | len()\n",
        "\n",
        "len()함수를 이용해서 자료의 길이를 구할 수 있다. "
      ],
      "id": "4498f876"
    },
    {
      "cell_type": "code",
      "metadata": {
        "id": "7514671f",
        "outputId": "2ba7c6c7-7932-4f65-8da8-610c7b7f5ee6"
      },
      "source": [
        "print(len(string1))\n",
        "print(len(list1))\n",
        "print(len(tuple1))\n",
        "print(len(string1 +string2))"
      ],
      "id": "7514671f",
      "execution_count": null,
      "outputs": [
        {
          "output_type": "stream",
          "text": [
            "9\n",
            "9\n",
            "9\n",
            "13\n"
          ],
          "name": "stdout"
        }
      ]
    },
    {
      "cell_type": "code",
      "metadata": {
        "id": "aa16ec8e"
      },
      "source": [
        ""
      ],
      "id": "aa16ec8e",
      "execution_count": null,
      "outputs": []
    }
  ]
}