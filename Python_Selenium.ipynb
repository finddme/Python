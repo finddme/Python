{
  "nbformat": 4,
  "nbformat_minor": 5,
  "metadata": {
    "kernelspec": {
      "display_name": "Python 3",
      "language": "python",
      "name": "python3"
    },
    "language_info": {
      "codemirror_mode": {
        "name": "ipython",
        "version": 3
      },
      "file_extension": ".py",
      "mimetype": "text/x-python",
      "name": "python",
      "nbconvert_exporter": "python",
      "pygments_lexer": "ipython3",
      "version": "3.7.10"
    },
    "toc": {
      "base_numbering": 1,
      "nav_menu": {},
      "number_sections": true,
      "sideBar": true,
      "skip_h1_title": false,
      "title_cell": "Table of Contents",
      "title_sidebar": "Contents",
      "toc_cell": true,
      "toc_position": {},
      "toc_section_display": true,
      "toc_window_display": false
    },
    "colab": {
      "name": "Python_Selenium.ipynb",
      "provenance": [],
      "include_colab_link": true
    }
  },
  "cells": [
    {
      "cell_type": "markdown",
      "metadata": {
        "id": "view-in-github",
        "colab_type": "text"
      },
      "source": [
        "<a href=\"https://colab.research.google.com/github/finddme/Python/blob/master/Python_Selenium.ipynb\" target=\"_parent\"><img src=\"https://colab.research.google.com/assets/colab-badge.svg\" alt=\"Open In Colab\"/></a>"
      ]
    },
    {
      "cell_type": "markdown",
      "metadata": {
        "toc": true,
        "id": "67aff0bc"
      },
      "source": [
        "<h1>Table of Contents<span class=\"tocSkip\"></span></h1>\n",
        "<div class=\"toc\"><ul class=\"toc-item\"><li><span><a href=\"#Crawling-|-Selenium\" data-toc-modified-id=\"Crawling-|-Selenium-1\"><span class=\"toc-item-num\">1&nbsp;&nbsp;</span>Crawling | Selenium</a></span></li></ul></div>"
      ],
      "id": "67aff0bc"
    },
    {
      "cell_type": "markdown",
      "metadata": {
        "id": "d10ceff6"
      },
      "source": [
        "## Crawling | Selenium\n",
        "\n",
        "selenium을 이용해서 크롤링을 해보자\n",
        "\n",
        "네이버에 자동 로그인해서 메일함 정보를 가져오는 프로그램이다.\n",
        "\n",
        "셀레니움은 구글 크롬 브라우저와 드라이버로 연동이 가능하여 다양한 디버깅을 진행할 수 있다.\n",
        "\n",
        "작성한 프로그램과 크롬을 연동하기 위해서는 Web Driver가 있어야 한다.\n",
        "\n",
        "[\\[크롬 드라이버 설치\\]](https://chromedriver.chromium.org/downloads)\n",
        "\n"
      ],
      "id": "d10ceff6"
    },
    {
      "cell_type": "code",
      "metadata": {
        "id": "62a60d4c",
        "outputId": "cadae886-9471-48b1-df2d-5f48b75e9c89"
      },
      "source": [
        "pip install selenium # 셀레니움을 설치한다"
      ],
      "id": "62a60d4c",
      "execution_count": null,
      "outputs": [
        {
          "output_type": "stream",
          "text": [
            "Requirement already satisfied: selenium in c:\\users\\yein4\\anaconda3\\lib\\site-packages (3.141.0)\n",
            "Requirement already satisfied: urllib3 in c:\\users\\yein4\\anaconda3\\lib\\site-packages (from selenium) (1.26.4)\n",
            "Note: you may need to restart the kernel to use updated packages.\n"
          ],
          "name": "stdout"
        }
      ]
    },
    {
      "cell_type": "code",
      "metadata": {
        "id": "ba2e1c0a",
        "outputId": "e2542578-dc78-4865-8911-9cb11c461ba8"
      },
      "source": [
        "pip install pyperclip # 자동입력 방지를 막기 위해 사용할 pyperclip을 설치한다"
      ],
      "id": "ba2e1c0a",
      "execution_count": null,
      "outputs": [
        {
          "output_type": "stream",
          "text": [
            "Requirement already satisfied: pyperclip in c:\\users\\yein4\\anaconda3\\lib\\site-packages (1.8.2)\n",
            "Note: you may need to restart the kernel to use updated packages.\n"
          ],
          "name": "stdout"
        }
      ]
    },
    {
      "cell_type": "code",
      "metadata": {
        "id": "80827257"
      },
      "source": [
        "from selenium import webdriver # webdriver를 불러온다\n",
        "# 설치한 크롬 웹드라이버를 사용할 것이기 때문에 저장된 경로를 적어준다\n",
        "driver = webdriver.Chrome('C:\\Chromedriver\\chromedriver.exe')\n",
        "# 웹드라이버가 불러와졌다."
      ],
      "id": "80827257",
      "execution_count": null,
      "outputs": []
    },
    {
      "cell_type": "code",
      "metadata": {
        "id": "0731d63a"
      },
      "source": [
        "# 네이버 로그인창 url을 넣어준다.\n",
        "# 이걸 처음 실행할 때 방화벽 관련 경고가 뜨는데 그냥 허용해준다.\n",
        "# 허용하고나면 셀레니움이 자동으로 크롬을 실행해서 네이버 로그인 화면을 띄운다\n",
        "driver.get('https://nid.naver.com/nidlogin.login') "
      ],
      "id": "0731d63a",
      "execution_count": null,
      "outputs": []
    },
    {
      "cell_type": "code",
      "metadata": {
        "id": "d4a3bae0"
      },
      "source": [
        "'''\n",
        "캡차를 피하기 위해 pyperclip라이브러리를 이용하여 \n",
        "아이디와 비밀번호를 클립보드에 저장한 후에 ctrl + v하는 방법을 사용했는데 이제 이 방법도 막혔다\n",
        "'''\n",
        "# 로딩 때 시간적 문제가 있을 수 있어 그것을 방지하기 위해 time객체의 sleep함수를 사용하여\n",
        "# 시간을 조금 지체시킨다\n",
        "from time import sleep\n",
        "import pyperclip\n",
        "from selenium.webdriver.common.keys import Keys\n",
        "\n",
        "# 너이버 로그인창 페이지 소스코드를 보면 아이디값의 파라미터명는 'id'이고 \n",
        "# 비밀번호값의 파라미터명은 'pw'이다\n",
        "\n",
        "sleep(0.5) # 0.5초 기다린다\n",
        "tag_id = driver.find_element_by_name('id') # 그래서 각각 'id'라는 name값(파라미터명)을 찾아서\n",
        "pyperclip.copy('아이디') # 로그인할 아이디를 복사해주고\n",
        "tag_id.send_keys(Keys.CONTROL, 'v') # 아까 복사한 아이디를 붙여넣어 send_keys함수로 아이디를 입력한다\n",
        "\n",
        "# 비밀번호도 마찬가지로 입력한다\n",
        "sleep(0.5)\n",
        "tag_pw = driver.find_element_by_name('pw')\n",
        "pyperclip.copy('비밀번호')\n",
        "tag_pw.send_keys(Keys.CONTROL, 'v')\n",
        "\n",
        "# 실행해보면 크롬이 자동으로 실행되고 네이버로그인 화면이 뜬 후 \n",
        "# 자동으로 아이디와 비밀번호가 된다.\n",
        "# 근데 캡차에 걸려서 이제 안된다"
      ],
      "id": "d4a3bae0",
      "execution_count": null,
      "outputs": []
    },
    {
      "cell_type": "code",
      "metadata": {
        "id": "4d3ae455"
      },
      "source": [
        "# 이제 로그인 버튼을 눌러서 로그인을 마무리해야 한다.\n",
        "# 개발자도구(f12)를 열어서 로그인 버튼에 해당하는 부분의 id값을 찾아 눌러준다\n",
        "driver.find_element_by_id('log.login').click()\n",
        "sleep(2)\n",
        "# 여기까지 실행하면 로그인이 된다"
      ],
      "id": "4d3ae455",
      "execution_count": null,
      "outputs": []
    },
    {
      "cell_type": "code",
      "metadata": {
        "id": "1a2e72a8"
      },
      "source": [
        "'''\n",
        "메일 제목을 끌어올 것이다. \n",
        "메일함에 들어가서 개발자도구로 소스코드를 확인해보면 \n",
        "strog태그가 있다. class값으로는 mail_title이 들어가 있다.\n",
        "이 정보를 바탕으로 파싱을 하자\n",
        "'''\n",
        "from bs4 improt BeautifulSoup # 파싱을 위해 뷰숩을 불러준다\n",
        "\n",
        "driver.get('https://mail.naver.com/') # driver에서 메일페이지에 들어가도록 한다\n",
        "\n",
        "html1 = driver.page_source # 메일페이지 소스코드를 가져온다\n",
        "soup1 = BeautifulSoup(html1, 'lxml') # 뷰숩으로 소스코드를 파싱할 수 있는 형태로 초기화해준다\n",
        "\n",
        "# 메일 제목을 다 찾아낸다\n",
        "# strog태그 중에서 mail_title이라는 이름을 가진 class태그만 찾아내서 파싱한다\n",
        "title_list = soup1.find_all('strong','mail_title')\n",
        "\n",
        "# 추출한 메일 제목을 하나씩 돌면서 출력한다\n",
        "for title in title_list:\n",
        "    print(titel.text)"
      ],
      "id": "1a2e72a8",
      "execution_count": null,
      "outputs": []
    },
    {
      "cell_type": "code",
      "metadata": {
        "id": "abf40698"
      },
      "source": [
        ""
      ],
      "id": "abf40698",
      "execution_count": null,
      "outputs": []
    }
  ]
}