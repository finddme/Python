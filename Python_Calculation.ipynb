{
  "nbformat": 4,
  "nbformat_minor": 5,
  "metadata": {
    "kernelspec": {
      "display_name": "Python 3",
      "language": "python",
      "name": "python3"
    },
    "language_info": {
      "codemirror_mode": {
        "name": "ipython",
        "version": 3
      },
      "file_extension": ".py",
      "mimetype": "text/x-python",
      "name": "python",
      "nbconvert_exporter": "python",
      "pygments_lexer": "ipython3",
      "version": "3.7.10"
    },
    "toc": {
      "base_numbering": 1,
      "nav_menu": {},
      "number_sections": true,
      "sideBar": true,
      "skip_h1_title": false,
      "title_cell": "Table of Contents",
      "title_sidebar": "Contents",
      "toc_cell": true,
      "toc_position": {},
      "toc_section_display": true,
      "toc_window_display": false
    },
    "colab": {
      "name": "Python_Calculation.ipynb",
      "provenance": [],
      "include_colab_link": true
    }
  },
  "cells": [
    {
      "cell_type": "markdown",
      "metadata": {
        "id": "view-in-github",
        "colab_type": "text"
      },
      "source": [
        "<a href=\"https://colab.research.google.com/github/finddme/Python/blob/master/Python_Calculation.ipynb\" target=\"_parent\"><img src=\"https://colab.research.google.com/assets/colab-badge.svg\" alt=\"Open In Colab\"/></a>"
      ]
    },
    {
      "cell_type": "markdown",
      "metadata": {
        "toc": true,
        "id": "f2d71367"
      },
      "source": [
        "<h1>Table of Contents<span class=\"tocSkip\"></span></h1>\n",
        "<div class=\"toc\"><ul class=\"toc-item\"><li><span><a href=\"#연산(calculation)\" data-toc-modified-id=\"연산(calculation)-1\"><span class=\"toc-item-num\">1&nbsp;&nbsp;</span>연산(calculation)</a></span><ul class=\"toc-item\"><li><span><a href=\"#연산-|-사칙연산\" data-toc-modified-id=\"연산-|-사칙연산-1.1\"><span class=\"toc-item-num\">1.1&nbsp;&nbsp;</span>연산 | 사칙연산</a></span></li><li><span><a href=\"#연산-|-비교연산\" data-toc-modified-id=\"연산-|-비교연산-1.2\"><span class=\"toc-item-num\">1.2&nbsp;&nbsp;</span>연산 | 비교연산</a></span></li><li><span><a href=\"#연산-|-복소수연산\" data-toc-modified-id=\"연산-|-복소수연산-1.3\"><span class=\"toc-item-num\">1.3&nbsp;&nbsp;</span>연산 | 복소수연산</a></span></li><li><span><a href=\"#연산-|-shift연산\" data-toc-modified-id=\"연산-|-shift연산-1.4\"><span class=\"toc-item-num\">1.4&nbsp;&nbsp;</span>연산 | shift연산</a></span></li><li><span><a href=\"#연산-|-거듭제곱-연산\" data-toc-modified-id=\"연산-|-거듭제곱-연산-1.5\"><span class=\"toc-item-num\">1.5&nbsp;&nbsp;</span>연산 | 거듭제곱 연산</a></span></li></ul></li><li><span><a href=\"#연산자\" data-toc-modified-id=\"연산자-2\"><span class=\"toc-item-num\">2&nbsp;&nbsp;</span>연산자</a></span><ul class=\"toc-item\"><li><span><a href=\"#연산자-|-할당-연산자\" data-toc-modified-id=\"연산자-|-할당-연산자-2.1\"><span class=\"toc-item-num\">2.1&nbsp;&nbsp;</span>연산자 | 할당 연산자</a></span></li><li><span><a href=\"#연산자-|-증감연산자\" data-toc-modified-id=\"연산자-|-증감연산자-2.2\"><span class=\"toc-item-num\">2.2&nbsp;&nbsp;</span>연산자 | 증감연산자</a></span></li><li><span><a href=\"#연산자-|-관계연산자\" data-toc-modified-id=\"연산자-|-관계연산자-2.3\"><span class=\"toc-item-num\">2.3&nbsp;&nbsp;</span>연산자 | 관계연산자</a></span><ul class=\"toc-item\"><li><span><a href=\"#연산사-|-관계연산자-|-==\" data-toc-modified-id=\"연산사-|-관계연산자-|-==-2.3.1\"><span class=\"toc-item-num\">2.3.1&nbsp;&nbsp;</span>연산사 | 관계연산자 | ==</a></span></li><li><span><a href=\"#연산자-|-관계연산자-|-!=\" data-toc-modified-id=\"연산자-|-관계연산자-|-!=-2.3.2\"><span class=\"toc-item-num\">2.3.2&nbsp;&nbsp;</span>연산자 | 관계연산자 | !=</a></span></li><li><span><a href=\"#연산자-|-관계연산자-|-<,-=<,->,-=>\" data-toc-modified-id=\"연산자-|-관계연산자-|-<,-=<,->,-=>-2.3.3\"><span class=\"toc-item-num\">2.3.3&nbsp;&nbsp;</span>연산자 | 관계연산자 | &lt;, =&lt;, &gt;, =&gt;</a></span></li></ul></li><li><span><a href=\"#연산자-|-논리연산자\" data-toc-modified-id=\"연산자-|-논리연산자-2.4\"><span class=\"toc-item-num\">2.4&nbsp;&nbsp;</span>연산자 | 논리연산자</a></span><ul class=\"toc-item\"><li><span><a href=\"#연산자-|-논리연산자-|-and\" data-toc-modified-id=\"연산자-|-논리연산자-|-and-2.4.1\"><span class=\"toc-item-num\">2.4.1&nbsp;&nbsp;</span>연산자 | 논리연산자 | and</a></span></li></ul></li></ul></li></ul></div>"
      ],
      "id": "f2d71367"
    },
    {
      "cell_type": "markdown",
      "metadata": {
        "id": "6ce5e715"
      },
      "source": [
        "## 연산(calculation)"
      ],
      "id": "6ce5e715"
    },
    {
      "cell_type": "markdown",
      "metadata": {
        "id": "fa0e941d"
      },
      "source": [
        "### 연산 | 사칙연산"
      ],
      "id": "fa0e941d"
    },
    {
      "cell_type": "code",
      "metadata": {
        "id": "6b31d71e",
        "outputId": "86b17021-a7b3-4c87-ed8a-543a55a83383"
      },
      "source": [
        "'''\n",
        "a + b에서 \n",
        "a와 b는 피연산자, \n",
        "+는 연산자이다.\n",
        "'''\n",
        "\n",
        "a = 5\n",
        "b = 2\n",
        "print(\"a + b =\", a + b)\n",
        "print(\"a - b =\", a - b)\n",
        "print(\"a * b =\", a * b)\n",
        "print(\"a / b =\", a / b)\n",
        "print(\"(몫만 구하고 싶다) \",\"a // b =\", a // b)\n",
        "print(\"(나머지만 구하고 싶다) \",\"a % b =\", a % b)"
      ],
      "id": "6b31d71e",
      "execution_count": null,
      "outputs": [
        {
          "output_type": "stream",
          "text": [
            "a + b = 7\n",
            "a - b = 3\n",
            "a * b = 10\n",
            "a / b = 2.5\n",
            "(몫만 구하고 싶다)  a // b = 2\n",
            "(나머지만 구하고 싶다)  a % b = 1\n"
          ],
          "name": "stdout"
        }
      ]
    },
    {
      "cell_type": "markdown",
      "metadata": {
        "id": "cabb7592"
      },
      "source": [
        "### 연산 | 비교연산\n",
        "\n",
        "비교연산자로는 >, >=, <, <=와 같은 것들이 있다.\n",
        "\n",
        "여러개의 비교연산을 수행할 때에는 and와 or과 같은 논리연산자를 이용해야 한다.\n",
        "\n",
        "예를 들어 score가 90미만 80이상이라는 조건을 표현하고 싶을 때 '90 > score >= 80'로 입력하면 안된다. 이러한 조건은 'score < 90 and score >= 80(score가 90 미만이고 그리고 80 이상이다)'로 표현해야 한다."
      ],
      "id": "cabb7592"
    },
    {
      "cell_type": "code",
      "metadata": {
        "id": "de1403ac",
        "outputId": "0a6af782-fa99-4f7b-dbdf-0b1a5a26ddfe"
      },
      "source": [
        "score = 87\n",
        "\n",
        "print(score < 90 and score >= 80)"
      ],
      "id": "de1403ac",
      "execution_count": null,
      "outputs": [
        {
          "output_type": "stream",
          "text": [
            "True\n"
          ],
          "name": "stdout"
        }
      ]
    },
    {
      "cell_type": "markdown",
      "metadata": {
        "id": "f3dabe84"
      },
      "source": [
        "### 연산 | 복소수연산"
      ],
      "id": "f3dabe84"
    },
    {
      "cell_type": "code",
      "metadata": {
        "id": "880b7dde",
        "outputId": "47dbb6d5-bda7-409b-b961-685100581582"
      },
      "source": [
        "a = (3 + 9j)\n",
        "b = (6 + 7j)\n",
        "print(a * b)"
      ],
      "id": "880b7dde",
      "execution_count": null,
      "outputs": [
        {
          "output_type": "stream",
          "text": [
            "(-45+75j)\n"
          ],
          "name": "stdout"
        }
      ]
    },
    {
      "cell_type": "markdown",
      "metadata": {
        "id": "8ad0741f"
      },
      "source": [
        "### 연산 | shift연산"
      ],
      "id": "8ad0741f"
    },
    {
      "cell_type": "code",
      "metadata": {
        "id": "280371ee",
        "outputId": "6942b794-94b0-40cb-b590-e788e9f35b5d"
      },
      "source": [
        "'''\n",
        "0 0 0 0 0 0 0 1\n",
        "| | | | | | | |\n",
        "     16 8 4 2 1\n",
        "'''\n",
        "a = 2 # 2는 내부적으로 00000010으로 표현된다.\n",
        "print(a << 2) # 00000010에서 왼쪽으로 2번 shift하면 00001000 == 8\n",
        "\n",
        "# 왼쪽으로 1번 shift할 때마다 2를 곱하는 것만큼 증가.\n",
        "# 2에서 왼쪽으로 2번 shift했으니까 2 * (2 ** 2)\n",
        "\n",
        "# 오른쪽으로 shift하면 반대로 2의 배수만큼 나누기되는 것."
      ],
      "id": "280371ee",
      "execution_count": null,
      "outputs": [
        {
          "output_type": "stream",
          "text": [
            "8\n"
          ],
          "name": "stdout"
        }
      ]
    },
    {
      "cell_type": "code",
      "metadata": {
        "id": "418e6804",
        "outputId": "6eb3a712-1a08-45bc-b45f-0addb5fc1342"
      },
      "source": [
        "print(a << 3) # 2 * (2 ** 3)"
      ],
      "id": "418e6804",
      "execution_count": null,
      "outputs": [
        {
          "output_type": "stream",
          "text": [
            "16\n"
          ],
          "name": "stdout"
        }
      ]
    },
    {
      "cell_type": "code",
      "metadata": {
        "id": "082ebce5",
        "outputId": "0d7a54a0-1c59-44dc-eec9-e4b2ee5126d3"
      },
      "source": [
        "print(a >> 1) # 2 / (2 ** 1)"
      ],
      "id": "082ebce5",
      "execution_count": null,
      "outputs": [
        {
          "output_type": "stream",
          "text": [
            "1\n"
          ],
          "name": "stdout"
        }
      ]
    },
    {
      "cell_type": "code",
      "metadata": {
        "id": "8ef49be3",
        "outputId": "a1090c2e-d0c1-49db-e440-e565f66b41d9"
      },
      "source": [
        "print(a >> 3) # 오른쪽으로 더이상 이동할 수 없을 때 0이 출력된다."
      ],
      "id": "8ef49be3",
      "execution_count": null,
      "outputs": [
        {
          "output_type": "stream",
          "text": [
            "0\n"
          ],
          "name": "stdout"
        }
      ]
    },
    {
      "cell_type": "markdown",
      "metadata": {
        "id": "cd06a75a"
      },
      "source": [
        "### 연산 | 거듭제곱 연산"
      ],
      "id": "cd06a75a"
    },
    {
      "cell_type": "code",
      "metadata": {
        "id": "d31c1d30",
        "outputId": "e55ae600-70c3-4d0c-ee8e-dc9eae509d1f"
      },
      "source": [
        "a = 2\n",
        "b = 4\n",
        "print(a ** b) # 거듭제곱은 **를 통해 수행할 수 있다. 해당 예제의 경우 2의 4제곱이 연산된다."
      ],
      "id": "d31c1d30",
      "execution_count": null,
      "outputs": [
        {
          "output_type": "stream",
          "text": [
            "16\n"
          ],
          "name": "stdout"
        }
      ]
    },
    {
      "cell_type": "markdown",
      "metadata": {
        "id": "0b8ff7e4"
      },
      "source": [
        "## 연산자"
      ],
      "id": "0b8ff7e4"
    },
    {
      "cell_type": "markdown",
      "metadata": {
        "id": "c20764a3"
      },
      "source": [
        "### 기본 연산자\n",
        "- +(add)\n",
        "- -(sub)\n",
        "- *(mul)\n",
        "- / (div)\n",
        "- % (mod(나머지 연산 / 모듈러 연산))"
      ],
      "id": "c20764a3"
    },
    {
      "cell_type": "code",
      "metadata": {
        "id": "05ac37ff",
        "outputId": "4c44b9d2-b3e0-44e6-fb54-107fea72b179"
      },
      "source": [
        "# 문자열 + 문자열\n",
        "a = \"Hey \"\n",
        "b = \"World\"\n",
        "print(a + b)"
      ],
      "id": "05ac37ff",
      "execution_count": null,
      "outputs": [
        {
          "output_type": "stream",
          "text": [
            "Hey World\n"
          ],
          "name": "stdout"
        }
      ]
    },
    {
      "cell_type": "code",
      "metadata": {
        "id": "14342d54",
        "outputId": "5ff62fdf-7f33-4478-b561-d7ea291d769f"
      },
      "source": [
        "#숫자 + 숫자\n",
        "a1 = 20\n",
        "b1 = 30\n",
        "print(a1 + b1)"
      ],
      "id": "14342d54",
      "execution_count": null,
      "outputs": [
        {
          "output_type": "stream",
          "text": [
            "50\n"
          ],
          "name": "stdout"
        }
      ]
    },
    {
      "cell_type": "code",
      "metadata": {
        "id": "a48012e0",
        "outputId": "4f5daf56-5194-4af0-bcf8-e3788d450426"
      },
      "source": [
        "# 문자역 + 숫자는 안됨.\n",
        "print(a + a1)"
      ],
      "id": "a48012e0",
      "execution_count": null,
      "outputs": [
        {
          "output_type": "error",
          "ename": "TypeError",
          "evalue": "can only concatenate str (not \"int\") to str",
          "traceback": [
            "\u001b[1;31m---------------------------------------------------------------------------\u001b[0m",
            "\u001b[1;31mTypeError\u001b[0m                                 Traceback (most recent call last)",
            "\u001b[1;32m<ipython-input-11-13969a388522>\u001b[0m in \u001b[0;36m<module>\u001b[1;34m\u001b[0m\n\u001b[0;32m      1\u001b[0m \u001b[1;31m# 문자역 + 숫자는 안됨.\u001b[0m\u001b[1;33m\u001b[0m\u001b[1;33m\u001b[0m\u001b[1;33m\u001b[0m\u001b[0m\n\u001b[1;32m----> 2\u001b[1;33m \u001b[0mprint\u001b[0m\u001b[1;33m(\u001b[0m\u001b[0ma\u001b[0m \u001b[1;33m+\u001b[0m \u001b[0ma1\u001b[0m\u001b[1;33m)\u001b[0m\u001b[1;33m\u001b[0m\u001b[1;33m\u001b[0m\u001b[0m\n\u001b[0m",
            "\u001b[1;31mTypeError\u001b[0m: can only concatenate str (not \"int\") to str"
          ]
        }
      ]
    },
    {
      "cell_type": "markdown",
      "metadata": {
        "id": "f6add9f8"
      },
      "source": [
        "### 연산자 | 할당 연산자"
      ],
      "id": "f6add9f8"
    },
    {
      "cell_type": "code",
      "metadata": {
        "id": "9eab3d43",
        "outputId": "cc34c740-39bb-4263-8094-ee4a44a3f3f7"
      },
      "source": [
        "'''\n",
        "할당연산자는 등호(=)이다. \n",
        "컴퓨터에서 등호는 등호를 기준으로 오른쪽에 있는 값을 왼쪽에 있는 변수에 할당하겠다는 의미를 가진다.\n",
        "''' \n",
        "a = 4 # 4라는 값을 a에 할당\n",
        "\n",
        "'''\n",
        "컴퓨터에서 '같다'는 등호를 두번연속 입력한 것이다(==).\n",
        "'''\n",
        "print(a == 9)\n"
      ],
      "id": "9eab3d43",
      "execution_count": null,
      "outputs": [
        {
          "output_type": "stream",
          "text": [
            "False\n"
          ],
          "name": "stdout"
        }
      ]
    },
    {
      "cell_type": "markdown",
      "metadata": {
        "id": "3adf66a8"
      },
      "source": [
        "### 연산자 | 증감연산자\n",
        "\n",
        "어떤 변수의 값을 증가 혹은 감소시키는 과정을 축약한 형태이다.\n",
        "\n",
        "+=, -=, \\*=, /= 의 형태를 가진다."
      ],
      "id": "3adf66a8"
    },
    {
      "cell_type": "code",
      "metadata": {
        "id": "601c8f8c",
        "outputId": "2919043c-6867-4297-b147-2cc52732a6a9"
      },
      "source": [
        "''' \n",
        "a = 10\n",
        "a = a + 10  # a에 10만큼 더해주는 이 과정을 아래와 같이 축약할 수 있다.\n",
        "'''\n",
        "\n",
        "a = 10\n",
        "a += 10\n",
        "print(a)\n",
        "\n",
        "b = 8\n",
        "b *= 2\n",
        "print(b)"
      ],
      "id": "601c8f8c",
      "execution_count": null,
      "outputs": [
        {
          "output_type": "stream",
          "text": [
            "20\n",
            "16\n"
          ],
          "name": "stdout"
        }
      ]
    },
    {
      "cell_type": "markdown",
      "metadata": {
        "id": "47cd16c7"
      },
      "source": [
        "### 연산자 | 관계연산자\n",
        "\n",
        "값을 비교하여 관계를 알아내는 목적으로 사용할 수 있는 연산자이다."
      ],
      "id": "47cd16c7"
    },
    {
      "cell_type": "code",
      "metadata": {
        "id": "393b6cee"
      },
      "source": [
        "'''\n",
        "관계연산자는 숫자와 문자 모두 적용 가능하다.\n",
        "'''\n",
        "a = 10\n",
        "b = 20\n",
        "\n",
        "c = \"안녕\"\n",
        "d = \"안 안녕\""
      ],
      "id": "393b6cee",
      "execution_count": null,
      "outputs": []
    },
    {
      "cell_type": "markdown",
      "metadata": {
        "id": "065f4dda"
      },
      "source": [
        "#### 연산사 | 관계연산자 | =="
      ],
      "id": "065f4dda"
    },
    {
      "cell_type": "code",
      "metadata": {
        "id": "d0411182",
        "outputId": "39d9c6d6-e0aa-46f2-b667-90faa8c68c5d"
      },
      "source": [
        "a == b  # a와 b가 같은지 판별한다. \n",
        "\n",
        "# a = b는 b라는 변수에에 들어있는 값을 a라는 변수에 넣어주겠다는 것. 즉, 등호(=)는 '할당'을 의미.\n"
      ],
      "id": "d0411182",
      "execution_count": null,
      "outputs": [
        {
          "output_type": "execute_result",
          "data": {
            "text/plain": [
              "False"
            ]
          },
          "metadata": {
            "tags": []
          },
          "execution_count": 37
        }
      ]
    },
    {
      "cell_type": "code",
      "metadata": {
        "id": "f8478f5e",
        "outputId": "f2808363-4925-463e-ac0f-8a9f361f5443"
      },
      "source": [
        "c == d"
      ],
      "id": "f8478f5e",
      "execution_count": null,
      "outputs": [
        {
          "output_type": "execute_result",
          "data": {
            "text/plain": [
              "False"
            ]
          },
          "metadata": {
            "tags": []
          },
          "execution_count": 25
        }
      ]
    },
    {
      "cell_type": "markdown",
      "metadata": {
        "id": "1e1366a3"
      },
      "source": [
        "#### 연산자 | 관계연산자 | !="
      ],
      "id": "1e1366a3"
    },
    {
      "cell_type": "code",
      "metadata": {
        "id": "f6a0cfff",
        "outputId": "1ef4a44f-ddb6-498c-ce12-e2d37e30e778"
      },
      "source": [
        "a != b # a와 b가 다른지 판별."
      ],
      "id": "f6a0cfff",
      "execution_count": null,
      "outputs": [
        {
          "output_type": "execute_result",
          "data": {
            "text/plain": [
              "True"
            ]
          },
          "metadata": {
            "tags": []
          },
          "execution_count": 26
        }
      ]
    },
    {
      "cell_type": "code",
      "metadata": {
        "id": "2d70ce90",
        "outputId": "a3df2f8f-5a80-43b0-e613-9cc643c33726"
      },
      "source": [
        "c != d"
      ],
      "id": "2d70ce90",
      "execution_count": null,
      "outputs": [
        {
          "output_type": "execute_result",
          "data": {
            "text/plain": [
              "True"
            ]
          },
          "metadata": {
            "tags": []
          },
          "execution_count": 27
        }
      ]
    },
    {
      "cell_type": "markdown",
      "metadata": {
        "id": "7422ad1d"
      },
      "source": [
        "#### 연산자 | 관계연산자 | <, =<, >, =>"
      ],
      "id": "7422ad1d"
    },
    {
      "cell_type": "code",
      "metadata": {
        "id": "de166c4d",
        "outputId": "c88f9cd4-7722-45d0-d1c8-20fbd478df3b"
      },
      "source": [
        "a > b # a가 b보다 크냐"
      ],
      "id": "de166c4d",
      "execution_count": null,
      "outputs": [
        {
          "output_type": "execute_result",
          "data": {
            "text/plain": [
              "False"
            ]
          },
          "metadata": {
            "tags": []
          },
          "execution_count": 28
        }
      ]
    },
    {
      "cell_type": "code",
      "metadata": {
        "id": "2d1d7c7f",
        "outputId": "0486d267-5d17-468b-c8f1-468d4892bd72"
      },
      "source": [
        "c > d # 문자열을 비교할 때는 사전순으로 비교한다. 사전상에서 먼저 나온 문자가 더 작은 것이다."
      ],
      "id": "2d1d7c7f",
      "execution_count": null,
      "outputs": [
        {
          "output_type": "execute_result",
          "data": {
            "text/plain": [
              "True"
            ]
          },
          "metadata": {
            "tags": []
          },
          "execution_count": 29
        }
      ]
    },
    {
      "cell_type": "code",
      "metadata": {
        "id": "4da7791d",
        "outputId": "00c1a989-cb69-4d01-9ff4-590effcbeac5"
      },
      "source": [
        "a < b # a가 b보다 작냐"
      ],
      "id": "4da7791d",
      "execution_count": null,
      "outputs": [
        {
          "output_type": "execute_result",
          "data": {
            "text/plain": [
              "True"
            ]
          },
          "metadata": {
            "tags": []
          },
          "execution_count": 30
        }
      ]
    },
    {
      "cell_type": "code",
      "metadata": {
        "id": "2bb072a9",
        "outputId": "12358683-9d46-471e-c5a1-2de39b10c709"
      },
      "source": [
        "c < d"
      ],
      "id": "2bb072a9",
      "execution_count": null,
      "outputs": [
        {
          "output_type": "execute_result",
          "data": {
            "text/plain": [
              "False"
            ]
          },
          "metadata": {
            "tags": []
          },
          "execution_count": 31
        }
      ]
    },
    {
      "cell_type": "markdown",
      "metadata": {
        "id": "064ed491"
      },
      "source": [
        "### 연산자 | 논리연산자\n",
        "\n",
        "여러개의 수식을 논리적으로 연산할 수 있게 한다.\n",
        "\n",
        "and, or, not이 있다."
      ],
      "id": "064ed491"
    },
    {
      "cell_type": "code",
      "metadata": {
        "id": "fcf79658"
      },
      "source": [
        "a = True\n",
        "b = False"
      ],
      "id": "fcf79658",
      "execution_count": null,
      "outputs": []
    },
    {
      "cell_type": "markdown",
      "metadata": {
        "id": "bbc1e6ff"
      },
      "source": [
        "#### 연산자 | 논리연산자 | and"
      ],
      "id": "bbc1e6ff"
    },
    {
      "cell_type": "code",
      "metadata": {
        "id": "173131e1",
        "outputId": "4f7563a0-64d3-4b49-f290-f8c289aa9097"
      },
      "source": [
        "'''\n",
        "and는 말 그대로 '그리고'라는 의미이다.\n",
        "'''\n",
        "a and b # a그리고 b 모두 참(True)이다."
      ],
      "id": "173131e1",
      "execution_count": null,
      "outputs": [
        {
          "output_type": "execute_result",
          "data": {
            "text/plain": [
              "False"
            ]
          },
          "metadata": {
            "tags": []
          },
          "execution_count": 33
        }
      ]
    },
    {
      "cell_type": "code",
      "metadata": {
        "id": "3fbcb79d",
        "outputId": "baefbf2b-63e2-46ba-9dc9-b27d6c26407e"
      },
      "source": [
        "'''\n",
        "or은 말 그대로 '혹은'이라는 의미이다.\n",
        "'''\n",
        "a or b # a혹은 b중 하나라도 참이 있다."
      ],
      "id": "3fbcb79d",
      "execution_count": null,
      "outputs": [
        {
          "output_type": "execute_result",
          "data": {
            "text/plain": [
              "True"
            ]
          },
          "metadata": {
            "tags": []
          },
          "execution_count": 34
        }
      ]
    },
    {
      "cell_type": "code",
      "metadata": {
        "id": "a3dad6e9",
        "outputId": "f9ea0ae2-166a-4579-8317-35172ce243e7"
      },
      "source": [
        "'''\n",
        "not은 거짓(False)인지 확인한다.\n",
        "'''\n",
        "\n",
        "not a # a는 거짓이다."
      ],
      "id": "a3dad6e9",
      "execution_count": null,
      "outputs": [
        {
          "output_type": "execute_result",
          "data": {
            "text/plain": [
              "False"
            ]
          },
          "metadata": {
            "tags": []
          },
          "execution_count": 35
        }
      ]
    },
    {
      "cell_type": "code",
      "metadata": {
        "id": "1db6b6a7",
        "outputId": "7f7b2650-6e9d-4d28-d00f-79936708a7f8"
      },
      "source": [
        "'''\n",
        "논리연산자와 관계연산자는 반복문이나 조건문에서 자주 사용된다.\n",
        "'''\n",
        "if 3 > 5 or 9 < 11:  # 3이 5보다 작거나 9가 11보다 작거나 둘 중 하나라도 맞으면 True.\n",
        "    print(\"둘 중 하나는 맞음\")"
      ],
      "id": "1db6b6a7",
      "execution_count": null,
      "outputs": [
        {
          "output_type": "stream",
          "text": [
            "둘 중 하나는 맞음\n"
          ],
          "name": "stdout"
        }
      ]
    },
    {
      "cell_type": "code",
      "metadata": {
        "id": "fd6523a6"
      },
      "source": [
        ""
      ],
      "id": "fd6523a6",
      "execution_count": null,
      "outputs": []
    }
  ]
}