{
  "nbformat": 4,
  "nbformat_minor": 5,
  "metadata": {
    "kernelspec": {
      "display_name": "Python 3",
      "language": "python",
      "name": "python3"
    },
    "language_info": {
      "codemirror_mode": {
        "name": "ipython",
        "version": 3
      },
      "file_extension": ".py",
      "mimetype": "text/x-python",
      "name": "python",
      "nbconvert_exporter": "python",
      "pygments_lexer": "ipython3",
      "version": "3.7.10"
    },
    "toc": {
      "base_numbering": 1,
      "nav_menu": {},
      "number_sections": true,
      "sideBar": true,
      "skip_h1_title": false,
      "title_cell": "Table of Contents",
      "title_sidebar": "Contents",
      "toc_cell": true,
      "toc_position": {},
      "toc_section_display": true,
      "toc_window_display": false
    },
    "colab": {
      "name": "ML_Tensorflow1.ipynb",
      "provenance": [],
      "include_colab_link": true
    }
  },
  "cells": [
    {
      "cell_type": "markdown",
      "metadata": {
        "id": "view-in-github",
        "colab_type": "text"
      },
      "source": [
        "<a href=\"https://colab.research.google.com/github/finddme/Python/blob/master/ML_Tensorflow1.ipynb\" target=\"_parent\"><img src=\"https://colab.research.google.com/assets/colab-badge.svg\" alt=\"Open In Colab\"/></a>"
      ]
    },
    {
      "cell_type": "markdown",
      "metadata": {
        "toc": true,
        "id": "318d2cce"
      },
      "source": [
        "<h1>Table of Contents<span class=\"tocSkip\"></span></h1>\n",
        "<div class=\"toc\"><ul class=\"toc-item\"><li><span><a href=\"#Tensorflow\" data-toc-modified-id=\"Tensorflow-1\"><span class=\"toc-item-num\">1&nbsp;&nbsp;</span>Tensorflow</a></span><ul class=\"toc-item\"><li><span><a href=\"#Tensorflow-|-Session\" data-toc-modified-id=\"Tensorflow-|-Session-1.1\"><span class=\"toc-item-num\">1.1&nbsp;&nbsp;</span>Tensorflow | Session</a></span></li><li><span><a href=\"#Tensorflow-|-상수(constant)\" data-toc-modified-id=\"Tensorflow-|-상수(constant)-1.2\"><span class=\"toc-item-num\">1.2&nbsp;&nbsp;</span>Tensorflow | 상수(constant)</a></span></li><li><span><a href=\"#Tensorflow-|-변수\" data-toc-modified-id=\"Tensorflow-|-변수-1.3\"><span class=\"toc-item-num\">1.3&nbsp;&nbsp;</span>Tensorflow | 변수</a></span></li><li><span><a href=\"#Tensorflow-|-placeholder\" data-toc-modified-id=\"Tensorflow-|-placeholder-1.4\"><span class=\"toc-item-num\">1.4&nbsp;&nbsp;</span>Tensorflow | placeholder</a></span></li><li><span><a href=\"#Tensorflow-|-tensorflow를-활용한-머신러닝-예제\" data-toc-modified-id=\"Tensorflow-|-tensorflow를-활용한-머신러닝-예제-1.5\"><span class=\"toc-item-num\">1.5&nbsp;&nbsp;</span>Tensorflow | tensorflow를 활용한 머신러닝 예제</a></span></li></ul></li></ul></div>"
      ],
      "id": "318d2cce"
    },
    {
      "cell_type": "markdown",
      "metadata": {
        "id": "b1219a4f"
      },
      "source": [
        "## Tensorflow\n",
        "\n",
        "텐서플로우는 머신러닝 라이브러리이다. 머신러닝 구현을 간단하게 만들어준다.\n",
        "\n",
        "(본 게시물에서는 텐서플로우 1.x버전을 사용하였다.)"
      ],
      "id": "b1219a4f"
    },
    {
      "cell_type": "code",
      "metadata": {
        "id": "74856e44",
        "outputId": "aa189eca-ab55-4549-e345-5944651a77be"
      },
      "source": [
        "import tensorflow.compat.v1 as tf # 텐서플로우를 불러온다.\n",
        "tf.disable_v2_behavior()"
      ],
      "id": "74856e44",
      "execution_count": null,
      "outputs": [
        {
          "output_type": "stream",
          "text": [
            "WARNING:tensorflow:From C:\\Users\\yein4\\Anaconda3\\lib\\site-packages\\tensorflow\\python\\compat\\v2_compat.py:96: disable_resource_variables (from tensorflow.python.ops.variable_scope) is deprecated and will be removed in a future version.\n",
            "Instructions for updating:\n",
            "non-resource variables are not supported in the long term\n"
          ],
          "name": "stdout"
        }
      ]
    },
    {
      "cell_type": "code",
      "metadata": {
        "id": "975ebb05",
        "outputId": "1a9570d2-c841-43c5-f187-3ee38597913c"
      },
      "source": [
        "# 버전1이 잘 돌아가는지 확인해보자\n",
        "hey1 = tf.constant(\"Hey World\")\n",
        "sess1 = tf.Session()\n",
        "print(sess1.run(hey1))\n",
        "# 잘 돌아간다."
      ],
      "id": "975ebb05",
      "execution_count": null,
      "outputs": [
        {
          "output_type": "stream",
          "text": [
            "b'Hey World'\n"
          ],
          "name": "stdout"
        }
      ]
    },
    {
      "cell_type": "markdown",
      "metadata": {
        "id": "98dca00d"
      },
      "source": [
        "### Tensorflow | Session\n",
        "\n",
        "텐서플로우는 방향그래프를 기반으로하는 기계학습 라이브러리로, 이름처럼 텐서와 그의 흐름을 통해 동작한다. 내부적으로 그래프에 데이터 플로우가 형성되어 동작한다고 한다.\n",
        "수행할 식을 정의한 후에 그 식에 데이터를 흘려보내는 방식으로 동작한다고 생각하면 쉽다. "
      ],
      "id": "98dca00d"
    },
    {
      "cell_type": "code",
      "metadata": {
        "id": "d362125b"
      },
      "source": [
        "a = tf.constant(20.8) # a라는 변수에 20.8이 담긴 배열(텐서)를 담아준다\n",
        "b = tf.constant(18.2) # b라는 변수에 18.2가 담긴 배열(텐서)를 담아준다\n",
        "\n",
        "c = tf.add(a, b) # c에 a와 b를 더한 값을 넣는다."
      ],
      "id": "d362125b",
      "execution_count": null,
      "outputs": []
    },
    {
      "cell_type": "code",
      "metadata": {
        "id": "29655681"
      },
      "source": [
        "'''\n",
        "# print(c)\n",
        "c를 결과를 출력하기 위해서 print(c)를 하면 그냥 텐서객체가 출력된다. \n",
        "텐서플로우의 데이터 처리 단위는 텐서이다.\n",
        "c 자체는 텐서객체이기 때문에 c를 출력하면 텐서가 그대로 출력되는 것이다.\n",
        "c는 add()연산을 하는 함수를 담고 있지만 아직 연산이 실행되기 전의 배열이다.\n",
        "그러니까 c는 그냥 식(그래프)를 정의한 것만 담고 있는 것이다. \n",
        "\n",
        "c에 정의된 연산을 수행하기 위해서는 데이터의 흐름을 만들어줘야 한다.\n",
        "즉, 식(그래프)는 데이터가 흐를 물길 개념인데 거기에 데이터를 흘려보내줄 역할이 필요한 것이다.\n",
        "\n",
        "흐름을 만드는 것은 Session()이 수행한다.\n",
        "'''"
      ],
      "id": "29655681",
      "execution_count": null,
      "outputs": []
    },
    {
      "cell_type": "code",
      "metadata": {
        "id": "6c5f4c92",
        "outputId": "22919b94-5df8-404e-b490-6f6935184c9b"
      },
      "source": [
        "# 수식을 실행하도록 하는 세션을 만든다.\n",
        "sess1 = tf.Session() # 세션 객체를 만들고\n",
        "sess1.run(c) # 그 세션객체가 연산식을 수행시킬 수 있도록 run을 해준다.\n",
        "# run()은 살짝 방류 트리거 느낌이랄까 뭐 그런거다"
      ],
      "id": "6c5f4c92",
      "execution_count": null,
      "outputs": [
        {
          "output_type": "execute_result",
          "data": {
            "text/plain": [
              "39.0"
            ]
          },
          "metadata": {
            "tags": []
          },
          "execution_count": 4
        }
      ]
    },
    {
      "cell_type": "markdown",
      "metadata": {
        "id": "d1bfd0f2"
      },
      "source": [
        "### Tensorflow | 상수(constant)\n",
        "\n",
        "상수는 변하지 않는 값을 의미한다. 텐서플로우에서는 constant()함수를 통해 상수를 정의할 수 있다.\n",
        "\n",
        "constant()는 하나의 텐서자료형을 반환한다. 텐서 자료형은 일종의 배열이라고 생각하면 된다. "
      ],
      "id": "d1bfd0f2"
    },
    {
      "cell_type": "code",
      "metadata": {
        "id": "f86c25d1",
        "outputId": "2780ef7d-71f6-4bcd-f6ce-78a7ad750ca0"
      },
      "source": [
        "# a라는 변수에 하나의 텐서를 넣어준다. \n",
        "# (1이라는 원소를 가진 배열(텐서)을 변수 a에 담아준다.)\n",
        "a = tf.constant(1) \n",
        "b = tf.constant(2) # 2라는 원소를 가진 배열(텐서)을 b라는 변수에 담아준다.\n",
        "\n",
        "# add()함수를 이용해 a와 b를 더한 텐서값을 c라는 변수에 담아준다.\n",
        "c = tf.add(a, b)\n",
        "\n",
        "# 수식을 실행하도록 하는 세션을 만든다.\n",
        "sess2 = tf.Session() # 세션 객체를 만들고\n",
        "sess2.run(c) # 만든 Session을 이용해서 정의한 연산을 수행해준다."
      ],
      "id": "f86c25d1",
      "execution_count": null,
      "outputs": [
        {
          "output_type": "execute_result",
          "data": {
            "text/plain": [
              "3"
            ]
          },
          "metadata": {
            "tags": []
          },
          "execution_count": 5
        }
      ]
    },
    {
      "cell_type": "markdown",
      "metadata": {
        "id": "21bdfcac"
      },
      "source": [
        "### Tensorflow | 변수\n",
        "\n",
        "상수와 크게 다르지 않은데, 변수는 변하는 값이기 때문에 변수에 대한 흐름은 초기화가 필요하다.\n",
        "\n",
        "그래서 초기화 과정이 추가된 것 이외에는 상수와 다 똑같다.\n",
        "\n",
        "초기화에는 global_variable_initializer()를 사용한다. 말 그대로 변수 초기화"
      ],
      "id": "21bdfcac"
    },
    {
      "cell_type": "code",
      "metadata": {
        "id": "d7a4ed10",
        "outputId": "5836be17-f066-413f-ec49-c50004a08e67"
      },
      "source": [
        "a = tf.Variable(2) # a라는 변수를 만들고 그 값을 2로 초기화해 준다.\n",
        "b = tf.Variable(3) # b라는 변수를 만들고 그 값을 3으로 초기화해 준다.\n",
        "c = tf.multiply(a, b) # c에는 a와 b를 곱하는 연산 식을 담아준다\n",
        "# a, b, c는 아직 그냥 텐서 자료형만 가지고 있다. 아무런 연산이 진행되지 않았다.\n",
        "\n",
        "# 세션으로 흘려보낼 데이터가 변수라면, 초기화를 해줘야 한다.\n",
        "init1 = tf.global_variables_initializer()\n",
        "sess3 = tf.Session() # 세션 객체를 만들고\n",
        "\n",
        "sess3.run(init1) # 세션을 초기화해주고 \n",
        "sess3.run(c) # 세션을 통해 연산을 수행한다."
      ],
      "id": "d7a4ed10",
      "execution_count": null,
      "outputs": [
        {
          "output_type": "execute_result",
          "data": {
            "text/plain": [
              "6"
            ]
          },
          "metadata": {
            "tags": []
          },
          "execution_count": 7
        }
      ]
    },
    {
      "cell_type": "code",
      "metadata": {
        "id": "cefdb0be",
        "outputId": "e7335daf-8f48-496c-acce-c1356b1b0a91"
      },
      "source": [
        "# 위에서 정의한 a는 변수이기 때문에 값을 바꿀 수 있다.\n",
        "a = tf.Variable(8) # a라는 변수에 있는 값을 8로 초기화해주고\n",
        "c = tf.multiply(a, b) # a와 b를 곱하는 연산식을 세우고\n",
        "\n",
        "# 변수 값이 바뀌었으니까 세션을 초기화할 변수를 만들어주고\n",
        "init1 = tf.global_variables_initializer() \n",
        "sess3.run(init1) # 세션을 초기화시킨 다음에\n",
        "sess3.run(c) # 다시 c라는 텐서를 수행하도록 한다."
      ],
      "id": "cefdb0be",
      "execution_count": null,
      "outputs": [
        {
          "output_type": "execute_result",
          "data": {
            "text/plain": [
              "24"
            ]
          },
          "metadata": {
            "tags": []
          },
          "execution_count": 8
        }
      ]
    },
    {
      "cell_type": "markdown",
      "metadata": {
        "id": "1a95328f"
      },
      "source": [
        "### Tensorflow | placeholder\n",
        "\n",
        "placeholder는 다른 텐서를 할당하기 위해 사용된다.그리고 다른 텐서를 할당하는 것을 fedding이라고 한다. 그래서 placeholder로 다른 텐서를 할당 받을 준비가 된 변수는 run()을 수행할 때 feed_dict라는 속성으로 다른 텐서를 할당 받는다.\n",
        "\n",
        "placeholder를 그릇이라고 생각하면 간단하다. 데이터를 담을 그릇\n",
        "\n",
        "텐서 자체는 다차원 배열과 같기 때문에 placeholder로 사용할 수 있는 값도 배열이어야 한다.\n",
        "\n",
        "- placeholder 속성:  \n",
        "  placeholder(datatype, shape, name)\n",
        "  \n",
        "  \n",
        "- feed_dicht 형태:   \n",
        "  {placeholder : placeholder에 할당할 텐서}"
      ],
      "id": "1a95328f"
    },
    {
      "cell_type": "code",
      "metadata": {
        "id": "663b9d56",
        "outputId": "6f7552da-f34c-4409-f35f-58ad69c5e87f"
      },
      "source": [
        "input1 = [1, 2, 3, 4, 5] # input값을 정의한다.\n",
        "\n",
        "# x를 placeholder로 정의한다. datatype에는 float형태로 들어갈 수 있도록 한다.\n",
        "x = tf.placeholder(dtype=tf.float32) \n",
        "y = x + 5 # 그래프(식)을 정의한다\n",
        "\n",
        "# 위와 같이 입력 값과 설계된 수식을 완전히 분리함으로써 \n",
        "# 보다 간단하게 데이터를 학습시키고 관리할 수 있다.\n",
        "\n",
        "sess1 = tf.Session() # 세션을 만들고\n",
        "#세션을 돌린다. y라는 수식의 x부분을 input1로 초기화를 하겠다고 feeding해준다.\n",
        "# x라는 placeholder에 실질적인 값으로 input1을 넣겠다고 하는 것이다.\n",
        "sess1.run(y, feed_dict={x : input1}) "
      ],
      "id": "663b9d56",
      "execution_count": null,
      "outputs": [
        {
          "output_type": "execute_result",
          "data": {
            "text/plain": [
              "array([ 6.,  7.,  8.,  9., 10.], dtype=float32)"
            ]
          },
          "metadata": {
            "tags": []
          },
          "execution_count": 9
        }
      ]
    },
    {
      "cell_type": "code",
      "metadata": {
        "id": "c85c414e",
        "outputId": "db47a2b9-2573-4189-b718-ad4ddec83f3d"
      },
      "source": [
        "score1 = [70, 80, 88, 90, 97] # score1에 5팀의 첫 번째 점수를 넣는다.\n",
        "score2 = [82, 94, 71, 85, 70] # score2dp 5팀의 두 번째 점수를 넣는다.\n",
        "\n",
        "# 두 개의 placeholder를 만들어준다.\n",
        "x1 = tf.placeholder(dtype = tf.float32)\n",
        "x2 = tf.placeholder(dtype = tf.float32)\n",
        "y = (x1 + x2) / 2 # 수식을 정의한다.\n",
        "\n",
        "sess1 = tf.Session() # 세션을 만들고\n",
        "# 실행한다. y라는 수식을 실행하는데, x1에는 score1로, x2에는 score2로 입력값을 초기화해준다.\n",
        "sess1.run(y, feed_dict={x1 : score1, x2 : score2})"
      ],
      "id": "c85c414e",
      "execution_count": null,
      "outputs": [
        {
          "output_type": "execute_result",
          "data": {
            "text/plain": [
              "array([76. , 87. , 79.5, 87.5, 83.5], dtype=float32)"
            ]
          },
          "metadata": {
            "tags": []
          },
          "execution_count": 10
        }
      ]
    },
    {
      "cell_type": "markdown",
      "metadata": {
        "id": "9e457c9a"
      },
      "source": [
        "### Tensorflow | tensorflow를 활용한 머신러닝 예제"
      ],
      "id": "9e457c9a"
    },
    {
      "cell_type": "code",
      "metadata": {
        "id": "b20e4d71",
        "outputId": "7e92e2a9-2b66-4b23-e1ad-991b9bd8a2c3"
      },
      "source": [
        "'''\n",
        "예시 데이터를 기계학습에 적용한 후 특정 입력값에 대한 출력값을 예측하는 프로그램을 작성해보자.\n",
        "\n",
        "x시간 등산으로 태워지는 칼로리를 y라고 하자\n",
        "가볍게 아차산 정도 등산했다고 가정하자\n",
        "중간중간 쉬기도 하고 정상 가서는 멍때리고 하니까 칼로리 소모량이 일정하게 증가하지는 않을 것이다.\n",
        "실제로 등산 7시간 하면 내일이 없을 수 있지만 그냥 만들어보자\n",
        "'''\n",
        "\n",
        "xData = [1, 2, 3, 4, 5, 6, 7] # x축 데이터에는 등산 시간\n",
        "yData = [450, 700, 850, 1000, 1300, 1500, 1700] # y축 데이터에는 칼로리 소모량\n",
        "\n",
        "# 가설의 기울기(W)값을 넣어준다. W는 weight(가중치)의 줄임말이다.\n",
        "# W에는 하나의 초기 값으로서 랜덤한 값으로 100에서 100사이의 값이 들어가도록 한다.\n",
        "# (random_uniform은 하나의 랜덤값을 넣어준다.)\n",
        "W = tf.Variable(tf.random_uniform([], -100, 100))\n",
        "# 가설의 y절편(b)값을 넣어준다. b는 bias(편향)의 줄임말이다.\n",
        "b = tf.Variable(tf.random_uniform([], -100, 100))\n",
        "\n",
        "# X와 Y를 placeholder로 정의해준다. placeholder는 하나의 틀이다.\n",
        "X = tf.placeholder(tf.float32)\n",
        "Y = tf.placeholder(tf.float32)\n",
        "\n",
        "H = W * X + b # 가설(식)을 정의한다.\n",
        "\n",
        "# 비용함수를 정의한다. \n",
        "# H(예측 값)에서 Y(실제 값)을 배고, tf.square(제곱)을 하고, tf.reduce_mean(평균)값을 구한다.\n",
        "cost1 = tf.reduce_mean(tf.square(H - Y))\n",
        "\n",
        "# 경사하강(Gradient Descent) 알고리즘에서 한번에 얼만큼 점프할 것인지 스탭의 크기를 정해준다.\n",
        "a = tf.Variable(0.01)\n",
        "\n",
        "# train.GradientDescentOptimizer는 텐서플로우에서 제공하는 경사하강 라이브러리이다.\n",
        "# 경사하강을 하는데, 그 스탭은 a만큼(0.01만큼)\n",
        "optimizer1 = tf.train.GradientDescentOptimizer(a)\n",
        "\n",
        "# 비용함수를 최소화하는 방향으로 경사하강을 진행한다.\n",
        "train1 = optimizer1.minimize(cost1)\n",
        "\n",
        "# 이제 실제로 학습을 수행하기 위해 변수 초기화를 해주고, 세션을 정의하고, 세션을 초기화해준다.\n",
        "init1 = tf.global_variables_initializer()\n",
        "sess = tf.Session()\n",
        "sess.run(init1)\n",
        "\n",
        "# 1. i가 인덱스 5000까지 반복할 수 있도록 한다.\n",
        "# 2. xData와 yData를 각각 X와 Y에 매칭키쳐준다\n",
        "# 3. 500번에 한번씩 학습이 이루어지는 상태를 출력한다.\n",
        "# 4. i(현재까지 진행된 학습 횟수), 비용함수, 기울기, y절편을 출력한다.\n",
        "for i in range(5001): # 1\n",
        "    sess.run(train1, feed_dict = {X: xData, Y: yData}) # 2\n",
        "    if i % 500 == 0: # 3\n",
        "        print(i, sess.run(cost1, feed_dict= {X: xData, Y: yData}), \n",
        "              sess.run(W), sess.run(b)) # 4\n",
        "# 모든 학습이 끝난 이후에 특정 입력 값에 대한 결과를 출력할 수 있도록 한다.\n",
        "# 8시간 등산했을 때의 칼로리 소모량을 구해보자. X에 8을 넣으면 프로그램이 예측값 Y를 반환해준다.\n",
        "print(\"Day 8 predict: \", sess.run(H, feed_dict= {X : [8]}))\n",
        "              \n",
        "# 학습되는 것을 보면 변화 폭이 크다가 점점 작아지고 이후에는 특정 값에 수렴하는 것을 확인할 수 있다.\n",
        "# 이는 프로그램이 합리적인 가설식을 발견했기 때문이다."
      ],
      "id": "b20e4d71",
      "execution_count": null,
      "outputs": [
        {
          "output_type": "stream",
          "text": [
            "0 548909.2 73.16292 88.86076\n",
            "500 1185.6504 210.73198 225.08403\n",
            "1000 1123.7922 207.66588 240.26723\n",
            "1500 1122.4767 207.21907 242.47974\n",
            "2000 1122.4498 207.15398 242.80206\n",
            "2500 1122.449 207.1445 242.84901\n",
            "3000 1122.4496 207.14333 242.85487\n",
            "3500 1122.4496 207.14333 242.85487\n",
            "4000 1122.4496 207.14333 242.85487\n",
            "4500 1122.4496 207.14333 242.85487\n",
            "5000 1122.4496 207.14333 242.85487\n",
            "Day 8 predict:  [1900.0015]\n"
          ],
          "name": "stdout"
        }
      ]
    },
    {
      "cell_type": "code",
      "metadata": {
        "id": "29eb4a42"
      },
      "source": [
        ""
      ],
      "id": "29eb4a42",
      "execution_count": null,
      "outputs": []
    }
  ]
}